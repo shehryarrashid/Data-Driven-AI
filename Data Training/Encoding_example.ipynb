{
 "cells": [
  {
   "cell_type": "code",
   "execution_count": 1,
   "id": "0883b5b1",
   "metadata": {},
   "outputs": [],
   "source": [
    "import pandas as pd\n",
    "from sklearn.preprocessing import OneHotEncoder, OrdinalEncoder, LabelEncoder\n",
    "from sklearn.compose import ColumnTransformer\n",
    "from sklearn.pipeline import Pipeline\n",
    "from sklearn.model_selection import train_test_split"
   ]
  },
  {
   "cell_type": "code",
   "execution_count": 2,
   "id": "d37336f5",
   "metadata": {},
   "outputs": [],
   "source": [
    "# Sample dataset\n",
    "data = {\n",
    "    'City': ['New York', 'Los Angeles', 'Chicago', 'Houston', 'Phoenix'],\n",
    "    'Education': ['Bachelors', 'Masters', 'PhD', 'Bachelors', 'Masters'],\n",
    "    'Gender': ['Male', 'Female', 'Female', 'Male', 'Male'],\n",
    "    'Experience': [5, 10, 15, 20, 25],\n",
    "    'Salary': [50000, 60000, 80000, 90000, 120000]\n",
    "}"
   ]
  },
  {
   "cell_type": "code",
   "execution_count": 3,
   "id": "2723669e",
   "metadata": {},
   "outputs": [],
   "source": [
    "df = pd.DataFrame(data)"
   ]
  },
  {
   "cell_type": "code",
   "execution_count": null,
   "id": "4e093ea7",
   "metadata": {},
   "outputs": [],
   "source": [
    "# Split the data into features (X) and target (y)\n",
    "X = df[['City', 'Education', 'Gender', 'Experience']]  # Features\n",
    "y = df['Salary']  # Target"
   ]
  },
  {
   "cell_type": "code",
   "execution_count": null,
   "id": "9668263f",
   "metadata": {},
   "outputs": [],
   "source": [
    "# OneHotEncoder for the 'City' column (nominal categorical data)\n",
    "# OrdinalEncoder for the 'Education' column (ordinal categorical data)\n",
    "# LabelEncoder can be applied to the 'Gender' column, but we'll do it separately later\n",
    "\n",
    "# First, define which encoding to apply for each feature\n",
    "preprocessor = ColumnTransformer(\n",
    "    transformers=[\n",
    "        ('onehot', OneHotEncoder(), ['City']),              # OneHotEncoder for nominal data\n",
    "        ('ordinal', OrdinalEncoder(categories=[['Bachelors', 'Masters', 'PhD']]), ['Education'])  # Ordinal encoding\n",
    "    ])"
   ]
  },
  {
   "cell_type": "code",
   "execution_count": null,
   "id": "94353d67",
   "metadata": {},
   "outputs": [],
   "source": [
    "# Define the pipeline with the preprocessor\n",
    "pipe = Pipeline(steps=[('preprocessor', preprocessor)])"
   ]
  },
  {
   "cell_type": "code",
   "execution_count": null,
   "id": "7cbee842",
   "metadata": {},
   "outputs": [],
   "source": [
    "# Split the data into train and test\n",
    "X_train, X_test, y_train, y_test = train_test_split(X, y, test_size=0.2, random_state=42)"
   ]
  },
  {
   "cell_type": "code",
   "execution_count": null,
   "id": "d3ce0e26",
   "metadata": {
    "scrolled": true
   },
   "outputs": [],
   "source": [
    "# Fit and transform the training data\n",
    "X_train_transformed = pipe.fit_transform(X_train)\n",
    "print(\"Transformed Training Data (after encoding):\\n\", X_train_transformed)"
   ]
  },
  {
   "cell_type": "code",
   "execution_count": null,
   "id": "dc5f82a6",
   "metadata": {},
   "outputs": [],
   "source": [
    "# Transform the test data\n",
    "X_test_transformed = pipe.transform(X_test)  # Here, you will get error.\n",
    "\n",
    "print(\"Transformed Test Data (after encoding):\\n\", X_test_transformed)   "
   ]
  },
  {
   "cell_type": "markdown",
   "id": "d1ba42ec",
   "metadata": {},
   "source": [
    "# The error ValueError: Found unknown categories ['Los Angeles'] in column 0 during transform occurs because OneHotEncoder is trying to transform the test data (X_test), but it encounters a category ('Los Angeles') that was not seen during the training phase (fit_transform on X_train).                                        "
   ]
  },
  {
   "cell_type": "markdown",
   "id": "00e86c2d",
   "metadata": {},
   "source": [
    "# To prevent this, you can use the handle_unknown='ignore' parameter in the OneHotEncoder."
   ]
  },
  {
   "cell_type": "code",
   "execution_count": null,
   "id": "69266b11",
   "metadata": {},
   "outputs": [],
   "source": [
    "preprocessor = ColumnTransformer(\n",
    "    transformers=[\n",
    "        ('onehot', OneHotEncoder(handle_unknown='ignore'), ['City']),  # handle unknown categories in test set\n",
    "        ('ordinal', OrdinalEncoder(categories=[['Bachelors', 'Masters', 'PhD']]), ['Education'])  # Ordinal encoding\n",
    "    ])"
   ]
  },
  {
   "cell_type": "code",
   "execution_count": null,
   "id": "2b2cddc2",
   "metadata": {},
   "outputs": [],
   "source": [
    "# Define the pipeline with the preprocessor\n",
    "pipe = Pipeline(steps=[('preprocessor', preprocessor)])"
   ]
  },
  {
   "cell_type": "code",
   "execution_count": null,
   "id": "90fd9a3c",
   "metadata": {},
   "outputs": [],
   "source": [
    "# Split the data into train and test\n",
    "X_train, X_test, y_train, y_test = train_test_split(X, y, test_size=0.2, random_state=42)"
   ]
  },
  {
   "cell_type": "code",
   "execution_count": null,
   "id": "74c6307f",
   "metadata": {},
   "outputs": [],
   "source": [
    "# Fit and transform the training data\n",
    "X_train_transformed = pipe.fit_transform(X_train)\n",
    "print(\"Transformed Training Data (after encoding):\\n\", X_train_transformed)"
   ]
  },
  {
   "cell_type": "code",
   "execution_count": null,
   "id": "76d609ec",
   "metadata": {},
   "outputs": [],
   "source": [
    "# Transform the test data\n",
    "X_test_transformed = pipe.transform(X_test)\n",
    "\n",
    "print(\"Transformed Test Data (after encoding):\\n\", X_test_transformed)   # Here you will get error. \n"
   ]
  },
  {
   "cell_type": "code",
   "execution_count": null,
   "id": "56b68bc5",
   "metadata": {},
   "outputs": [],
   "source": [
    "# Applying LabelEncoder separately to the 'Gender' column\n",
    "le = LabelEncoder()\n",
    "X_train['Gender'] = le.fit_transform(X_train['Gender'])\n",
    "X_test['Gender'] = le.transform(X_test['Gender'])  # Make sure you use `transform` and not `fit_transform`"
   ]
  },
  {
   "cell_type": "code",
   "execution_count": null,
   "id": "e050443e",
   "metadata": {},
   "outputs": [],
   "source": [
    "# Adding the LabelEncoded Gender back to transformed data\n",
    "print(\"\\nEncoded Gender Column for Training:\\n\", X_train['Gender'])\n",
    "print(\"\\nEncoded Gender Column for Test:\\n\", X_test['Gender'])"
   ]
  },
  {
   "cell_type": "code",
   "execution_count": null,
   "id": "a3e65b3c",
   "metadata": {},
   "outputs": [],
   "source": []
  }
 ],
 "metadata": {
  "kernelspec": {
   "display_name": "base",
   "language": "python",
   "name": "python3"
  },
  "language_info": {
   "codemirror_mode": {
    "name": "ipython",
    "version": 3
   },
   "file_extension": ".py",
   "mimetype": "text/x-python",
   "name": "python",
   "nbconvert_exporter": "python",
   "pygments_lexer": "ipython3",
   "version": "3.12.4"
  }
 },
 "nbformat": 4,
 "nbformat_minor": 5
}
