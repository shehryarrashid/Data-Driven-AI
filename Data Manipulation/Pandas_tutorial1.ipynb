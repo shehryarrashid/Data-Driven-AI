{
 "cells": [
  {
   "cell_type": "markdown",
   "id": "3XE-GC7PvOBN",
   "metadata": {
    "id": "3XE-GC7PvOBN"
   },
   "source": [
    "# Pandas tutorial"
   ]
  },
  {
   "cell_type": "markdown",
   "id": "q72dXwaog4h7",
   "metadata": {
    "id": "q72dXwaog4h7"
   },
   "source": [
    "## 1. Setup\n"
   ]
  },
  {
   "cell_type": "markdown",
   "id": "vSvx8LjDp6Yh",
   "metadata": {
    "id": "vSvx8LjDp6Yh"
   },
   "source": [
    "### Import\n",
    "\n",
    "Before moving on to learn pandas first we need to install it and import it. If you install [Anaconda distributions](https://www.anaconda.com/) on your local machine or using [Google Colab](https://research.google.com/colaboratory) then pandas will already be available there, otherwise, you follow this installation process from [pandas official's website](https://pandas.pydata.org/docs/getting_started/install.html)."
   ]
  },
  {
   "cell_type": "code",
   "execution_count": 2,
   "id": "e7dcee3a",
   "metadata": {
    "id": "e7dcee3a"
   },
   "outputs": [],
   "source": [
    "# Importing libraries\n",
    "import pandas as pd"
   ]
  },
  {
   "cell_type": "code",
   "execution_count": 3,
   "id": "CeSsGkTMiMcI",
   "metadata": {
    "id": "CeSsGkTMiMcI"
   },
   "outputs": [],
   "source": [
    "# we can set numbers for how many rows and columns will be displayed\n",
    "pd.set_option('display.min_rows', 10) #default will be 10 \n",
    "pd.set_option('display.max_columns', 20)"
   ]
  },
  {
   "cell_type": "markdown",
   "id": "b67582cf-c755-4ef5-a6ff-b2f6da1be90a",
   "metadata": {},
   "source": [
    "### Creating a dataframe\n",
    "\n",
    "A Pandas DataFrame is a 2 dimensional data structure, like a 2 dimensional array, or a table with rows and columns."
   ]
  },
  {
   "cell_type": "code",
   "execution_count": 4,
   "id": "8aac2521-1903-405e-9842-2c0c7dfdfac9",
   "metadata": {},
   "outputs": [
    {
     "name": "stdout",
     "output_type": "stream",
     "text": [
      "    cars  passings\n",
      "0    BMW         3\n",
      "1  Volvo         7\n",
      "2   Ford         2\n"
     ]
    }
   ],
   "source": [
    "mydataset = {\n",
    "  'cars': [\"BMW\", \"Volvo\", \"Ford\"],\n",
    "  'passings': [3, 7, 2]\n",
    "}\n",
    "\n",
    "my_df = pd.DataFrame(mydataset)\n",
    "\n",
    "print(my_df)"
   ]
  },
  {
   "cell_type": "markdown",
   "id": "ae17b8d7-ae9c-4c49-b5bc-373d66480ba6",
   "metadata": {},
   "source": [
    "### Labels\n",
    "> The default indexes are integers i.e. 0,1,2,... \n",
    "\n",
    " But you can define your own index or reindex a dataframe"
   ]
  },
  {
   "cell_type": "code",
   "execution_count": 5,
   "id": "ebce1fd6-85f8-4ee1-8f34-b65d8d722e2b",
   "metadata": {},
   "outputs": [
    {
     "name": "stdout",
     "output_type": "stream",
     "text": [
      "    cars  passings\n",
      "a    BMW         3\n",
      "b  Volvo         7\n",
      "c   Ford         2\n"
     ]
    }
   ],
   "source": [
    "mydataset = {\n",
    "  'cars': [\"BMW\", \"Volvo\", \"Ford\"],\n",
    "  'passings': [3, 7, 2]\n",
    "}\n",
    "\n",
    "my_df1 = pd.DataFrame(mydataset, index = [\"a\",\"b\", \"c\"])\n",
    "\n",
    "print(my_df1)"
   ]
  },
  {
   "cell_type": "markdown",
   "id": "031f33b4-138e-4d36-ab8a-f10056736b61",
   "metadata": {},
   "source": [
    "### Accessing rows in dataframe\n",
    "You can access the rows in a dataframe by using function loc and assining the index of the row"
   ]
  },
  {
   "cell_type": "code",
   "execution_count": 6,
   "id": "499e9b33-935d-4f16-b1df-1529af053582",
   "metadata": {},
   "outputs": [
    {
     "name": "stdout",
     "output_type": "stream",
     "text": [
      "cars        BMW\n",
      "passings      3\n",
      "Name: 0, dtype: object\n"
     ]
    }
   ],
   "source": [
    "# refer to the row index\n",
    "print(my_df.loc[0])"
   ]
  },
  {
   "cell_type": "code",
   "execution_count": 7,
   "id": "b3ae248a-18f6-4776-bbf2-5ce61918230c",
   "metadata": {},
   "outputs": [
    {
     "name": "stdout",
     "output_type": "stream",
     "text": [
      "cars        Ford\n",
      "passings       2\n",
      "Name: c, dtype: object\n"
     ]
    }
   ],
   "source": [
    "# refer to the row index\n",
    "print(my_df1.loc[\"c\"])"
   ]
  },
  {
   "cell_type": "code",
   "execution_count": 8,
   "id": "71785313-9b76-439a-9b07-64f64204e6e7",
   "metadata": {},
   "outputs": [
    {
     "name": "stdout",
     "output_type": "stream",
     "text": [
      "    cars  passings\n",
      "0    BMW         3\n",
      "1  Volvo         7\n"
     ]
    }
   ],
   "source": [
    "# return more than one row\n",
    "print(my_df.loc[[0,1]])"
   ]
  },
  {
   "cell_type": "markdown",
   "id": "68cb06b1",
   "metadata": {
    "id": "68cb06b1"
   },
   "source": [
    "## 2. Loading Different Data Formats Into a Pandas Data Frame\n",
    "\n",
    "\n"
   ]
  },
  {
   "cell_type": "markdown",
   "id": "7_X0klbRI24J",
   "metadata": {
    "id": "7_X0klbRI24J"
   },
   "source": [
    "### Reading CSV file\n"
   ]
  },
  {
   "cell_type": "code",
   "execution_count": 10,
   "id": "56739039",
   "metadata": {
    "colab": {
     "base_uri": "https://localhost:8080/",
     "height": 225
    },
    "id": "56739039",
    "outputId": "2550e4e4-8c6c-47eb-a005-a57c3990ffc0"
   },
   "outputs": [
    {
     "data": {
      "text/html": [
       "<div>\n",
       "<style scoped>\n",
       "    .dataframe tbody tr th:only-of-type {\n",
       "        vertical-align: middle;\n",
       "    }\n",
       "\n",
       "    .dataframe tbody tr th {\n",
       "        vertical-align: top;\n",
       "    }\n",
       "\n",
       "    .dataframe thead th {\n",
       "        text-align: right;\n",
       "    }\n",
       "</style>\n",
       "<table border=\"1\" class=\"dataframe\">\n",
       "  <thead>\n",
       "    <tr style=\"text-align: right;\">\n",
       "      <th></th>\n",
       "      <th>Transaction_date</th>\n",
       "      <th>Transaction_ID</th>\n",
       "      <th>Gender</th>\n",
       "      <th>Age</th>\n",
       "      <th>Marital_status</th>\n",
       "      <th>State_names</th>\n",
       "      <th>Segment</th>\n",
       "      <th>Employees_status</th>\n",
       "      <th>Payment_method</th>\n",
       "      <th>Referal</th>\n",
       "      <th>Amount_spent</th>\n",
       "    </tr>\n",
       "  </thead>\n",
       "  <tbody>\n",
       "    <tr>\n",
       "      <th>0</th>\n",
       "      <td>1/1/2019</td>\n",
       "      <td>151200</td>\n",
       "      <td>Female</td>\n",
       "      <td>19.0</td>\n",
       "      <td>Single</td>\n",
       "      <td>Kansas</td>\n",
       "      <td>Basic</td>\n",
       "      <td>Unemployment</td>\n",
       "      <td>Other</td>\n",
       "      <td>1.0</td>\n",
       "      <td>2051.36</td>\n",
       "    </tr>\n",
       "    <tr>\n",
       "      <th>1</th>\n",
       "      <td>1/1/2019</td>\n",
       "      <td>151201</td>\n",
       "      <td>Male</td>\n",
       "      <td>49.0</td>\n",
       "      <td>Single</td>\n",
       "      <td>Illinois</td>\n",
       "      <td>Basic</td>\n",
       "      <td>self-employed</td>\n",
       "      <td>Card</td>\n",
       "      <td>0.0</td>\n",
       "      <td>544.04</td>\n",
       "    </tr>\n",
       "    <tr>\n",
       "      <th>2</th>\n",
       "      <td>1/1/2019</td>\n",
       "      <td>151202</td>\n",
       "      <td>Male</td>\n",
       "      <td>63.0</td>\n",
       "      <td>Married</td>\n",
       "      <td>New Mexico</td>\n",
       "      <td>Basic</td>\n",
       "      <td>workers</td>\n",
       "      <td>PayPal</td>\n",
       "      <td>1.0</td>\n",
       "      <td>1572.60</td>\n",
       "    </tr>\n",
       "  </tbody>\n",
       "</table>\n",
       "</div>"
      ],
      "text/plain": [
       "  Transaction_date  Transaction_ID  Gender   Age Marital_status State_names  \\\n",
       "0         1/1/2019          151200  Female  19.0         Single      Kansas   \n",
       "1         1/1/2019          151201    Male  49.0         Single    Illinois   \n",
       "2         1/1/2019          151202    Male  63.0        Married  New Mexico   \n",
       "\n",
       "  Segment Employees_status Payment_method  Referal  Amount_spent  \n",
       "0   Basic     Unemployment          Other      1.0       2051.36  \n",
       "1   Basic    self-employed           Card      0.0        544.04  \n",
       "2   Basic          workers         PayPal      1.0       1572.60  "
      ]
     },
     "execution_count": 10,
     "metadata": {},
     "output_type": "execute_result"
    }
   ],
   "source": [
    "# read csv file\n",
    "\n",
    "df = pd.read_csv('./online_store_customer_data.csv')\n",
    "df.head(3)"
   ]
  },
  {
   "cell_type": "code",
   "execution_count": 14,
   "id": "jNRVw6Xk_zGE",
   "metadata": {
    "colab": {
     "base_uri": "https://localhost:8080/",
     "height": 187
    },
    "id": "jNRVw6Xk_zGE",
    "outputId": "5e94d5c8-5a8f-4e5a-e35a-eac2f25d80a4"
   },
   "outputs": [
    {
     "data": {
      "text/html": [
       "<div>\n",
       "<style scoped>\n",
       "    .dataframe tbody tr th:only-of-type {\n",
       "        vertical-align: middle;\n",
       "    }\n",
       "\n",
       "    .dataframe tbody tr th {\n",
       "        vertical-align: top;\n",
       "    }\n",
       "\n",
       "    .dataframe thead th {\n",
       "        text-align: right;\n",
       "    }\n",
       "</style>\n",
       "<table border=\"1\" class=\"dataframe\">\n",
       "  <thead>\n",
       "    <tr style=\"text-align: right;\">\n",
       "      <th></th>\n",
       "      <th>0</th>\n",
       "      <th>1</th>\n",
       "      <th>2</th>\n",
       "      <th>3</th>\n",
       "      <th>4</th>\n",
       "      <th>5</th>\n",
       "      <th>6</th>\n",
       "      <th>7</th>\n",
       "      <th>8</th>\n",
       "      <th>9</th>\n",
       "      <th>10</th>\n",
       "    </tr>\n",
       "  </thead>\n",
       "  <tbody>\n",
       "    <tr>\n",
       "      <th>0</th>\n",
       "      <td>1/1/2019</td>\n",
       "      <td>151201</td>\n",
       "      <td>Male</td>\n",
       "      <td>49.0</td>\n",
       "      <td>Single</td>\n",
       "      <td>Illinois</td>\n",
       "      <td>Basic</td>\n",
       "      <td>self-employed</td>\n",
       "      <td>Card</td>\n",
       "      <td>0.0</td>\n",
       "      <td>544.04</td>\n",
       "    </tr>\n",
       "    <tr>\n",
       "      <th>1</th>\n",
       "      <td>1/1/2019</td>\n",
       "      <td>151202</td>\n",
       "      <td>Male</td>\n",
       "      <td>63.0</td>\n",
       "      <td>Married</td>\n",
       "      <td>New Mexico</td>\n",
       "      <td>Basic</td>\n",
       "      <td>workers</td>\n",
       "      <td>PayPal</td>\n",
       "      <td>1.0</td>\n",
       "      <td>1572.60</td>\n",
       "    </tr>\n",
       "    <tr>\n",
       "      <th>2</th>\n",
       "      <td>1/1/2019</td>\n",
       "      <td>151203</td>\n",
       "      <td>NaN</td>\n",
       "      <td>18.0</td>\n",
       "      <td>Single</td>\n",
       "      <td>Virginia</td>\n",
       "      <td>Platinum</td>\n",
       "      <td>workers</td>\n",
       "      <td>Card</td>\n",
       "      <td>1.0</td>\n",
       "      <td>1199.79</td>\n",
       "    </tr>\n",
       "  </tbody>\n",
       "</table>\n",
       "</div>"
      ],
      "text/plain": [
       "         0       1     2     3        4           5         6              7   \\\n",
       "0  1/1/2019  151201  Male  49.0   Single    Illinois     Basic  self-employed   \n",
       "1  1/1/2019  151202  Male  63.0  Married  New Mexico     Basic        workers   \n",
       "2  1/1/2019  151203   NaN  18.0   Single    Virginia  Platinum        workers   \n",
       "\n",
       "       8    9        10  \n",
       "0    Card  0.0   544.04  \n",
       "1  PayPal  1.0  1572.60  \n",
       "2    Card  1.0  1199.79  "
      ]
     },
     "execution_count": 14,
     "metadata": {},
     "output_type": "execute_result"
    }
   ],
   "source": [
    "# Loading csv file with skip first 2 rows without header\n",
    "df_csv = pd.read_csv('./online_store_customer_data.csv', skiprows=2, header=None)\n",
    "df_csv.head(3)"
   ]
  },
  {
   "cell_type": "markdown",
   "id": "h6bQJPx5zJEm",
   "metadata": {
    "id": "h6bQJPx5zJEm"
   },
   "source": [
    "### Write CSV file"
   ]
  },
  {
   "cell_type": "code",
   "execution_count": 15,
   "id": "uykhkL_7zSMu",
   "metadata": {
    "id": "uykhkL_7zSMu"
   },
   "outputs": [],
   "source": [
    "# saving df_url dataframe to csv file\n",
    "df_csv.to_csv('./save_csv.csv')"
   ]
  },
  {
   "cell_type": "markdown",
   "id": "85b82301-c975-4552-802b-7baaa9418ad3",
   "metadata": {},
   "source": [
    "# 3 Working with columns"
   ]
  },
  {
   "cell_type": "markdown",
   "id": "55200915-5292-48ce-b8b5-688c41315af3",
   "metadata": {},
   "source": [
    "### Accessing all column names"
   ]
  },
  {
   "cell_type": "code",
   "execution_count": 11,
   "id": "597bf827-e1be-4aab-b269-49800326627b",
   "metadata": {},
   "outputs": [
    {
     "name": "stdout",
     "output_type": "stream",
     "text": [
      "Index(['Transaction_date', 'Transaction_ID', 'Gender', 'Age', 'Marital_status',\n",
      "       'State_names', 'Segment', 'Employees_status', 'Payment_method',\n",
      "       'Referal', 'Amount_spent'],\n",
      "      dtype='object')\n",
      "Transaction_date\n"
     ]
    }
   ],
   "source": [
    "# all columns\n",
    "print(df.columns)\n",
    "# one column name using index\n",
    "print(df.columns[0])"
   ]
  },
  {
   "cell_type": "markdown",
   "id": "de212955-ed28-43e6-86d3-a05de364dcda",
   "metadata": {},
   "source": [
    "Print column named \"Age\""
   ]
  },
  {
   "cell_type": "code",
   "execution_count": 13,
   "id": "6505e2ae-d259-4da4-a293-77d2b3a25ada",
   "metadata": {},
   "outputs": [
    {
     "name": "stdout",
     "output_type": "stream",
     "text": [
      "Age\n"
     ]
    }
   ],
   "source": [
    "## Write your answer here\n",
    "print(df.columns[3])"
   ]
  },
  {
   "cell_type": "markdown",
   "id": "a539d327-9b2c-4620-baaf-9e15ac9ef41f",
   "metadata": {},
   "source": [
    "### Rename Column"
   ]
  },
  {
   "cell_type": "code",
   "execution_count": 22,
   "id": "96f56395-b06e-4ef0-af58-6b00967ad75c",
   "metadata": {},
   "outputs": [
    {
     "name": "stdout",
     "output_type": "stream",
     "text": [
      "Index(['Transaction_date', 'Transaction_ID', 'Sex', 'Age', 'Marital_status',\n",
      "       'State_names', 'Segment', 'Employees_status', 'Payment_method',\n",
      "       'Referal', 'Amount_spent'],\n",
      "      dtype='object')\n"
     ]
    }
   ],
   "source": [
    "# df.rename(columns = {'old':'new'}, inplace=True)\n",
    "\n",
    "# Rename Gender to sex\n",
    "df.rename(columns= {'Gender':'Sex'}, inplace=True)\n",
    "# check if the column is renamed correctly\n",
    "print(df.columns)"
   ]
  },
  {
   "cell_type": "markdown",
   "id": "b27584a8-f6bc-4467-8a54-f4d844851148",
   "metadata": {},
   "source": [
    "### Accessing columns in dataframe"
   ]
  },
  {
   "cell_type": "code",
   "execution_count": 23,
   "id": "48c4c534-64c0-418f-a584-38dbe9e0fde3",
   "metadata": {},
   "outputs": [
    {
     "name": "stdout",
     "output_type": "stream",
     "text": [
      "# using .\n",
      "0       Female\n",
      "1         Male\n",
      "2         Male\n",
      "3          NaN\n",
      "4         Male\n",
      "         ...  \n",
      "2507    Female\n",
      "2508    Female\n",
      "2509      Male\n",
      "2510       NaN\n",
      "2511      Male\n",
      "Name: Sex, Length: 2512, dtype: object\n",
      "\n",
      "\n",
      " # using []\n",
      "0       Female\n",
      "1         Male\n",
      "2         Male\n",
      "3          NaN\n",
      "4         Male\n",
      "         ...  \n",
      "2507    Female\n",
      "2508    Female\n",
      "2509      Male\n",
      "2510       NaN\n",
      "2511      Male\n",
      "Name: Sex, Length: 2512, dtype: object\n"
     ]
    }
   ],
   "source": [
    "# using .\n",
    "print(\"# using .\")\n",
    "print(df.Sex)\n",
    "# using []\n",
    "print(\"\\n\\n # using []\")\n",
    "print(df['Sex'])"
   ]
  },
  {
   "cell_type": "markdown",
   "id": "dba1d518-df59-40e6-b930-2c34b2905844",
   "metadata": {},
   "source": [
    "### Difference between series and dataframe as return type"
   ]
  },
  {
   "cell_type": "code",
   "execution_count": 24,
   "id": "2a2d7113-adcf-46a4-99cb-0077d1797533",
   "metadata": {},
   "outputs": [
    {
     "name": "stdout",
     "output_type": "stream",
     "text": [
      "0       Female\n",
      "1         Male\n",
      "2         Male\n",
      "3          NaN\n",
      "4         Male\n",
      "         ...  \n",
      "2507    Female\n",
      "2508    Female\n",
      "2509      Male\n",
      "2510       NaN\n",
      "2511      Male\n",
      "Name: Sex, Length: 2512, dtype: object\n",
      "         Sex\n",
      "0     Female\n",
      "1       Male\n",
      "2       Male\n",
      "3        NaN\n",
      "4       Male\n",
      "...      ...\n",
      "2507  Female\n",
      "2508  Female\n",
      "2509    Male\n",
      "2510     NaN\n",
      "2511    Male\n",
      "\n",
      "[2512 rows x 1 columns]\n"
     ]
    }
   ],
   "source": [
    "# The following return a series\n",
    "s = df['Sex']\n",
    "print(s)\n",
    "# The following return a dataframe\n",
    "s = df [['Sex']]\n",
    "print(s)"
   ]
  },
  {
   "cell_type": "markdown",
   "id": "47800c59-8c1c-4f52-9e02-4b311abb9afe",
   "metadata": {},
   "source": [
    "### Change order of selected columns"
   ]
  },
  {
   "cell_type": "code",
   "execution_count": 25,
   "id": "c06ff169-012a-42ed-819d-814104ab4943",
   "metadata": {},
   "outputs": [
    {
     "name": "stdout",
     "output_type": "stream",
     "text": [
      "         Sex   Age\n",
      "0     Female  19.0\n",
      "1       Male  49.0\n",
      "2       Male  63.0\n",
      "3        NaN  18.0\n",
      "4       Male  27.0\n",
      "...      ...   ...\n",
      "2507  Female  57.0\n",
      "2508  Female  36.0\n",
      "2509    Male  22.0\n",
      "2510     NaN  44.0\n",
      "2511    Male  48.0\n",
      "\n",
      "[2512 rows x 2 columns]\n",
      "       Age     Sex\n",
      "0     19.0  Female\n",
      "1     49.0    Male\n",
      "2     63.0    Male\n",
      "3     18.0     NaN\n",
      "4     27.0    Male\n",
      "...    ...     ...\n",
      "2507  57.0  Female\n",
      "2508  36.0  Female\n",
      "2509  22.0    Male\n",
      "2510  44.0     NaN\n",
      "2511  48.0    Male\n",
      "\n",
      "[2512 rows x 2 columns]\n"
     ]
    }
   ],
   "source": [
    "# select two or more columns\n",
    "temp_df = df[['Sex', 'Age']]\n",
    "print(temp_df)\n",
    "# chnage order of the columns\n",
    "temp_df = df[['Age', 'Sex']]\n",
    "print(temp_df)"
   ]
  },
  {
   "cell_type": "markdown",
   "id": "7943c76c-de07-4f45-9778-baf17b10a0aa",
   "metadata": {},
   "source": [
    "### Delete a column"
   ]
  },
  {
   "cell_type": "code",
   "execution_count": 26,
   "id": "f58a2879-ea33-4fd6-9081-aa71d6d0cd66",
   "metadata": {},
   "outputs": [
    {
     "name": "stdout",
     "output_type": "stream",
     "text": [
      "       Age\n",
      "0     19.0\n",
      "1     49.0\n",
      "2     63.0\n",
      "3     18.0\n",
      "4     27.0\n",
      "...    ...\n",
      "2507  57.0\n",
      "2508  36.0\n",
      "2509  22.0\n",
      "2510  44.0\n",
      "2511  48.0\n",
      "\n",
      "[2512 rows x 1 columns]\n",
      "       Age\n",
      "0     19.0\n",
      "1     49.0\n",
      "2     63.0\n",
      "3     18.0\n",
      "4     27.0\n",
      "...    ...\n",
      "2507  57.0\n",
      "2508  36.0\n",
      "2509  22.0\n",
      "2510  44.0\n",
      "2511  48.0\n",
      "\n",
      "[2512 rows x 1 columns]\n"
     ]
    },
    {
     "name": "stderr",
     "output_type": "stream",
     "text": [
      "/var/folders/yl/hc0wg3cd5577fyq8rq7spkx00000gn/T/ipykernel_9903/1310413385.py:8: SettingWithCopyWarning: \n",
      "A value is trying to be set on a copy of a slice from a DataFrame\n",
      "\n",
      "See the caveats in the documentation: https://pandas.pydata.org/pandas-docs/stable/user_guide/indexing.html#returning-a-view-versus-a-copy\n",
      "  temp_df.drop('Sex', axis=1, inplace=True)\n"
     ]
    }
   ],
   "source": [
    "temp_df = df[['Sex', 'Age']]\n",
    "#delete column sex\n",
    "temp_df =temp_df.drop('Sex', axis=1)\n",
    "print(temp_df)\n",
    "\n",
    "temp_df = df[['Sex', 'Age']]\n",
    "# alternate syntex\n",
    "temp_df.drop('Sex', axis=1, inplace=True)\n",
    "print(temp_df)"
   ]
  },
  {
   "cell_type": "markdown",
   "id": "ff220cb4-a7ac-44aa-b7c8-0b4041cf85a7",
   "metadata": {},
   "source": [
    "# 4 Working with Rows"
   ]
  },
  {
   "cell_type": "markdown",
   "id": "5404df1e-f647-411f-93d3-ae471219badd",
   "metadata": {},
   "source": [
    "### Get the row index and labels"
   ]
  },
  {
   "cell_type": "code",
   "execution_count": 27,
   "id": "8345ebf7-0a19-4377-8411-f90151fed911",
   "metadata": {},
   "outputs": [
    {
     "name": "stdout",
     "output_type": "stream",
     "text": [
      "RangeIndex(start=0, stop=2512, step=1)\n"
     ]
    }
   ],
   "source": [
    "idx = df.index\n",
    "print(idx)"
   ]
  },
  {
   "cell_type": "markdown",
   "id": "8e40f07d-7806-46f3-80dc-758fbbbaefc6",
   "metadata": {},
   "source": [
    "### Drop/Delete row"
   ]
  },
  {
   "cell_type": "code",
   "execution_count": 20,
   "id": "b32e7739-354a-42e3-ab4a-197e7d800bf5",
   "metadata": {},
   "outputs": [
    {
     "name": "stdout",
     "output_type": "stream",
     "text": [
      "  Transaction_date  Transaction_ID     Sex   Age Marital_status  State_names  \\\n",
      "0         1/1/2019          151200  Female  19.0         Single       Kansas   \n",
      "1         1/1/2019          151201    Male  49.0         Single     Illinois   \n",
      "2         1/1/2019          151202    Male  63.0        Married   New Mexico   \n",
      "3         1/1/2019          151203     NaN  18.0         Single     Virginia   \n",
      "4         1/1/2019          151204    Male  27.0         Single  Connecticut   \n",
      "\n",
      "    Segment Employees_status Payment_method  Referal  Amount_spent  \n",
      "0     Basic     Unemployment          Other      1.0       2051.36  \n",
      "1     Basic    self-employed           Card      0.0        544.04  \n",
      "2     Basic          workers         PayPal      1.0       1572.60  \n",
      "3  Platinum          workers           Card      1.0       1199.79  \n",
      "4     Basic    self-employed           Card      0.0           NaN  \n"
     ]
    }
   ],
   "source": [
    "print(df.head())"
   ]
  },
  {
   "cell_type": "code",
   "execution_count": 21,
   "id": "240d7153-952b-4749-82e8-c0a19b184b31",
   "metadata": {},
   "outputs": [
    {
     "name": "stdout",
     "output_type": "stream",
     "text": [
      "  Transaction_date  Transaction_ID   Sex   Age Marital_status  State_names  \\\n",
      "1         1/1/2019          151201  Male  49.0         Single     Illinois   \n",
      "2         1/1/2019          151202  Male  63.0        Married   New Mexico   \n",
      "3         1/1/2019          151203   NaN  18.0         Single     Virginia   \n",
      "4         1/1/2019          151204  Male  27.0         Single  Connecticut   \n",
      "5         1/3/2019          151205  Male  71.0         Single       Hawaii   \n",
      "\n",
      "    Segment Employees_status Payment_method  Referal  Amount_spent  \n",
      "1     Basic    self-employed           Card      0.0        544.04  \n",
      "2     Basic          workers         PayPal      1.0       1572.60  \n",
      "3  Platinum          workers           Card      1.0       1199.79  \n",
      "4     Basic    self-employed           Card      0.0           NaN  \n",
      "5     Basic        Employees         PayPal      1.0       2922.66  \n"
     ]
    }
   ],
   "source": [
    "# deleting first row i.e. index=0\n",
    "df =df.drop(0)\n",
    "print(df.head())"
   ]
  },
  {
   "cell_type": "code",
   "execution_count": 22,
   "id": "4f8b4383-2ff7-4b1e-ab13-5438cb1e0778",
   "metadata": {},
   "outputs": [
    {
     "name": "stdout",
     "output_type": "stream",
     "text": [
      "  Transaction_date  Transaction_ID     Sex   Age Marital_status  State_names  \\\n",
      "1         1/1/2019          151201    Male  49.0         Single     Illinois   \n",
      "2         1/1/2019          151202    Male  63.0        Married   New Mexico   \n",
      "4         1/1/2019          151204    Male  27.0         Single  Connecticut   \n",
      "6         1/3/2019          151206  Female  34.0        Married   New Mexico   \n",
      "7         1/3/2019          151207    Male  37.0        Married  Connecticut   \n",
      "\n",
      "    Segment Employees_status Payment_method  Referal  Amount_spent  \n",
      "1     Basic    self-employed           Card      0.0        544.04  \n",
      "2     Basic          workers         PayPal      1.0       1572.60  \n",
      "4     Basic    self-employed           Card      0.0           NaN  \n",
      "6  Platinum        Employees         PayPal      1.0       1481.42  \n",
      "7     Basic          workers         PayPal      1.0       1149.55  \n"
     ]
    }
   ],
   "source": [
    "# deleting two row i.e. index=3,5\n",
    "df =df.drop([3,5])\n",
    "print(df.head())"
   ]
  },
  {
   "cell_type": "markdown",
   "id": "c11f9150-7cf9-405d-81db-3860c778471a",
   "metadata": {},
   "source": [
    "### Deleting or selecting rows by values in a column "
   ]
  },
  {
   "cell_type": "code",
   "execution_count": 23,
   "id": "ae2e5362-e57b-4295-bcda-ad2693eb2ac9",
   "metadata": {},
   "outputs": [
    {
     "name": "stdout",
     "output_type": "stream",
     "text": [
      "   Transaction_date  Transaction_ID   Sex   Age Marital_status  \\\n",
      "1          1/1/2019          151201  Male  49.0         Single   \n",
      "4          1/1/2019          151204  Male  27.0         Single   \n",
      "13         1/5/2019          151213  Male  47.0         Single   \n",
      "15         1/6/2019          151215  Male  16.0         Single   \n",
      "23         1/9/2019          151223  Male  47.0         Single   \n",
      "\n",
      "       State_names   Segment Employees_status Payment_method  Referal  \\\n",
      "1         Illinois     Basic    self-employed           Card      0.0   \n",
      "4      Connecticut     Basic    self-employed           Card      0.0   \n",
      "13  South Carolina     Basic        Employees         PayPal      1.0   \n",
      "15        New York  Platinum          workers          Other      1.0   \n",
      "23        Nebraska     Basic    self-employed         PayPal      1.0   \n",
      "\n",
      "    Amount_spent  \n",
      "1         544.04  \n",
      "4            NaN  \n",
      "13       1719.83  \n",
      "15       1005.92  \n",
      "23       2407.36  \n"
     ]
    }
   ],
   "source": [
    "temp_df = df[df['Marital_status'] =='Single']\n",
    "print(temp_df.head())"
   ]
  },
  {
   "cell_type": "code",
   "execution_count": 30,
   "id": "44131ae8-a7c3-4cf8-8eec-fa418c8dd190",
   "metadata": {},
   "outputs": [
    {
     "name": "stdout",
     "output_type": "stream",
     "text": [
      "  Transaction_date  Transaction_ID     Sex   Age Marital_status  State_names  \\\n",
      "2         1/1/2019          151202    Male  63.0        Married   New Mexico   \n",
      "6         1/3/2019          151206  Female  34.0        Married   New Mexico   \n",
      "7         1/3/2019          151207    Male  37.0        Married  Connecticut   \n",
      "8         1/4/2019          151208    Male  75.0        Married      Florida   \n",
      "9         1/4/2019          151209  Female  41.0        Married      Vermont   \n",
      "\n",
      "    Segment Employees_status Payment_method  Referal  Amount_spent  \n",
      "2     Basic          workers         PayPal      1.0       1572.60  \n",
      "6  Platinum        Employees         PayPal      1.0       1481.42  \n",
      "7     Basic          workers         PayPal      1.0       1149.55  \n",
      "8    Silver        Employees           Card      0.0       1046.20  \n",
      "9      Gold     Unemployment           Card      1.0       2730.60  \n"
     ]
    }
   ],
   "source": [
    "temp_df1 = df.drop(df[df['Marital_status'] == 'Single'].index,axis=0)\n",
    "print(temp_df1.head())"
   ]
  },
  {
   "cell_type": "code",
   "execution_count": null,
   "id": "87842381",
   "metadata": {},
   "outputs": [],
   "source": []
  }
 ],
 "metadata": {
  "colab": {
   "collapsed_sections": [
    "q72dXwaog4h7",
    "68cb06b1",
    "2098e35f",
    "44ff83e8",
    "5UgQzwrITZk3",
    "6bxAq9hnUK4R",
    "2980dcd0",
    "QyO24xKLTEEm",
    "YC_ucd2fXzjD",
    "d9d6f71f",
    "4e3b208b",
    "CZnzwDXQg35f",
    "x0r-TXU244iu",
    "2c7fbc9c"
   ],
   "name": "artical-medium.ipynb",
   "provenance": []
  },
  "kernelspec": {
   "display_name": "Python 3 (ipykernel)",
   "language": "python",
   "name": "python3"
  },
  "language_info": {
   "codemirror_mode": {
    "name": "ipython",
    "version": 3
   },
   "file_extension": ".py",
   "mimetype": "text/x-python",
   "name": "python",
   "nbconvert_exporter": "python",
   "pygments_lexer": "ipython3",
   "version": "3.12.4"
  }
 },
 "nbformat": 4,
 "nbformat_minor": 5
}
