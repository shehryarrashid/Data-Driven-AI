{
 "cells": [
  {
   "cell_type": "markdown",
   "metadata": {
    "id": "T5PuoTGxM25j"
   },
   "source": [
    "# Hotel Booking Cancallation Prediction"
   ]
  },
  {
   "cell_type": "markdown",
   "metadata": {
    "id": "0Q8SI3lyNoHH"
   },
   "source": [
    "**Load Data**\n",
    "\n",
    "Load Hotel_Booking/hotel_bookings.csv file provided on Brightspace."
   ]
  },
  {
   "cell_type": "code",
   "execution_count": 1036,
   "metadata": {
    "id": "fdv3RPXnOfvf"
   },
   "outputs": [],
   "source": [
    "# Importing Pandas\n",
    "import seaborn as sb\n",
    "import pandas as pd\n",
    "from sklearn.preprocessing import StandardScaler\n",
    "\n",
    "bookings_data = pd.read_csv('hotel_bookings.csv')"
   ]
  },
  {
   "cell_type": "markdown",
   "metadata": {
    "id": "NauE96owM3sR"
   },
   "source": [
    "# 1. Data Pre-processing (25%)\n",
    "\n",
    "\n",
    "---\n",
    "\n",
    "\n",
    "\n",
    "\n"
   ]
  },
  {
   "cell_type": "markdown",
   "metadata": {
    "id": "HZLqyiLUOnrV"
   },
   "source": [
    "**Drop irrelevant columns**\n",
    "\n",
    "It will significantly reduce the time and effort you need to invest. As a general guideline, columns containing IDs, dates, or irrelevant information are typically considered redundant and offer little value for predictive analysis."
   ]
  },
  {
   "cell_type": "code",
   "execution_count": 1037,
   "metadata": {
    "id": "GSWv5wCDQyBM"
   },
   "outputs": [
    {
     "name": "stdout",
     "output_type": "stream",
     "text": [
      "<class 'pandas.core.frame.DataFrame'>\n",
      "RangeIndex: 119390 entries, 0 to 119389\n",
      "Data columns (total 32 columns):\n",
      " #   Column                          Non-Null Count   Dtype  \n",
      "---  ------                          --------------   -----  \n",
      " 0   hotel                           119390 non-null  object \n",
      " 1   is_canceled                     119390 non-null  int64  \n",
      " 2   lead_time                       119390 non-null  int64  \n",
      " 3   arrival_date_year               119390 non-null  int64  \n",
      " 4   arrival_date_month              119390 non-null  object \n",
      " 5   arrival_date_week_number        119390 non-null  int64  \n",
      " 6   arrival_date_day_of_month       119390 non-null  int64  \n",
      " 7   stays_in_weekend_nights         119390 non-null  int64  \n",
      " 8   stays_in_week_nights            119390 non-null  int64  \n",
      " 9   adults                          119390 non-null  int64  \n",
      " 10  children                        119386 non-null  float64\n",
      " 11  babies                          119390 non-null  int64  \n",
      " 12  meal                            119390 non-null  object \n",
      " 13  country                         118902 non-null  object \n",
      " 14  market_segment                  119390 non-null  object \n",
      " 15  distribution_channel            119390 non-null  object \n",
      " 16  is_repeated_guest               119390 non-null  int64  \n",
      " 17  previous_cancellations          119390 non-null  int64  \n",
      " 18  previous_bookings_not_canceled  119390 non-null  int64  \n",
      " 19  reserved_room_type              119390 non-null  object \n",
      " 20  assigned_room_type              119390 non-null  object \n",
      " 21  booking_changes                 119390 non-null  int64  \n",
      " 22  deposit_type                    119390 non-null  object \n",
      " 23  agent                           103050 non-null  float64\n",
      " 24  company                         6797 non-null    float64\n",
      " 25  days_in_waiting_list            119390 non-null  int64  \n",
      " 26  customer_type                   119390 non-null  object \n",
      " 27  adr                             119390 non-null  float64\n",
      " 28  required_car_parking_spaces     119390 non-null  int64  \n",
      " 29  total_of_special_requests       119390 non-null  int64  \n",
      " 30  reservation_status              119390 non-null  object \n",
      " 31  reservation_status_date         119390 non-null  object \n",
      "dtypes: float64(4), int64(16), object(12)\n",
      "memory usage: 29.1+ MB\n"
     ]
    }
   ],
   "source": [
    "# First we need to identify all the columns in the dataset\n",
    "\n",
    "bookings_data.info()"
   ]
  },
  {
   "cell_type": "code",
   "execution_count": 1038,
   "metadata": {},
   "outputs": [],
   "source": [
    "# After carefull consideration, I have decided that the following columns are redundant:\n",
    "# arrival date columns - Date Columns are considered redundant for predictive analysis\n",
    "# Country column\n",
    "# Reservation Status and reservation status date - There is a column Is_canceled for that\n",
    "\n",
    "bookings_data = bookings_data.drop(columns=['country','reservation_status_date','reservation_status','arrival_date_day_of_month','arrival_date_week_number','arrival_date_year','arrival_date_month','previous_bookings_not_canceled','market_segment'],axis=1)"
   ]
  },
  {
   "cell_type": "markdown",
   "metadata": {
    "id": "uUImFV45PG4E"
   },
   "source": [
    "## 1.1 Missing Values (10%)\n",
    "\n",
    "Identify and handle missing values."
   ]
  },
  {
   "cell_type": "code",
   "execution_count": 1039,
   "metadata": {
    "id": "c4eXcreOQxTD"
   },
   "outputs": [
    {
     "data": {
      "text/plain": [
       "(119390, 23)"
      ]
     },
     "execution_count": 1039,
     "metadata": {},
     "output_type": "execute_result"
    }
   ],
   "source": [
    "# To start we need to identify the shape of our data after the column drop\n",
    "\n",
    "bookings_data.shape"
   ]
  },
  {
   "cell_type": "code",
   "execution_count": 1040,
   "metadata": {},
   "outputs": [
    {
     "data": {
      "text/html": [
       "<div>\n",
       "<style scoped>\n",
       "    .dataframe tbody tr th:only-of-type {\n",
       "        vertical-align: middle;\n",
       "    }\n",
       "\n",
       "    .dataframe tbody tr th {\n",
       "        vertical-align: top;\n",
       "    }\n",
       "\n",
       "    .dataframe thead th {\n",
       "        text-align: right;\n",
       "    }\n",
       "</style>\n",
       "<table border=\"1\" class=\"dataframe\">\n",
       "  <thead>\n",
       "    <tr style=\"text-align: right;\">\n",
       "      <th></th>\n",
       "      <th>is_canceled</th>\n",
       "      <th>lead_time</th>\n",
       "      <th>stays_in_weekend_nights</th>\n",
       "      <th>stays_in_week_nights</th>\n",
       "      <th>adults</th>\n",
       "      <th>children</th>\n",
       "      <th>babies</th>\n",
       "      <th>is_repeated_guest</th>\n",
       "      <th>previous_cancellations</th>\n",
       "      <th>booking_changes</th>\n",
       "      <th>agent</th>\n",
       "      <th>company</th>\n",
       "      <th>days_in_waiting_list</th>\n",
       "      <th>adr</th>\n",
       "      <th>required_car_parking_spaces</th>\n",
       "      <th>total_of_special_requests</th>\n",
       "    </tr>\n",
       "  </thead>\n",
       "  <tbody>\n",
       "    <tr>\n",
       "      <th>count</th>\n",
       "      <td>119390.000000</td>\n",
       "      <td>119390.000000</td>\n",
       "      <td>119390.000000</td>\n",
       "      <td>119390.000000</td>\n",
       "      <td>119390.000000</td>\n",
       "      <td>119386.000000</td>\n",
       "      <td>119390.000000</td>\n",
       "      <td>119390.000000</td>\n",
       "      <td>119390.000000</td>\n",
       "      <td>119390.000000</td>\n",
       "      <td>103050.000000</td>\n",
       "      <td>6797.000000</td>\n",
       "      <td>119390.000000</td>\n",
       "      <td>119390.000000</td>\n",
       "      <td>119390.000000</td>\n",
       "      <td>119390.000000</td>\n",
       "    </tr>\n",
       "    <tr>\n",
       "      <th>mean</th>\n",
       "      <td>0.370416</td>\n",
       "      <td>104.011416</td>\n",
       "      <td>0.927599</td>\n",
       "      <td>2.500302</td>\n",
       "      <td>1.856403</td>\n",
       "      <td>0.103890</td>\n",
       "      <td>0.007949</td>\n",
       "      <td>0.031912</td>\n",
       "      <td>0.087118</td>\n",
       "      <td>0.221124</td>\n",
       "      <td>86.693382</td>\n",
       "      <td>189.266735</td>\n",
       "      <td>2.321149</td>\n",
       "      <td>101.831122</td>\n",
       "      <td>0.062518</td>\n",
       "      <td>0.571363</td>\n",
       "    </tr>\n",
       "    <tr>\n",
       "      <th>std</th>\n",
       "      <td>0.482918</td>\n",
       "      <td>106.863097</td>\n",
       "      <td>0.998613</td>\n",
       "      <td>1.908286</td>\n",
       "      <td>0.579261</td>\n",
       "      <td>0.398561</td>\n",
       "      <td>0.097436</td>\n",
       "      <td>0.175767</td>\n",
       "      <td>0.844336</td>\n",
       "      <td>0.652306</td>\n",
       "      <td>110.774548</td>\n",
       "      <td>131.655015</td>\n",
       "      <td>17.594721</td>\n",
       "      <td>50.535790</td>\n",
       "      <td>0.245291</td>\n",
       "      <td>0.792798</td>\n",
       "    </tr>\n",
       "    <tr>\n",
       "      <th>min</th>\n",
       "      <td>0.000000</td>\n",
       "      <td>0.000000</td>\n",
       "      <td>0.000000</td>\n",
       "      <td>0.000000</td>\n",
       "      <td>0.000000</td>\n",
       "      <td>0.000000</td>\n",
       "      <td>0.000000</td>\n",
       "      <td>0.000000</td>\n",
       "      <td>0.000000</td>\n",
       "      <td>0.000000</td>\n",
       "      <td>1.000000</td>\n",
       "      <td>6.000000</td>\n",
       "      <td>0.000000</td>\n",
       "      <td>-6.380000</td>\n",
       "      <td>0.000000</td>\n",
       "      <td>0.000000</td>\n",
       "    </tr>\n",
       "    <tr>\n",
       "      <th>25%</th>\n",
       "      <td>0.000000</td>\n",
       "      <td>18.000000</td>\n",
       "      <td>0.000000</td>\n",
       "      <td>1.000000</td>\n",
       "      <td>2.000000</td>\n",
       "      <td>0.000000</td>\n",
       "      <td>0.000000</td>\n",
       "      <td>0.000000</td>\n",
       "      <td>0.000000</td>\n",
       "      <td>0.000000</td>\n",
       "      <td>9.000000</td>\n",
       "      <td>62.000000</td>\n",
       "      <td>0.000000</td>\n",
       "      <td>69.290000</td>\n",
       "      <td>0.000000</td>\n",
       "      <td>0.000000</td>\n",
       "    </tr>\n",
       "    <tr>\n",
       "      <th>50%</th>\n",
       "      <td>0.000000</td>\n",
       "      <td>69.000000</td>\n",
       "      <td>1.000000</td>\n",
       "      <td>2.000000</td>\n",
       "      <td>2.000000</td>\n",
       "      <td>0.000000</td>\n",
       "      <td>0.000000</td>\n",
       "      <td>0.000000</td>\n",
       "      <td>0.000000</td>\n",
       "      <td>0.000000</td>\n",
       "      <td>14.000000</td>\n",
       "      <td>179.000000</td>\n",
       "      <td>0.000000</td>\n",
       "      <td>94.575000</td>\n",
       "      <td>0.000000</td>\n",
       "      <td>0.000000</td>\n",
       "    </tr>\n",
       "    <tr>\n",
       "      <th>75%</th>\n",
       "      <td>1.000000</td>\n",
       "      <td>160.000000</td>\n",
       "      <td>2.000000</td>\n",
       "      <td>3.000000</td>\n",
       "      <td>2.000000</td>\n",
       "      <td>0.000000</td>\n",
       "      <td>0.000000</td>\n",
       "      <td>0.000000</td>\n",
       "      <td>0.000000</td>\n",
       "      <td>0.000000</td>\n",
       "      <td>229.000000</td>\n",
       "      <td>270.000000</td>\n",
       "      <td>0.000000</td>\n",
       "      <td>126.000000</td>\n",
       "      <td>0.000000</td>\n",
       "      <td>1.000000</td>\n",
       "    </tr>\n",
       "    <tr>\n",
       "      <th>max</th>\n",
       "      <td>1.000000</td>\n",
       "      <td>737.000000</td>\n",
       "      <td>19.000000</td>\n",
       "      <td>50.000000</td>\n",
       "      <td>55.000000</td>\n",
       "      <td>10.000000</td>\n",
       "      <td>10.000000</td>\n",
       "      <td>1.000000</td>\n",
       "      <td>26.000000</td>\n",
       "      <td>21.000000</td>\n",
       "      <td>535.000000</td>\n",
       "      <td>543.000000</td>\n",
       "      <td>391.000000</td>\n",
       "      <td>5400.000000</td>\n",
       "      <td>8.000000</td>\n",
       "      <td>5.000000</td>\n",
       "    </tr>\n",
       "  </tbody>\n",
       "</table>\n",
       "</div>"
      ],
      "text/plain": [
       "         is_canceled      lead_time  stays_in_weekend_nights  \\\n",
       "count  119390.000000  119390.000000            119390.000000   \n",
       "mean        0.370416     104.011416                 0.927599   \n",
       "std         0.482918     106.863097                 0.998613   \n",
       "min         0.000000       0.000000                 0.000000   \n",
       "25%         0.000000      18.000000                 0.000000   \n",
       "50%         0.000000      69.000000                 1.000000   \n",
       "75%         1.000000     160.000000                 2.000000   \n",
       "max         1.000000     737.000000                19.000000   \n",
       "\n",
       "       stays_in_week_nights         adults       children         babies  \\\n",
       "count         119390.000000  119390.000000  119386.000000  119390.000000   \n",
       "mean               2.500302       1.856403       0.103890       0.007949   \n",
       "std                1.908286       0.579261       0.398561       0.097436   \n",
       "min                0.000000       0.000000       0.000000       0.000000   \n",
       "25%                1.000000       2.000000       0.000000       0.000000   \n",
       "50%                2.000000       2.000000       0.000000       0.000000   \n",
       "75%                3.000000       2.000000       0.000000       0.000000   \n",
       "max               50.000000      55.000000      10.000000      10.000000   \n",
       "\n",
       "       is_repeated_guest  previous_cancellations  booking_changes  \\\n",
       "count      119390.000000           119390.000000    119390.000000   \n",
       "mean            0.031912                0.087118         0.221124   \n",
       "std             0.175767                0.844336         0.652306   \n",
       "min             0.000000                0.000000         0.000000   \n",
       "25%             0.000000                0.000000         0.000000   \n",
       "50%             0.000000                0.000000         0.000000   \n",
       "75%             0.000000                0.000000         0.000000   \n",
       "max             1.000000               26.000000        21.000000   \n",
       "\n",
       "               agent      company  days_in_waiting_list            adr  \\\n",
       "count  103050.000000  6797.000000         119390.000000  119390.000000   \n",
       "mean       86.693382   189.266735              2.321149     101.831122   \n",
       "std       110.774548   131.655015             17.594721      50.535790   \n",
       "min         1.000000     6.000000              0.000000      -6.380000   \n",
       "25%         9.000000    62.000000              0.000000      69.290000   \n",
       "50%        14.000000   179.000000              0.000000      94.575000   \n",
       "75%       229.000000   270.000000              0.000000     126.000000   \n",
       "max       535.000000   543.000000            391.000000    5400.000000   \n",
       "\n",
       "       required_car_parking_spaces  total_of_special_requests  \n",
       "count                119390.000000              119390.000000  \n",
       "mean                      0.062518                   0.571363  \n",
       "std                       0.245291                   0.792798  \n",
       "min                       0.000000                   0.000000  \n",
       "25%                       0.000000                   0.000000  \n",
       "50%                       0.000000                   0.000000  \n",
       "75%                       0.000000                   1.000000  \n",
       "max                       8.000000                   5.000000  "
      ]
     },
     "execution_count": 1040,
     "metadata": {},
     "output_type": "execute_result"
    }
   ],
   "source": [
    "# We continue then to find out the statistical summary of the data\n",
    "\n",
    "bookings_data.describe()"
   ]
  },
  {
   "cell_type": "code",
   "execution_count": 1041,
   "metadata": {},
   "outputs": [],
   "source": [
    "# looking back at the info column and now the description of the data the agent and company column have loads of missing values.\n",
    "\n",
    "# after considerally reading the data information paper,I identified these columns contain ID's so there is no need for them\n",
    "\n",
    "bookings_data = bookings_data.drop(columns=['company', 'agent'],axis=1)"
   ]
  },
  {
   "cell_type": "code",
   "execution_count": 1042,
   "metadata": {},
   "outputs": [
    {
     "data": {
      "text/plain": [
       "hotel                          0\n",
       "is_canceled                    0\n",
       "lead_time                      0\n",
       "stays_in_weekend_nights        0\n",
       "stays_in_week_nights           0\n",
       "adults                         0\n",
       "children                       4\n",
       "babies                         0\n",
       "meal                           0\n",
       "distribution_channel           0\n",
       "is_repeated_guest              0\n",
       "previous_cancellations         0\n",
       "reserved_room_type             0\n",
       "assigned_room_type             0\n",
       "booking_changes                0\n",
       "deposit_type                   0\n",
       "days_in_waiting_list           0\n",
       "customer_type                  0\n",
       "adr                            0\n",
       "required_car_parking_spaces    0\n",
       "total_of_special_requests      0\n",
       "dtype: int64"
      ]
     },
     "execution_count": 1042,
     "metadata": {},
     "output_type": "execute_result"
    }
   ],
   "source": [
    "bookings_data.isna().sum()"
   ]
  },
  {
   "cell_type": "code",
   "execution_count": 1043,
   "metadata": {},
   "outputs": [
    {
     "data": {
      "text/plain": [
       "0"
      ]
     },
     "execution_count": 1043,
     "metadata": {},
     "output_type": "execute_result"
    }
   ],
   "source": [
    "# We are left with the children column only with some null values, we will replace them with 0\n",
    "\n",
    "bookings_data['children'] = bookings_data['children'].fillna(0)\n",
    "bookings_data['children'].isna().sum() # This line is to check the code works"
   ]
  },
  {
   "cell_type": "markdown",
   "metadata": {
    "id": "P_gLR3YnRTFf"
   },
   "source": [
    "## Unique values\n",
    "\n",
    "Find out unique values in columns. This will help you in identifying in-consistent data."
   ]
  },
  {
   "cell_type": "code",
   "execution_count": 1044,
   "metadata": {
    "id": "kprpK-8NQx0E"
   },
   "outputs": [
    {
     "data": {
      "text/plain": [
       "adults\n",
       "2     89680\n",
       "1     23027\n",
       "3      6202\n",
       "0       403\n",
       "4        62\n",
       "26        5\n",
       "27        2\n",
       "20        2\n",
       "5         2\n",
       "40        1\n",
       "50        1\n",
       "55        1\n",
       "6         1\n",
       "10        1\n",
       "Name: count, dtype: int64"
      ]
     },
     "execution_count": 1044,
     "metadata": {},
     "output_type": "execute_result"
    }
   ],
   "source": [
    "# 403 Bookings have 0 adults, which is not sensible\n",
    "bookings_data.adults.value_counts()"
   ]
  },
  {
   "cell_type": "code",
   "execution_count": 1045,
   "metadata": {},
   "outputs": [
    {
     "data": {
      "text/plain": [
       "customer_type\n",
       "Transient          89613\n",
       "Transient-Party    25124\n",
       "Contract            4076\n",
       "Group                577\n",
       "Name: count, dtype: int64"
      ]
     },
     "execution_count": 1045,
     "metadata": {},
     "output_type": "execute_result"
    }
   ],
   "source": [
    "bookings_data.customer_type.value_counts()"
   ]
  },
  {
   "cell_type": "code",
   "execution_count": 1046,
   "metadata": {},
   "outputs": [
    {
     "data": {
      "text/plain": [
       "children  babies\n",
       "0.0       0         110058\n",
       "1.0       0           4718\n",
       "2.0       0           3620\n",
       "0.0       1            728\n",
       "1.0       1            140\n",
       "3.0       0             76\n",
       "2.0       1             32\n",
       "0.0       2             12\n",
       "1.0       2              3\n",
       "0.0       9              1\n",
       "          10             1\n",
       "10.0      0              1\n",
       "Name: count, dtype: int64"
      ]
     },
     "execution_count": 1046,
     "metadata": {},
     "output_type": "execute_result"
    }
   ],
   "source": [
    "bookings_data[['children','babies']].value_counts()"
   ]
  },
  {
   "cell_type": "markdown",
   "metadata": {
    "id": "1Qiv5MThgpgM"
   },
   "source": [
    "## 1.2 Removing Inconsistent values and Outliers (10%)\n",
    "\n",
    "Detecting inconsistencies can be achieved through a variety of methods. Some can be identified by examining unique values within each column, while others may require a solid understanding of the problem domain. Since you might not be an expert in the hotel or hospitality industry, here are some helpful hints:\n",
    "\n",
    "Hints:\n",
    "\n",
    "1. Check for incomplete bookings, such as reservations with zero adults, babies, or children.\n",
    "2. Examine rows with zeros in both 'stays_in_weekend_nights' and 'stays_in_week_nights.'\n",
    "\n"
   ]
  },
  {
   "cell_type": "code",
   "execution_count": 1047,
   "metadata": {
    "id": "qNukKr-XQzc7"
   },
   "outputs": [],
   "source": [
    "# Reservations with zero adults\n",
    "\n",
    "bookings_data = bookings_data.drop(bookings_data[bookings_data['adults'] == 0].index)"
   ]
  },
  {
   "cell_type": "code",
   "execution_count": 1048,
   "metadata": {},
   "outputs": [],
   "source": [
    "# Examining rows with zeros in both 'stays_in_weekend_nights' and 'stays_in_week_nights'\n",
    "\n",
    "bookings_data = bookings_data.drop(bookings_data[(bookings_data['stays_in_weekend_nights'] == 0) & (bookings_data['stays_in_week_nights'] == 0)].index)\n"
   ]
  },
  {
   "cell_type": "code",
   "execution_count": 1049,
   "metadata": {},
   "outputs": [],
   "source": [
    "# After dropping all these columns an index reset is needed\n",
    "bookings_data.reset_index(drop=True, inplace=True)"
   ]
  },
  {
   "cell_type": "code",
   "execution_count": 1050,
   "metadata": {},
   "outputs": [
    {
     "name": "stdout",
     "output_type": "stream",
     "text": [
      "<class 'pandas.core.frame.DataFrame'>\n",
      "RangeIndex: 118342 entries, 0 to 118341\n",
      "Data columns (total 21 columns):\n",
      " #   Column                       Non-Null Count   Dtype  \n",
      "---  ------                       --------------   -----  \n",
      " 0   hotel                        118342 non-null  object \n",
      " 1   is_canceled                  118342 non-null  int64  \n",
      " 2   lead_time                    118342 non-null  int64  \n",
      " 3   stays_in_weekend_nights      118342 non-null  int64  \n",
      " 4   stays_in_week_nights         118342 non-null  int64  \n",
      " 5   adults                       118342 non-null  int64  \n",
      " 6   children                     118342 non-null  float64\n",
      " 7   babies                       118342 non-null  int64  \n",
      " 8   meal                         118342 non-null  object \n",
      " 9   distribution_channel         118342 non-null  object \n",
      " 10  is_repeated_guest            118342 non-null  int64  \n",
      " 11  previous_cancellations       118342 non-null  int64  \n",
      " 12  reserved_room_type           118342 non-null  object \n",
      " 13  assigned_room_type           118342 non-null  object \n",
      " 14  booking_changes              118342 non-null  int64  \n",
      " 15  deposit_type                 118342 non-null  object \n",
      " 16  days_in_waiting_list         118342 non-null  int64  \n",
      " 17  customer_type                118342 non-null  object \n",
      " 18  adr                          118342 non-null  float64\n",
      " 19  required_car_parking_spaces  118342 non-null  int64  \n",
      " 20  total_of_special_requests    118342 non-null  int64  \n",
      "dtypes: float64(2), int64(12), object(7)\n",
      "memory usage: 19.0+ MB\n"
     ]
    }
   ],
   "source": [
    "bookings_data.info()"
   ]
  },
  {
   "cell_type": "markdown",
   "metadata": {},
   "source": [
    "## Handling Outliers"
   ]
  },
  {
   "cell_type": "markdown",
   "metadata": {},
   "source": [
    "### Days in Waiting List column"
   ]
  },
  {
   "cell_type": "code",
   "execution_count": 1051,
   "metadata": {},
   "outputs": [
    {
     "data": {
      "text/plain": [
       "<Axes: >"
      ]
     },
     "execution_count": 1051,
     "metadata": {},
     "output_type": "execute_result"
    },
    {
     "data": {
      "image/png": "[encoded data removed]",
      "text/plain": [
       "<Figure size 640x480 with 1 Axes>"
      ]
     },
     "metadata": {},
     "output_type": "display_data"
    }
   ],
   "source": [
    "bookings_data.plot(y=['days_in_waiting_list'],kind='box')\n",
    "# Outliers are vital for enhancing classification accuracy and insights."
   ]
  },
  {
   "cell_type": "markdown",
   "metadata": {},
   "source": [
    "### Booking Changes Column"
   ]
  },
  {
   "cell_type": "code",
   "execution_count": 1052,
   "metadata": {},
   "outputs": [
    {
     "data": {
      "text/plain": [
       "<Axes: >"
      ]
     },
     "execution_count": 1052,
     "metadata": {},
     "output_type": "execute_result"
    },
    {
     "data": {
      "image/png": "[encoded data removed]",
      "text/plain": [
       "<Figure size 640x480 with 1 Axes>"
      ]
     },
     "metadata": {},
     "output_type": "display_data"
    }
   ],
   "source": [
    "bookings_data.plot(y=['booking_changes'],kind='box')\n",
    "# Outliers are vital for enhancing classification accuracy and insights."
   ]
  },
  {
   "cell_type": "markdown",
   "metadata": {},
   "source": [
    "### Previous Cancellations Column"
   ]
  },
  {
   "cell_type": "code",
   "execution_count": 1053,
   "metadata": {},
   "outputs": [
    {
     "data": {
      "text/plain": [
       "<Axes: >"
      ]
     },
     "execution_count": 1053,
     "metadata": {},
     "output_type": "execute_result"
    },
    {
     "data": {
      "image/png": "[encoded data removed]",
      "text/plain": [
       "<Figure size 640x480 with 1 Axes>"
      ]
     },
     "metadata": {},
     "output_type": "display_data"
    }
   ],
   "source": [
    "bookings_data.plot(y=['previous_cancellations'],kind='box')\n",
    "# Outliers are vital for enhancing classification accuracy and insights."
   ]
  },
  {
   "cell_type": "markdown",
   "metadata": {},
   "source": [
    "### Is Repeated Guest Column"
   ]
  },
  {
   "cell_type": "code",
   "execution_count": 1054,
   "metadata": {},
   "outputs": [
    {
     "data": {
      "text/plain": [
       "<Axes: >"
      ]
     },
     "execution_count": 1054,
     "metadata": {},
     "output_type": "execute_result"
    },
    {
     "data": {
      "image/png": "[encoded data removed]",
      "text/plain": [
       "<Figure size 640x480 with 1 Axes>"
      ]
     },
     "metadata": {},
     "output_type": "display_data"
    }
   ],
   "source": [
    "bookings_data.plot(y=['is_repeated_guest'],kind='box')\n",
    "# Outliers are vital for enhancing classification accuracy and insights."
   ]
  },
  {
   "cell_type": "markdown",
   "metadata": {},
   "source": [
    "### Babies Column"
   ]
  },
  {
   "cell_type": "code",
   "execution_count": 1055,
   "metadata": {},
   "outputs": [
    {
     "data": {
      "text/plain": [
       "<Axes: >"
      ]
     },
     "execution_count": 1055,
     "metadata": {},
     "output_type": "execute_result"
    },
    {
     "data": {
      "image/png": "[encoded data removed]",
      "text/plain": [
       "<Figure size 640x480 with 1 Axes>"
      ]
     },
     "metadata": {},
     "output_type": "display_data"
    }
   ],
   "source": [
    "bookings_data.plot(y=['babies'],kind='box')\n",
    "# Outliers are vital for enhancing classification accuracy and insights."
   ]
  },
  {
   "cell_type": "markdown",
   "metadata": {},
   "source": [
    "### Children Column"
   ]
  },
  {
   "cell_type": "code",
   "execution_count": 1056,
   "metadata": {},
   "outputs": [
    {
     "data": {
      "text/plain": [
       "<Axes: >"
      ]
     },
     "execution_count": 1056,
     "metadata": {},
     "output_type": "execute_result"
    },
    {
     "data": {
      "image/png": "[encoded data removed]",
      "text/plain": [
       "<Figure size 640x480 with 1 Axes>"
      ]
     },
     "metadata": {},
     "output_type": "display_data"
    }
   ],
   "source": [
    "bookings_data.plot(y=['children'],kind='box')\n",
    "# Outliers are vital for enhancing classification accuracy and insights."
   ]
  },
  {
   "cell_type": "markdown",
   "metadata": {},
   "source": [
    "### Lead Time Column"
   ]
  },
  {
   "cell_type": "code",
   "execution_count": 1057,
   "metadata": {},
   "outputs": [
    {
     "data": {
      "text/plain": [
       "<Axes: >"
      ]
     },
     "execution_count": 1057,
     "metadata": {},
     "output_type": "execute_result"
    },
    {
     "data": {
      "image/png": "[encoded data removed]",
      "text/plain": [
       "<Figure size 800x600 with 1 Axes>"
      ]
     },
     "metadata": {},
     "output_type": "display_data"
    }
   ],
   "source": [
    "bookings_data.plot(y=['lead_time'],kind='box',figsize=[8,6])"
   ]
  },
  {
   "cell_type": "code",
   "execution_count": 1058,
   "metadata": {},
   "outputs": [
    {
     "data": {
      "text/plain": [
       "<Axes: >"
      ]
     },
     "execution_count": 1058,
     "metadata": {},
     "output_type": "execute_result"
    },
    {
     "data": {
      "image/png": "[encoded data removed]",
      "text/plain": [
       "<Figure size 800x600 with 1 Axes>"
      ]
     },
     "metadata": {},
     "output_type": "display_data"
    }
   ],
   "source": [
    "bookings_data = bookings_data.drop(bookings_data[bookings_data['lead_time'] > 349].index)\n",
    "bookings_data.plot(y=['lead_time'],kind='box',figsize=[8,6])"
   ]
  },
  {
   "cell_type": "markdown",
   "metadata": {},
   "source": [
    "### Stays in Weekend Nights Column"
   ]
  },
  {
   "cell_type": "code",
   "execution_count": 1059,
   "metadata": {},
   "outputs": [
    {
     "data": {
      "text/plain": [
       "<Axes: >"
      ]
     },
     "execution_count": 1059,
     "metadata": {},
     "output_type": "execute_result"
    },
    {
     "data": {
      "image/png": "[encoded data removed]",
      "text/plain": [
       "<Figure size 800x600 with 1 Axes>"
      ]
     },
     "metadata": {},
     "output_type": "display_data"
    }
   ],
   "source": [
    "bookings_data.plot(y=['stays_in_weekend_nights'],kind='box',figsize=[8,6])"
   ]
  },
  {
   "cell_type": "code",
   "execution_count": 1060,
   "metadata": {},
   "outputs": [
    {
     "data": {
      "text/plain": [
       "<Axes: >"
      ]
     },
     "execution_count": 1060,
     "metadata": {},
     "output_type": "execute_result"
    },
    {
     "data": {
      "image/png": "[encoded data removed]",
      "text/plain": [
       "<Figure size 800x600 with 1 Axes>"
      ]
     },
     "metadata": {},
     "output_type": "display_data"
    }
   ],
   "source": [
    "bookings_data = bookings_data.drop(bookings_data[bookings_data['stays_in_weekend_nights'] > 5].index)\n",
    "bookings_data.plot(y=['stays_in_weekend_nights'],kind='box',figsize=[8,6])"
   ]
  },
  {
   "cell_type": "markdown",
   "metadata": {},
   "source": [
    "### Stays in Week Nights"
   ]
  },
  {
   "cell_type": "code",
   "execution_count": 1061,
   "metadata": {},
   "outputs": [
    {
     "data": {
      "text/plain": [
       "<Axes: >"
      ]
     },
     "execution_count": 1061,
     "metadata": {},
     "output_type": "execute_result"
    },
    {
     "data": {
      "image/png": "[encoded data removed]",
      "text/plain": [
       "<Figure size 800x600 with 1 Axes>"
      ]
     },
     "metadata": {},
     "output_type": "display_data"
    }
   ],
   "source": [
    "bookings_data.plot(y=['stays_in_week_nights'],kind='box',figsize=[8,6])"
   ]
  },
  {
   "cell_type": "code",
   "execution_count": 1062,
   "metadata": {},
   "outputs": [
    {
     "data": {
      "text/plain": [
       "<Axes: >"
      ]
     },
     "execution_count": 1062,
     "metadata": {},
     "output_type": "execute_result"
    },
    {
     "data": {
      "image/png": "[encoded data removed]",
      "text/plain": [
       "<Figure size 800x600 with 1 Axes>"
      ]
     },
     "metadata": {},
     "output_type": "display_data"
    }
   ],
   "source": [
    "bookings_data = bookings_data.drop(bookings_data[bookings_data['stays_in_week_nights'] > 6].index)\n",
    "bookings_data.plot(y=['stays_in_week_nights'],kind='box',figsize=[8,6])"
   ]
  },
  {
   "cell_type": "markdown",
   "metadata": {},
   "source": [
    "### ADR Column"
   ]
  },
  {
   "cell_type": "code",
   "execution_count": 1063,
   "metadata": {},
   "outputs": [
    {
     "data": {
      "text/plain": [
       "<Axes: >"
      ]
     },
     "execution_count": 1063,
     "metadata": {},
     "output_type": "execute_result"
    },
    {
     "data": {
      "image/png": "[encoded data removed]",
      "text/plain": [
       "<Figure size 800x600 with 1 Axes>"
      ]
     },
     "metadata": {},
     "output_type": "display_data"
    }
   ],
   "source": [
    "bookings_data.plot(y=['adr'],kind='box',figsize=[8,6])"
   ]
  },
  {
   "cell_type": "code",
   "execution_count": 1064,
   "metadata": {},
   "outputs": [
    {
     "data": {
      "text/plain": [
       "<Axes: >"
      ]
     },
     "execution_count": 1064,
     "metadata": {},
     "output_type": "execute_result"
    },
    {
     "data": {
      "image/png": "[encoded data removed]",
      "text/plain": [
       "<Figure size 800x600 with 1 Axes>"
      ]
     },
     "metadata": {},
     "output_type": "display_data"
    }
   ],
   "source": [
    "bookings_data = bookings_data.drop(bookings_data[(bookings_data['adr'] > 196) | (bookings_data['adr'] < 0)].index)\n",
    "\n",
    "bookings_data.plot(y=['adr'],kind='box',figsize=[8,6])"
   ]
  },
  {
   "cell_type": "markdown",
   "metadata": {},
   "source": [
    "### Total Special Requests Column"
   ]
  },
  {
   "cell_type": "code",
   "execution_count": 1065,
   "metadata": {},
   "outputs": [
    {
     "data": {
      "text/plain": [
       "<Axes: >"
      ]
     },
     "execution_count": 1065,
     "metadata": {},
     "output_type": "execute_result"
    },
    {
     "data": {
      "image/png": "[encoded data removed]",
      "text/plain": [
       "<Figure size 640x480 with 1 Axes>"
      ]
     },
     "metadata": {},
     "output_type": "display_data"
    }
   ],
   "source": [
    "bookings_data.plot(y=['total_of_special_requests'],kind='box')"
   ]
  },
  {
   "cell_type": "code",
   "execution_count": 1066,
   "metadata": {},
   "outputs": [
    {
     "data": {
      "text/plain": [
       "<Axes: >"
      ]
     },
     "execution_count": 1066,
     "metadata": {},
     "output_type": "execute_result"
    },
    {
     "data": {
      "image/png": "[encoded data removed]",
      "text/plain": [
       "<Figure size 640x480 with 1 Axes>"
      ]
     },
     "metadata": {},
     "output_type": "display_data"
    }
   ],
   "source": [
    "bookings_data = bookings_data.drop(bookings_data[bookings_data['total_of_special_requests'] > 2].index)\n",
    "bookings_data.plot(y=['total_of_special_requests'],kind='box')"
   ]
  },
  {
   "cell_type": "markdown",
   "metadata": {},
   "source": [
    "### Adults Column"
   ]
  },
  {
   "cell_type": "code",
   "execution_count": 1067,
   "metadata": {},
   "outputs": [
    {
     "data": {
      "text/plain": [
       "<Axes: >"
      ]
     },
     "execution_count": 1067,
     "metadata": {},
     "output_type": "execute_result"
    },
    {
     "data": {
      "image/png": "[encoded data removed]",
      "text/plain": [
       "<Figure size 640x480 with 1 Axes>"
      ]
     },
     "metadata": {},
     "output_type": "display_data"
    }
   ],
   "source": [
    "bookings_data.plot(y=['adults'],kind='box')\n",
    "# Outliers are vital for enhancing classification accuracy and insights."
   ]
  },
  {
   "cell_type": "markdown",
   "metadata": {
    "id": "1Qiv5MThgpgM"
   },
   "source": [
    "## 1.3 Column data type conversion (5%)\n",
    "\n",
    "All necessary columns should be correctly converted to appropriate data types.\n"
   ]
  },
  {
   "cell_type": "markdown",
   "metadata": {},
   "source": [
    "Children column should be integer data type as it cointains number of children and this cant countain floats"
   ]
  },
  {
   "cell_type": "code",
   "execution_count": 1068,
   "metadata": {},
   "outputs": [],
   "source": [
    "bookings_data['children'] = bookings_data['children'].astype('int64')"
   ]
  },
  {
   "cell_type": "code",
   "execution_count": 1069,
   "metadata": {
    "id": "qNukKr-XQzc7"
   },
   "outputs": [
    {
     "data": {
      "text/plain": [
       "hotel\n",
       "City Hotel      71014\n",
       "Resort Hotel    32408\n",
       "Name: count, dtype: int64"
      ]
     },
     "execution_count": 1069,
     "metadata": {},
     "output_type": "execute_result"
    }
   ],
   "source": [
    "bookings_data.hotel.value_counts()"
   ]
  },
  {
   "cell_type": "markdown",
   "metadata": {
    "id": "GKLLdSmuM3wJ"
   },
   "source": [
    "# 2. Exploratory Data Analysis (25%)\n",
    "\n",
    "\n",
    "---\n",
    "\n",
    "\n",
    "\n",
    "\n",
    "\n",
    "You've also been provided with examples of valuable insights that could be of interest to hotel management, including:\n",
    "\n",
    "* Calculating cancellation percentages for City and Resort hotels.\n",
    "* Identifying the most frequently ordered meal types.\n",
    "* Determining the number of returning guests.\n",
    "* Discovering the most booked room types.\n",
    "* Exploring correlations between room types and cancellations.\n",
    "\n",
    "\n",
    "Visualize these insights using three different types of visualizations covered in the practicals, such as:\n",
    "\n",
    "* Bar graphs\n",
    "* Pie charts\n",
    "* Line charts\n",
    "* Heatmaps"
   ]
  },
  {
   "cell_type": "markdown",
   "metadata": {},
   "source": [
    "## 2.1. Calculating cancellation percentages for City and Resort hotels."
   ]
  },
  {
   "cell_type": "markdown",
   "metadata": {},
   "source": [
    "### Splitting Data for hotels"
   ]
  },
  {
   "cell_type": "code",
   "execution_count": 1070,
   "metadata": {},
   "outputs": [],
   "source": [
    "hotel_name = bookings_data.hotel.unique()"
   ]
  },
  {
   "cell_type": "code",
   "execution_count": 1071,
   "metadata": {},
   "outputs": [],
   "source": [
    "city_hotel_data = bookings_data.drop(bookings_data[bookings_data['hotel'] == hotel_name[0]].index)\n",
    "\n",
    "resort_hotel_data = bookings_data.drop(bookings_data[bookings_data['hotel'] == hotel_name[1]].index)\n",
    "\n",
    "# This code splits each hotel data into two different datasets so we can treat data dilligently"
   ]
  },
  {
   "cell_type": "code",
   "execution_count": 1072,
   "metadata": {},
   "outputs": [],
   "source": [
    "# Getting the is_cancelled column into a variable\n",
    "resort_is_canceled = resort_hotel_data.is_canceled.value_counts()"
   ]
  },
  {
   "cell_type": "code",
   "execution_count": 1073,
   "metadata": {},
   "outputs": [],
   "source": [
    "# Getting the is_cancelled column into a variable\n",
    "city_is_canceled = city_hotel_data.is_canceled.value_counts()"
   ]
  },
  {
   "cell_type": "markdown",
   "metadata": {},
   "source": [
    "### Solution\n",
    "\n",
    "To analyze the cancellation percentages for City and Resort hotels, I have compiled the data to highlight the comparative cancellation rates for each type of hotel."
   ]
  },
  {
   "cell_type": "code",
   "execution_count": 1074,
   "metadata": {},
   "outputs": [
    {
     "data": {
      "text/plain": [
       "<Axes: title={'center': 'Resort Hotel Cancellations Rate'}, ylabel='count'>"
      ]
     },
     "execution_count": 1074,
     "metadata": {},
     "output_type": "execute_result"
    },
    {
     "data": {
      "image/png": "[encoded data removed]",
      "text/plain": [
       "<Figure size 640x480 with 1 Axes>"
      ]
     },
     "metadata": {},
     "output_type": "display_data"
    }
   ],
   "source": [
    "# Resort Hotel Pie\n",
    "\n",
    "resort_is_canceled.plot(kind='pie',labels={'Reserved','Canceled'},title='Resort Hotel Cancellations Rate',autopct='%.2f%%')"
   ]
  },
  {
   "cell_type": "code",
   "execution_count": 1075,
   "metadata": {},
   "outputs": [
    {
     "data": {
      "text/plain": [
       "<Axes: title={'center': 'City Hotel Cancellations Rate'}, ylabel='count'>"
      ]
     },
     "execution_count": 1075,
     "metadata": {},
     "output_type": "execute_result"
    },
    {
     "data": {
      "image/png": "[encoded data removed]",
      "text/plain": [
       "<Figure size 640x480 with 1 Axes>"
      ]
     },
     "metadata": {},
     "output_type": "display_data"
    }
   ],
   "source": [
    "# City Hotel Pie\n",
    "\n",
    "city_is_canceled.plot(kind='pie',labels={'Reserved','Canceled'},title='City Hotel Cancellations Rate',autopct='%.2f%%')"
   ]
  },
  {
   "cell_type": "markdown",
   "metadata": {},
   "source": [
    "### Conclusion\n",
    "City Hotels exhibit a cancellation rate of 40.96%, while Resort Hotels show a cancellation rate of 26.84%.\n",
    "This comparison indicates that City Hotels experience a higher cancellation rate than Resort Hotels, which may suggest differing traveler behaviors or market conditions."
   ]
  },
  {
   "cell_type": "markdown",
   "metadata": {},
   "source": [
    "## 2.2. Identifying the most frequently ordered meal types."
   ]
  },
  {
   "cell_type": "code",
   "execution_count": 1076,
   "metadata": {
    "id": "CyBKkMrMQ088"
   },
   "outputs": [
    {
     "data": {
      "text/plain": [
       "<Axes: title={'center': 'Meal Frequency'}, xlabel='meal'>"
      ]
     },
     "execution_count": 1076,
     "metadata": {},
     "output_type": "execute_result"
    },
    {
     "data": {
      "image/png": "[encoded data removed]",
      "text/plain": [
       "<Figure size 1000x600 with 1 Axes>"
      ]
     },
     "metadata": {},
     "output_type": "display_data"
    }
   ],
   "source": [
    "# To solve this task we simply need to show the value counts of the meal column as a bar type chart\n",
    "\n",
    "bookings_data.meal.value_counts().plot(kind='bar',title='Meal Frequency',figsize=[10,6])"
   ]
  },
  {
   "cell_type": "markdown",
   "metadata": {},
   "source": [
    "### Solution\n",
    "\n",
    "As observable in the bar chart the Bread and Breakfast is ordered over 80000 times making it the most popular and frequent type of meal."
   ]
  },
  {
   "cell_type": "markdown",
   "metadata": {},
   "source": [
    "## 2.3. Determining the number of returning guests."
   ]
  },
  {
   "cell_type": "code",
   "execution_count": 1077,
   "metadata": {
    "id": "CyBKkMrMQ088"
   },
   "outputs": [
    {
     "data": {
      "text/plain": [
       "<Axes: title={'center': 'Returning Guests'}, ylabel='count'>"
      ]
     },
     "execution_count": 1077,
     "metadata": {},
     "output_type": "execute_result"
    },
    {
     "data": {
      "image/png": "[encoded data removed]",
      "text/plain": [
       "<Figure size 1200x800 with 1 Axes>"
      ]
     },
     "metadata": {},
     "output_type": "display_data"
    }
   ],
   "source": [
    "explode = (0.1,0)\n",
    "bookings_data.is_repeated_guest.value_counts().plot(kind='pie',labels={'New Guest','Repeated Guest'},figsize=[12,8],title='Returning Guests',explode = explode,autopct='%.2f%%')"
   ]
  },
  {
   "cell_type": "code",
   "execution_count": 1078,
   "metadata": {},
   "outputs": [
    {
     "data": {
      "text/plain": [
       "is_repeated_guest\n",
       "0    100204\n",
       "1      3218\n",
       "Name: count, dtype: int64"
      ]
     },
     "execution_count": 1078,
     "metadata": {},
     "output_type": "execute_result"
    }
   ],
   "source": [
    "repeat_guests = bookings_data.is_repeated_guest.value_counts()\n",
    "repeat_guests"
   ]
  },
  {
   "cell_type": "markdown",
   "metadata": {},
   "source": [
    "### Solution\n",
    "\n",
    "The total amount of repeated guests is 3218"
   ]
  },
  {
   "cell_type": "markdown",
   "metadata": {},
   "source": [
    "## 2.4. Discovering the most booked room types."
   ]
  },
  {
   "cell_type": "code",
   "execution_count": 1079,
   "metadata": {
    "id": "CyBKkMrMQ088"
   },
   "outputs": [
    {
     "data": {
      "text/plain": [
       "reserved_room_type\n",
       "A    77693\n",
       "D    16410\n",
       "E     4757\n",
       "F     1742\n",
       "G     1104\n",
       "B      836\n",
       "C      546\n",
       "H      329\n",
       "L        5\n",
       "Name: count, dtype: int64"
      ]
     },
     "execution_count": 1079,
     "metadata": {},
     "output_type": "execute_result"
    }
   ],
   "source": [
    "room_type_chart = bookings_data.reserved_room_type.value_counts()\n",
    "room_type_chart"
   ]
  },
  {
   "cell_type": "code",
   "execution_count": 1080,
   "metadata": {},
   "outputs": [
    {
     "data": {
      "text/plain": [
       "<Axes: xlabel='reserved_room_type'>"
      ]
     },
     "execution_count": 1080,
     "metadata": {},
     "output_type": "execute_result"
    },
    {
     "data": {
      "image/png": "[encoded data removed]",
      "text/plain": [
       "<Figure size 640x480 with 1 Axes>"
      ]
     },
     "metadata": {},
     "output_type": "display_data"
    }
   ],
   "source": [
    "room_type_chart.plot(kind='bar')"
   ]
  },
  {
   "cell_type": "markdown",
   "metadata": {},
   "source": [
    "### Solution\n",
    "\n",
    "The analysis indicates that Room A is the most frequently booked accommodation option."
   ]
  },
  {
   "cell_type": "markdown",
   "metadata": {},
   "source": [
    "## 2.5. Exploring correlations between room types and cancellations."
   ]
  },
  {
   "cell_type": "code",
   "execution_count": 1081,
   "metadata": {
    "id": "CyBKkMrMQ088"
   },
   "outputs": [
    {
     "data": {
      "text/plain": [
       "<Axes: >"
      ]
     },
     "execution_count": 1081,
     "metadata": {},
     "output_type": "execute_result"
    },
    {
     "data": {
      "image/png": "[encoded data removed]",
      "text/plain": [
       "<Figure size 640x480 with 2 Axes>"
      ]
     },
     "metadata": {},
     "output_type": "display_data"
    }
   ],
   "source": [
    "bookings_data['reserved_room_type'] = bookings_data['reserved_room_type'].astype('category').cat.codes\n",
    "bookings_data['assigned_room_type'] = bookings_data['assigned_room_type'].astype('category').cat.codes\n",
    "\n",
    "\n",
    "room_cancellations = bookings_data[['reserved_room_type','assigned_room_type','is_canceled']]\n",
    "\n",
    "corr = room_cancellations.corr().round(3)\n",
    "\n",
    "sb.heatmap(corr,cmap=\"coolwarm\",annot=True)\n"
   ]
  },
  {
   "cell_type": "markdown",
   "metadata": {},
   "source": [
    "### Solution\n",
    "\n",
    "1. Correlation between Assigned Room Type and Reserved Room Type (80%): The strong positive correlation of 80% indicates that there is a significant alignment between the room types that guests are assigned and the types they originally reserved. This suggests that the hotel’s allocation practices are largely effective in matching reservations to actual assignments. Such a high correlation may imply efficient management of room inventory and customer expectations, leading to higher satisfaction rates.\n",
    "2. Inverse Correlation between Assigned Room Type and Cancellation Status (20%): The 20% inverse correlation between the assigned room type and the cancellation status implies that as the likelihood of a specific room type being assigned increases, the probability of cancellations decreases. Although this correlation is weaker, it still suggests that customers who receive their preferred room types are less likely to cancel their bookings. This insight could inform strategies to minimize cancellations by ensuring that customers are assigned the room types they originally selected."
   ]
  },
  {
   "cell_type": "markdown",
   "metadata": {},
   "source": [
    "### Conclusion\n",
    "In summary, these correlations highlight the importance of aligning assigned and reserved room types to enhance guest satisfaction and reduce cancellations. Further investigation could explore the underlying factors contributing to these relationships and inform strategies for improving booking management."
   ]
  },
  {
   "cell_type": "markdown",
   "metadata": {
    "id": "o5SKAFmDM3z5"
   },
   "source": [
    "# 3. Feature Engineering (20%)\n",
    "\n",
    "\n",
    "---\n",
    "\n",
    "\n",
    "\n",
    "\n",
    "\n",
    "Apply various feature engineering techniques, covered in the lectures and practicals.\n",
    "\n",
    "Hint:\n",
    "* Binning\n",
    "* Encoding\n",
    "* Scaling\n",
    "* Feature selection"
   ]
  },
  {
   "cell_type": "markdown",
   "metadata": {},
   "source": [
    "## 3.1. Binning"
   ]
  },
  {
   "cell_type": "code",
   "execution_count": 1082,
   "metadata": {
    "id": "CyBKkMrMQ088"
   },
   "outputs": [
    {
     "data": {
      "text/plain": [
       "<seaborn.axisgrid.FacetGrid at 0x347dcbb90>"
      ]
     },
     "execution_count": 1082,
     "metadata": {},
     "output_type": "execute_result"
    },
    {
     "data": {
      "image/png": "[encoded data removed]",
      "text/plain": [
       "<Figure size 500x500 with 1 Axes>"
      ]
     },
     "metadata": {},
     "output_type": "display_data"
    }
   ],
   "source": [
    "sb.displot(data=bookings_data, x='adr', bins = 25)"
   ]
  },
  {
   "cell_type": "markdown",
   "metadata": {},
   "source": [
    "## 3.2. Encoding"
   ]
  },
  {
   "cell_type": "code",
   "execution_count": 1083,
   "metadata": {},
   "outputs": [
    {
     "name": "stdout",
     "output_type": "stream",
     "text": [
      "<class 'pandas.core.frame.DataFrame'>\n",
      "Index: 103422 entries, 0 to 118340\n",
      "Data columns (total 21 columns):\n",
      " #   Column                       Non-Null Count   Dtype  \n",
      "---  ------                       --------------   -----  \n",
      " 0   hotel                        103422 non-null  object \n",
      " 1   is_canceled                  103422 non-null  int64  \n",
      " 2   lead_time                    103422 non-null  int64  \n",
      " 3   stays_in_weekend_nights      103422 non-null  int64  \n",
      " 4   stays_in_week_nights         103422 non-null  int64  \n",
      " 5   adults                       103422 non-null  int64  \n",
      " 6   children                     103422 non-null  int64  \n",
      " 7   babies                       103422 non-null  int64  \n",
      " 8   meal                         103422 non-null  object \n",
      " 9   distribution_channel         103422 non-null  object \n",
      " 10  is_repeated_guest            103422 non-null  int64  \n",
      " 11  previous_cancellations       103422 non-null  int64  \n",
      " 12  reserved_room_type           103422 non-null  int8   \n",
      " 13  assigned_room_type           103422 non-null  int8   \n",
      " 14  booking_changes              103422 non-null  int64  \n",
      " 15  deposit_type                 103422 non-null  object \n",
      " 16  days_in_waiting_list         103422 non-null  int64  \n",
      " 17  customer_type                103422 non-null  object \n",
      " 18  adr                          103422 non-null  float64\n",
      " 19  required_car_parking_spaces  103422 non-null  int64  \n",
      " 20  total_of_special_requests    103422 non-null  int64  \n",
      "dtypes: float64(1), int64(13), int8(2), object(5)\n",
      "memory usage: 20.0+ MB\n"
     ]
    }
   ],
   "source": [
    "# Before starting to encode we need to find information of the data itself\n",
    "\n",
    "bookings_data.info()"
   ]
  },
  {
   "cell_type": "markdown",
   "metadata": {},
   "source": [
    "### Hotel Column Encoding"
   ]
  },
  {
   "cell_type": "code",
   "execution_count": 1084,
   "metadata": {},
   "outputs": [],
   "source": [
    "# Using pandas cat.codes (Binary Column)\n",
    "bookings_data['hotel'] = bookings_data['hotel'].astype('category').cat.codes"
   ]
  },
  {
   "cell_type": "markdown",
   "metadata": {},
   "source": [
    "### Meal Column Encoding"
   ]
  },
  {
   "cell_type": "code",
   "execution_count": 1085,
   "metadata": {},
   "outputs": [],
   "source": [
    "# Index Clean before encoding:\n",
    "bookings_data.reset_index(drop=True, inplace=True)"
   ]
  },
  {
   "cell_type": "code",
   "execution_count": 1086,
   "metadata": {},
   "outputs": [
    {
     "data": {
      "text/html": [
       "<div>\n",
       "<style scoped>\n",
       "    .dataframe tbody tr th:only-of-type {\n",
       "        vertical-align: middle;\n",
       "    }\n",
       "\n",
       "    .dataframe tbody tr th {\n",
       "        vertical-align: top;\n",
       "    }\n",
       "\n",
       "    .dataframe thead th {\n",
       "        text-align: right;\n",
       "    }\n",
       "</style>\n",
       "<table border=\"1\" class=\"dataframe\">\n",
       "  <thead>\n",
       "    <tr style=\"text-align: right;\">\n",
       "      <th></th>\n",
       "      <th>hotel</th>\n",
       "      <th>is_canceled</th>\n",
       "      <th>lead_time</th>\n",
       "      <th>stays_in_weekend_nights</th>\n",
       "      <th>stays_in_week_nights</th>\n",
       "      <th>adults</th>\n",
       "      <th>children</th>\n",
       "      <th>babies</th>\n",
       "      <th>distribution_channel</th>\n",
       "      <th>is_repeated_guest</th>\n",
       "      <th>...</th>\n",
       "      <th>days_in_waiting_list</th>\n",
       "      <th>customer_type</th>\n",
       "      <th>adr</th>\n",
       "      <th>required_car_parking_spaces</th>\n",
       "      <th>total_of_special_requests</th>\n",
       "      <th>meal_BB</th>\n",
       "      <th>meal_FB</th>\n",
       "      <th>meal_HB</th>\n",
       "      <th>meal_SC</th>\n",
       "      <th>meal_Undefined</th>\n",
       "    </tr>\n",
       "  </thead>\n",
       "  <tbody>\n",
       "    <tr>\n",
       "      <th>0</th>\n",
       "      <td>1</td>\n",
       "      <td>0</td>\n",
       "      <td>7</td>\n",
       "      <td>0</td>\n",
       "      <td>1</td>\n",
       "      <td>1</td>\n",
       "      <td>0</td>\n",
       "      <td>0</td>\n",
       "      <td>Direct</td>\n",
       "      <td>0</td>\n",
       "      <td>...</td>\n",
       "      <td>0</td>\n",
       "      <td>Transient</td>\n",
       "      <td>75.00</td>\n",
       "      <td>0</td>\n",
       "      <td>0</td>\n",
       "      <td>1.0</td>\n",
       "      <td>0.0</td>\n",
       "      <td>0.0</td>\n",
       "      <td>0.0</td>\n",
       "      <td>0.0</td>\n",
       "    </tr>\n",
       "    <tr>\n",
       "      <th>1</th>\n",
       "      <td>1</td>\n",
       "      <td>0</td>\n",
       "      <td>13</td>\n",
       "      <td>0</td>\n",
       "      <td>1</td>\n",
       "      <td>1</td>\n",
       "      <td>0</td>\n",
       "      <td>0</td>\n",
       "      <td>Corporate</td>\n",
       "      <td>0</td>\n",
       "      <td>...</td>\n",
       "      <td>0</td>\n",
       "      <td>Transient</td>\n",
       "      <td>75.00</td>\n",
       "      <td>0</td>\n",
       "      <td>0</td>\n",
       "      <td>1.0</td>\n",
       "      <td>0.0</td>\n",
       "      <td>0.0</td>\n",
       "      <td>0.0</td>\n",
       "      <td>0.0</td>\n",
       "    </tr>\n",
       "    <tr>\n",
       "      <th>2</th>\n",
       "      <td>1</td>\n",
       "      <td>0</td>\n",
       "      <td>14</td>\n",
       "      <td>0</td>\n",
       "      <td>2</td>\n",
       "      <td>2</td>\n",
       "      <td>0</td>\n",
       "      <td>0</td>\n",
       "      <td>TA/TO</td>\n",
       "      <td>0</td>\n",
       "      <td>...</td>\n",
       "      <td>0</td>\n",
       "      <td>Transient</td>\n",
       "      <td>98.00</td>\n",
       "      <td>0</td>\n",
       "      <td>1</td>\n",
       "      <td>1.0</td>\n",
       "      <td>0.0</td>\n",
       "      <td>0.0</td>\n",
       "      <td>0.0</td>\n",
       "      <td>0.0</td>\n",
       "    </tr>\n",
       "    <tr>\n",
       "      <th>3</th>\n",
       "      <td>1</td>\n",
       "      <td>0</td>\n",
       "      <td>14</td>\n",
       "      <td>0</td>\n",
       "      <td>2</td>\n",
       "      <td>2</td>\n",
       "      <td>0</td>\n",
       "      <td>0</td>\n",
       "      <td>TA/TO</td>\n",
       "      <td>0</td>\n",
       "      <td>...</td>\n",
       "      <td>0</td>\n",
       "      <td>Transient</td>\n",
       "      <td>98.00</td>\n",
       "      <td>0</td>\n",
       "      <td>1</td>\n",
       "      <td>1.0</td>\n",
       "      <td>0.0</td>\n",
       "      <td>0.0</td>\n",
       "      <td>0.0</td>\n",
       "      <td>0.0</td>\n",
       "    </tr>\n",
       "    <tr>\n",
       "      <th>4</th>\n",
       "      <td>1</td>\n",
       "      <td>0</td>\n",
       "      <td>0</td>\n",
       "      <td>0</td>\n",
       "      <td>2</td>\n",
       "      <td>2</td>\n",
       "      <td>0</td>\n",
       "      <td>0</td>\n",
       "      <td>Direct</td>\n",
       "      <td>0</td>\n",
       "      <td>...</td>\n",
       "      <td>0</td>\n",
       "      <td>Transient</td>\n",
       "      <td>107.00</td>\n",
       "      <td>0</td>\n",
       "      <td>0</td>\n",
       "      <td>1.0</td>\n",
       "      <td>0.0</td>\n",
       "      <td>0.0</td>\n",
       "      <td>0.0</td>\n",
       "      <td>0.0</td>\n",
       "    </tr>\n",
       "    <tr>\n",
       "      <th>...</th>\n",
       "      <td>...</td>\n",
       "      <td>...</td>\n",
       "      <td>...</td>\n",
       "      <td>...</td>\n",
       "      <td>...</td>\n",
       "      <td>...</td>\n",
       "      <td>...</td>\n",
       "      <td>...</td>\n",
       "      <td>...</td>\n",
       "      <td>...</td>\n",
       "      <td>...</td>\n",
       "      <td>...</td>\n",
       "      <td>...</td>\n",
       "      <td>...</td>\n",
       "      <td>...</td>\n",
       "      <td>...</td>\n",
       "      <td>...</td>\n",
       "      <td>...</td>\n",
       "      <td>...</td>\n",
       "      <td>...</td>\n",
       "      <td>...</td>\n",
       "    </tr>\n",
       "    <tr>\n",
       "      <th>103417</th>\n",
       "      <td>0</td>\n",
       "      <td>0</td>\n",
       "      <td>188</td>\n",
       "      <td>2</td>\n",
       "      <td>3</td>\n",
       "      <td>2</td>\n",
       "      <td>0</td>\n",
       "      <td>0</td>\n",
       "      <td>Direct</td>\n",
       "      <td>0</td>\n",
       "      <td>...</td>\n",
       "      <td>0</td>\n",
       "      <td>Transient</td>\n",
       "      <td>99.00</td>\n",
       "      <td>0</td>\n",
       "      <td>0</td>\n",
       "      <td>1.0</td>\n",
       "      <td>0.0</td>\n",
       "      <td>0.0</td>\n",
       "      <td>0.0</td>\n",
       "      <td>0.0</td>\n",
       "    </tr>\n",
       "    <tr>\n",
       "      <th>103418</th>\n",
       "      <td>0</td>\n",
       "      <td>0</td>\n",
       "      <td>164</td>\n",
       "      <td>2</td>\n",
       "      <td>4</td>\n",
       "      <td>2</td>\n",
       "      <td>0</td>\n",
       "      <td>0</td>\n",
       "      <td>TA/TO</td>\n",
       "      <td>0</td>\n",
       "      <td>...</td>\n",
       "      <td>0</td>\n",
       "      <td>Transient</td>\n",
       "      <td>87.60</td>\n",
       "      <td>0</td>\n",
       "      <td>0</td>\n",
       "      <td>1.0</td>\n",
       "      <td>0.0</td>\n",
       "      <td>0.0</td>\n",
       "      <td>0.0</td>\n",
       "      <td>0.0</td>\n",
       "    </tr>\n",
       "    <tr>\n",
       "      <th>103419</th>\n",
       "      <td>0</td>\n",
       "      <td>0</td>\n",
       "      <td>21</td>\n",
       "      <td>2</td>\n",
       "      <td>5</td>\n",
       "      <td>2</td>\n",
       "      <td>0</td>\n",
       "      <td>0</td>\n",
       "      <td>TA/TO</td>\n",
       "      <td>0</td>\n",
       "      <td>...</td>\n",
       "      <td>0</td>\n",
       "      <td>Transient</td>\n",
       "      <td>96.14</td>\n",
       "      <td>0</td>\n",
       "      <td>2</td>\n",
       "      <td>1.0</td>\n",
       "      <td>0.0</td>\n",
       "      <td>0.0</td>\n",
       "      <td>0.0</td>\n",
       "      <td>0.0</td>\n",
       "    </tr>\n",
       "    <tr>\n",
       "      <th>103420</th>\n",
       "      <td>0</td>\n",
       "      <td>0</td>\n",
       "      <td>23</td>\n",
       "      <td>2</td>\n",
       "      <td>5</td>\n",
       "      <td>2</td>\n",
       "      <td>0</td>\n",
       "      <td>0</td>\n",
       "      <td>TA/TO</td>\n",
       "      <td>0</td>\n",
       "      <td>...</td>\n",
       "      <td>0</td>\n",
       "      <td>Transient</td>\n",
       "      <td>96.14</td>\n",
       "      <td>0</td>\n",
       "      <td>0</td>\n",
       "      <td>1.0</td>\n",
       "      <td>0.0</td>\n",
       "      <td>0.0</td>\n",
       "      <td>0.0</td>\n",
       "      <td>0.0</td>\n",
       "    </tr>\n",
       "    <tr>\n",
       "      <th>103421</th>\n",
       "      <td>0</td>\n",
       "      <td>0</td>\n",
       "      <td>109</td>\n",
       "      <td>2</td>\n",
       "      <td>5</td>\n",
       "      <td>2</td>\n",
       "      <td>0</td>\n",
       "      <td>0</td>\n",
       "      <td>TA/TO</td>\n",
       "      <td>0</td>\n",
       "      <td>...</td>\n",
       "      <td>0</td>\n",
       "      <td>Transient</td>\n",
       "      <td>104.40</td>\n",
       "      <td>0</td>\n",
       "      <td>0</td>\n",
       "      <td>1.0</td>\n",
       "      <td>0.0</td>\n",
       "      <td>0.0</td>\n",
       "      <td>0.0</td>\n",
       "      <td>0.0</td>\n",
       "    </tr>\n",
       "  </tbody>\n",
       "</table>\n",
       "<p>103422 rows × 25 columns</p>\n",
       "</div>"
      ],
      "text/plain": [
       "        hotel  is_canceled  lead_time  stays_in_weekend_nights  \\\n",
       "0           1            0          7                        0   \n",
       "1           1            0         13                        0   \n",
       "2           1            0         14                        0   \n",
       "3           1            0         14                        0   \n",
       "4           1            0          0                        0   \n",
       "...       ...          ...        ...                      ...   \n",
       "103417      0            0        188                        2   \n",
       "103418      0            0        164                        2   \n",
       "103419      0            0         21                        2   \n",
       "103420      0            0         23                        2   \n",
       "103421      0            0        109                        2   \n",
       "\n",
       "        stays_in_week_nights  adults  children  babies distribution_channel  \\\n",
       "0                          1       1         0       0               Direct   \n",
       "1                          1       1         0       0            Corporate   \n",
       "2                          2       2         0       0                TA/TO   \n",
       "3                          2       2         0       0                TA/TO   \n",
       "4                          2       2         0       0               Direct   \n",
       "...                      ...     ...       ...     ...                  ...   \n",
       "103417                     3       2         0       0               Direct   \n",
       "103418                     4       2         0       0                TA/TO   \n",
       "103419                     5       2         0       0                TA/TO   \n",
       "103420                     5       2         0       0                TA/TO   \n",
       "103421                     5       2         0       0                TA/TO   \n",
       "\n",
       "        is_repeated_guest  ...  days_in_waiting_list  customer_type     adr  \\\n",
       "0                       0  ...                     0      Transient   75.00   \n",
       "1                       0  ...                     0      Transient   75.00   \n",
       "2                       0  ...                     0      Transient   98.00   \n",
       "3                       0  ...                     0      Transient   98.00   \n",
       "4                       0  ...                     0      Transient  107.00   \n",
       "...                   ...  ...                   ...            ...     ...   \n",
       "103417                  0  ...                     0      Transient   99.00   \n",
       "103418                  0  ...                     0      Transient   87.60   \n",
       "103419                  0  ...                     0      Transient   96.14   \n",
       "103420                  0  ...                     0      Transient   96.14   \n",
       "103421                  0  ...                     0      Transient  104.40   \n",
       "\n",
       "        required_car_parking_spaces total_of_special_requests  meal_BB  \\\n",
       "0                                 0                         0      1.0   \n",
       "1                                 0                         0      1.0   \n",
       "2                                 0                         1      1.0   \n",
       "3                                 0                         1      1.0   \n",
       "4                                 0                         0      1.0   \n",
       "...                             ...                       ...      ...   \n",
       "103417                            0                         0      1.0   \n",
       "103418                            0                         0      1.0   \n",
       "103419                            0                         2      1.0   \n",
       "103420                            0                         0      1.0   \n",
       "103421                            0                         0      1.0   \n",
       "\n",
       "       meal_FB  meal_HB  meal_SC  meal_Undefined  \n",
       "0          0.0      0.0      0.0             0.0  \n",
       "1          0.0      0.0      0.0             0.0  \n",
       "2          0.0      0.0      0.0             0.0  \n",
       "3          0.0      0.0      0.0             0.0  \n",
       "4          0.0      0.0      0.0             0.0  \n",
       "...        ...      ...      ...             ...  \n",
       "103417     0.0      0.0      0.0             0.0  \n",
       "103418     0.0      0.0      0.0             0.0  \n",
       "103419     0.0      0.0      0.0             0.0  \n",
       "103420     0.0      0.0      0.0             0.0  \n",
       "103421     0.0      0.0      0.0             0.0  \n",
       "\n",
       "[103422 rows x 25 columns]"
      ]
     },
     "execution_count": 1086,
     "metadata": {},
     "output_type": "execute_result"
    }
   ],
   "source": [
    "# Using one hot encoding scikit learn library\n",
    "from sklearn.preprocessing import OneHotEncoder\n",
    "\n",
    "# Initialize OneHotEncoder from sklearn\n",
    "ohe = OneHotEncoder(sparse_output=False)\n",
    "\n",
    "\n",
    "ohe_coded = ohe.fit_transform(bookings_data[['meal']])\n",
    "\n",
    "# Convert the result into a DataFrame with proper column names\n",
    "one_hot_df = pd.DataFrame(ohe_coded,columns=ohe.get_feature_names_out(['meal']))\n",
    "\n",
    "# Drop the original 'meal' column\n",
    "bookings_data = bookings_data.drop('meal', axis=1)\n",
    "\n",
    "# Join the new one-hot encoded df back to the original\n",
    "bookings_data = bookings_data.join(one_hot_df)\n",
    "\n",
    "bookings_data"
   ]
  },
  {
   "cell_type": "markdown",
   "metadata": {},
   "source": [
    "### Distribution Channel Column"
   ]
  },
  {
   "cell_type": "code",
   "execution_count": 1087,
   "metadata": {},
   "outputs": [
    {
     "data": {
      "text/html": [
       "<div>\n",
       "<style scoped>\n",
       "    .dataframe tbody tr th:only-of-type {\n",
       "        vertical-align: middle;\n",
       "    }\n",
       "\n",
       "    .dataframe tbody tr th {\n",
       "        vertical-align: top;\n",
       "    }\n",
       "\n",
       "    .dataframe thead th {\n",
       "        text-align: right;\n",
       "    }\n",
       "</style>\n",
       "<table border=\"1\" class=\"dataframe\">\n",
       "  <thead>\n",
       "    <tr style=\"text-align: right;\">\n",
       "      <th></th>\n",
       "      <th>hotel</th>\n",
       "      <th>is_canceled</th>\n",
       "      <th>lead_time</th>\n",
       "      <th>stays_in_weekend_nights</th>\n",
       "      <th>stays_in_week_nights</th>\n",
       "      <th>adults</th>\n",
       "      <th>children</th>\n",
       "      <th>babies</th>\n",
       "      <th>is_repeated_guest</th>\n",
       "      <th>previous_cancellations</th>\n",
       "      <th>...</th>\n",
       "      <th>meal_BB</th>\n",
       "      <th>meal_FB</th>\n",
       "      <th>meal_HB</th>\n",
       "      <th>meal_SC</th>\n",
       "      <th>meal_Undefined</th>\n",
       "      <th>distribution_channel_Corporate</th>\n",
       "      <th>distribution_channel_Direct</th>\n",
       "      <th>distribution_channel_GDS</th>\n",
       "      <th>distribution_channel_TA/TO</th>\n",
       "      <th>distribution_channel_Undefined</th>\n",
       "    </tr>\n",
       "  </thead>\n",
       "  <tbody>\n",
       "    <tr>\n",
       "      <th>0</th>\n",
       "      <td>1</td>\n",
       "      <td>0</td>\n",
       "      <td>7</td>\n",
       "      <td>0</td>\n",
       "      <td>1</td>\n",
       "      <td>1</td>\n",
       "      <td>0</td>\n",
       "      <td>0</td>\n",
       "      <td>0</td>\n",
       "      <td>0</td>\n",
       "      <td>...</td>\n",
       "      <td>1.0</td>\n",
       "      <td>0.0</td>\n",
       "      <td>0.0</td>\n",
       "      <td>0.0</td>\n",
       "      <td>0.0</td>\n",
       "      <td>0.0</td>\n",
       "      <td>1.0</td>\n",
       "      <td>0.0</td>\n",
       "      <td>0.0</td>\n",
       "      <td>0.0</td>\n",
       "    </tr>\n",
       "    <tr>\n",
       "      <th>1</th>\n",
       "      <td>1</td>\n",
       "      <td>0</td>\n",
       "      <td>13</td>\n",
       "      <td>0</td>\n",
       "      <td>1</td>\n",
       "      <td>1</td>\n",
       "      <td>0</td>\n",
       "      <td>0</td>\n",
       "      <td>0</td>\n",
       "      <td>0</td>\n",
       "      <td>...</td>\n",
       "      <td>1.0</td>\n",
       "      <td>0.0</td>\n",
       "      <td>0.0</td>\n",
       "      <td>0.0</td>\n",
       "      <td>0.0</td>\n",
       "      <td>1.0</td>\n",
       "      <td>0.0</td>\n",
       "      <td>0.0</td>\n",
       "      <td>0.0</td>\n",
       "      <td>0.0</td>\n",
       "    </tr>\n",
       "    <tr>\n",
       "      <th>2</th>\n",
       "      <td>1</td>\n",
       "      <td>0</td>\n",
       "      <td>14</td>\n",
       "      <td>0</td>\n",
       "      <td>2</td>\n",
       "      <td>2</td>\n",
       "      <td>0</td>\n",
       "      <td>0</td>\n",
       "      <td>0</td>\n",
       "      <td>0</td>\n",
       "      <td>...</td>\n",
       "      <td>1.0</td>\n",
       "      <td>0.0</td>\n",
       "      <td>0.0</td>\n",
       "      <td>0.0</td>\n",
       "      <td>0.0</td>\n",
       "      <td>0.0</td>\n",
       "      <td>0.0</td>\n",
       "      <td>0.0</td>\n",
       "      <td>1.0</td>\n",
       "      <td>0.0</td>\n",
       "    </tr>\n",
       "    <tr>\n",
       "      <th>3</th>\n",
       "      <td>1</td>\n",
       "      <td>0</td>\n",
       "      <td>14</td>\n",
       "      <td>0</td>\n",
       "      <td>2</td>\n",
       "      <td>2</td>\n",
       "      <td>0</td>\n",
       "      <td>0</td>\n",
       "      <td>0</td>\n",
       "      <td>0</td>\n",
       "      <td>...</td>\n",
       "      <td>1.0</td>\n",
       "      <td>0.0</td>\n",
       "      <td>0.0</td>\n",
       "      <td>0.0</td>\n",
       "      <td>0.0</td>\n",
       "      <td>0.0</td>\n",
       "      <td>0.0</td>\n",
       "      <td>0.0</td>\n",
       "      <td>1.0</td>\n",
       "      <td>0.0</td>\n",
       "    </tr>\n",
       "    <tr>\n",
       "      <th>4</th>\n",
       "      <td>1</td>\n",
       "      <td>0</td>\n",
       "      <td>0</td>\n",
       "      <td>0</td>\n",
       "      <td>2</td>\n",
       "      <td>2</td>\n",
       "      <td>0</td>\n",
       "      <td>0</td>\n",
       "      <td>0</td>\n",
       "      <td>0</td>\n",
       "      <td>...</td>\n",
       "      <td>1.0</td>\n",
       "      <td>0.0</td>\n",
       "      <td>0.0</td>\n",
       "      <td>0.0</td>\n",
       "      <td>0.0</td>\n",
       "      <td>0.0</td>\n",
       "      <td>1.0</td>\n",
       "      <td>0.0</td>\n",
       "      <td>0.0</td>\n",
       "      <td>0.0</td>\n",
       "    </tr>\n",
       "    <tr>\n",
       "      <th>...</th>\n",
       "      <td>...</td>\n",
       "      <td>...</td>\n",
       "      <td>...</td>\n",
       "      <td>...</td>\n",
       "      <td>...</td>\n",
       "      <td>...</td>\n",
       "      <td>...</td>\n",
       "      <td>...</td>\n",
       "      <td>...</td>\n",
       "      <td>...</td>\n",
       "      <td>...</td>\n",
       "      <td>...</td>\n",
       "      <td>...</td>\n",
       "      <td>...</td>\n",
       "      <td>...</td>\n",
       "      <td>...</td>\n",
       "      <td>...</td>\n",
       "      <td>...</td>\n",
       "      <td>...</td>\n",
       "      <td>...</td>\n",
       "      <td>...</td>\n",
       "    </tr>\n",
       "    <tr>\n",
       "      <th>103417</th>\n",
       "      <td>0</td>\n",
       "      <td>0</td>\n",
       "      <td>188</td>\n",
       "      <td>2</td>\n",
       "      <td>3</td>\n",
       "      <td>2</td>\n",
       "      <td>0</td>\n",
       "      <td>0</td>\n",
       "      <td>0</td>\n",
       "      <td>0</td>\n",
       "      <td>...</td>\n",
       "      <td>1.0</td>\n",
       "      <td>0.0</td>\n",
       "      <td>0.0</td>\n",
       "      <td>0.0</td>\n",
       "      <td>0.0</td>\n",
       "      <td>0.0</td>\n",
       "      <td>1.0</td>\n",
       "      <td>0.0</td>\n",
       "      <td>0.0</td>\n",
       "      <td>0.0</td>\n",
       "    </tr>\n",
       "    <tr>\n",
       "      <th>103418</th>\n",
       "      <td>0</td>\n",
       "      <td>0</td>\n",
       "      <td>164</td>\n",
       "      <td>2</td>\n",
       "      <td>4</td>\n",
       "      <td>2</td>\n",
       "      <td>0</td>\n",
       "      <td>0</td>\n",
       "      <td>0</td>\n",
       "      <td>0</td>\n",
       "      <td>...</td>\n",
       "      <td>1.0</td>\n",
       "      <td>0.0</td>\n",
       "      <td>0.0</td>\n",
       "      <td>0.0</td>\n",
       "      <td>0.0</td>\n",
       "      <td>0.0</td>\n",
       "      <td>0.0</td>\n",
       "      <td>0.0</td>\n",
       "      <td>1.0</td>\n",
       "      <td>0.0</td>\n",
       "    </tr>\n",
       "    <tr>\n",
       "      <th>103419</th>\n",
       "      <td>0</td>\n",
       "      <td>0</td>\n",
       "      <td>21</td>\n",
       "      <td>2</td>\n",
       "      <td>5</td>\n",
       "      <td>2</td>\n",
       "      <td>0</td>\n",
       "      <td>0</td>\n",
       "      <td>0</td>\n",
       "      <td>0</td>\n",
       "      <td>...</td>\n",
       "      <td>1.0</td>\n",
       "      <td>0.0</td>\n",
       "      <td>0.0</td>\n",
       "      <td>0.0</td>\n",
       "      <td>0.0</td>\n",
       "      <td>0.0</td>\n",
       "      <td>0.0</td>\n",
       "      <td>0.0</td>\n",
       "      <td>1.0</td>\n",
       "      <td>0.0</td>\n",
       "    </tr>\n",
       "    <tr>\n",
       "      <th>103420</th>\n",
       "      <td>0</td>\n",
       "      <td>0</td>\n",
       "      <td>23</td>\n",
       "      <td>2</td>\n",
       "      <td>5</td>\n",
       "      <td>2</td>\n",
       "      <td>0</td>\n",
       "      <td>0</td>\n",
       "      <td>0</td>\n",
       "      <td>0</td>\n",
       "      <td>...</td>\n",
       "      <td>1.0</td>\n",
       "      <td>0.0</td>\n",
       "      <td>0.0</td>\n",
       "      <td>0.0</td>\n",
       "      <td>0.0</td>\n",
       "      <td>0.0</td>\n",
       "      <td>0.0</td>\n",
       "      <td>0.0</td>\n",
       "      <td>1.0</td>\n",
       "      <td>0.0</td>\n",
       "    </tr>\n",
       "    <tr>\n",
       "      <th>103421</th>\n",
       "      <td>0</td>\n",
       "      <td>0</td>\n",
       "      <td>109</td>\n",
       "      <td>2</td>\n",
       "      <td>5</td>\n",
       "      <td>2</td>\n",
       "      <td>0</td>\n",
       "      <td>0</td>\n",
       "      <td>0</td>\n",
       "      <td>0</td>\n",
       "      <td>...</td>\n",
       "      <td>1.0</td>\n",
       "      <td>0.0</td>\n",
       "      <td>0.0</td>\n",
       "      <td>0.0</td>\n",
       "      <td>0.0</td>\n",
       "      <td>0.0</td>\n",
       "      <td>0.0</td>\n",
       "      <td>0.0</td>\n",
       "      <td>1.0</td>\n",
       "      <td>0.0</td>\n",
       "    </tr>\n",
       "  </tbody>\n",
       "</table>\n",
       "<p>103422 rows × 29 columns</p>\n",
       "</div>"
      ],
      "text/plain": [
       "        hotel  is_canceled  lead_time  stays_in_weekend_nights  \\\n",
       "0           1            0          7                        0   \n",
       "1           1            0         13                        0   \n",
       "2           1            0         14                        0   \n",
       "3           1            0         14                        0   \n",
       "4           1            0          0                        0   \n",
       "...       ...          ...        ...                      ...   \n",
       "103417      0            0        188                        2   \n",
       "103418      0            0        164                        2   \n",
       "103419      0            0         21                        2   \n",
       "103420      0            0         23                        2   \n",
       "103421      0            0        109                        2   \n",
       "\n",
       "        stays_in_week_nights  adults  children  babies  is_repeated_guest  \\\n",
       "0                          1       1         0       0                  0   \n",
       "1                          1       1         0       0                  0   \n",
       "2                          2       2         0       0                  0   \n",
       "3                          2       2         0       0                  0   \n",
       "4                          2       2         0       0                  0   \n",
       "...                      ...     ...       ...     ...                ...   \n",
       "103417                     3       2         0       0                  0   \n",
       "103418                     4       2         0       0                  0   \n",
       "103419                     5       2         0       0                  0   \n",
       "103420                     5       2         0       0                  0   \n",
       "103421                     5       2         0       0                  0   \n",
       "\n",
       "        previous_cancellations  ...  meal_BB  meal_FB  meal_HB meal_SC  \\\n",
       "0                            0  ...      1.0      0.0      0.0     0.0   \n",
       "1                            0  ...      1.0      0.0      0.0     0.0   \n",
       "2                            0  ...      1.0      0.0      0.0     0.0   \n",
       "3                            0  ...      1.0      0.0      0.0     0.0   \n",
       "4                            0  ...      1.0      0.0      0.0     0.0   \n",
       "...                        ...  ...      ...      ...      ...     ...   \n",
       "103417                       0  ...      1.0      0.0      0.0     0.0   \n",
       "103418                       0  ...      1.0      0.0      0.0     0.0   \n",
       "103419                       0  ...      1.0      0.0      0.0     0.0   \n",
       "103420                       0  ...      1.0      0.0      0.0     0.0   \n",
       "103421                       0  ...      1.0      0.0      0.0     0.0   \n",
       "\n",
       "        meal_Undefined distribution_channel_Corporate  \\\n",
       "0                  0.0                            0.0   \n",
       "1                  0.0                            1.0   \n",
       "2                  0.0                            0.0   \n",
       "3                  0.0                            0.0   \n",
       "4                  0.0                            0.0   \n",
       "...                ...                            ...   \n",
       "103417             0.0                            0.0   \n",
       "103418             0.0                            0.0   \n",
       "103419             0.0                            0.0   \n",
       "103420             0.0                            0.0   \n",
       "103421             0.0                            0.0   \n",
       "\n",
       "        distribution_channel_Direct  distribution_channel_GDS  \\\n",
       "0                               1.0                       0.0   \n",
       "1                               0.0                       0.0   \n",
       "2                               0.0                       0.0   \n",
       "3                               0.0                       0.0   \n",
       "4                               1.0                       0.0   \n",
       "...                             ...                       ...   \n",
       "103417                          1.0                       0.0   \n",
       "103418                          0.0                       0.0   \n",
       "103419                          0.0                       0.0   \n",
       "103420                          0.0                       0.0   \n",
       "103421                          0.0                       0.0   \n",
       "\n",
       "        distribution_channel_TA/TO  distribution_channel_Undefined  \n",
       "0                              0.0                             0.0  \n",
       "1                              0.0                             0.0  \n",
       "2                              1.0                             0.0  \n",
       "3                              1.0                             0.0  \n",
       "4                              0.0                             0.0  \n",
       "...                            ...                             ...  \n",
       "103417                         0.0                             0.0  \n",
       "103418                         1.0                             0.0  \n",
       "103419                         1.0                             0.0  \n",
       "103420                         1.0                             0.0  \n",
       "103421                         1.0                             0.0  \n",
       "\n",
       "[103422 rows x 29 columns]"
      ]
     },
     "execution_count": 1087,
     "metadata": {},
     "output_type": "execute_result"
    }
   ],
   "source": [
    "# Apply OneHotEncoder to the 'distribution_channel' column\n",
    "ohe_coded = ohe.fit_transform(bookings_data[['distribution_channel']])\n",
    "\n",
    "# Convert the result into a DataFrame with proper column names\n",
    "one_hot_df = pd.DataFrame(ohe_coded,columns=ohe.get_feature_names_out(['distribution_channel']))\n",
    "\n",
    "# Drop the original 'distribution_channel' column\n",
    "bookings_data = bookings_data.drop('distribution_channel', axis=1)\n",
    "\n",
    "# Join the new one-hot encoded df back to the original\n",
    "bookings_data = bookings_data.join(one_hot_df)\n",
    "\n",
    "bookings_data\n"
   ]
  },
  {
   "cell_type": "markdown",
   "metadata": {},
   "source": [
    "### Deposit Type Column"
   ]
  },
  {
   "cell_type": "code",
   "execution_count": 1088,
   "metadata": {},
   "outputs": [
    {
     "name": "stderr",
     "output_type": "stream",
     "text": [
      "/var/folders/yl/hc0wg3cd5577fyq8rq7spkx00000gn/T/ipykernel_21466/391467230.py:4: FutureWarning: Downcasting behavior in `replace` is deprecated and will be removed in a future version. To retain the old behavior, explicitly call `result.infer_objects(copy=False)`. To opt-in to the future behavior, set `pd.set_option('future.no_silent_downcasting', True)`\n",
      "  bookings_data['deposit_type'] = bookings_data['deposit_type'].replace({deposit_type[0]: 0, deposit_type[1]: 1, deposit_type[2]: 2})\n"
     ]
    },
    {
     "data": {
      "text/plain": [
       "deposit_type\n",
       "0    91086\n",
       "2    12186\n",
       "1      150\n",
       "Name: count, dtype: int64"
      ]
     },
     "execution_count": 1088,
     "metadata": {},
     "output_type": "execute_result"
    }
   ],
   "source": [
    "deposit_type = bookings_data.deposit_type.unique()\n",
    "\n",
    "# Using the manual replacing as its considerably small amount of unique values in the column -> (No Deposit,Non Refund,Refundable)\n",
    "bookings_data['deposit_type'] = bookings_data['deposit_type'].replace({deposit_type[0]: 0, deposit_type[1]: 1, deposit_type[2]: 2})\n",
    "\n",
    "bookings_data.deposit_type.value_counts()"
   ]
  },
  {
   "cell_type": "markdown",
   "metadata": {},
   "source": [
    "### Customer Type Column"
   ]
  },
  {
   "cell_type": "code",
   "execution_count": 1089,
   "metadata": {},
   "outputs": [
    {
     "data": {
      "text/html": [
       "<div>\n",
       "<style scoped>\n",
       "    .dataframe tbody tr th:only-of-type {\n",
       "        vertical-align: middle;\n",
       "    }\n",
       "\n",
       "    .dataframe tbody tr th {\n",
       "        vertical-align: top;\n",
       "    }\n",
       "\n",
       "    .dataframe thead th {\n",
       "        text-align: right;\n",
       "    }\n",
       "</style>\n",
       "<table border=\"1\" class=\"dataframe\">\n",
       "  <thead>\n",
       "    <tr style=\"text-align: right;\">\n",
       "      <th></th>\n",
       "      <th>hotel</th>\n",
       "      <th>is_canceled</th>\n",
       "      <th>lead_time</th>\n",
       "      <th>stays_in_weekend_nights</th>\n",
       "      <th>stays_in_week_nights</th>\n",
       "      <th>adults</th>\n",
       "      <th>children</th>\n",
       "      <th>babies</th>\n",
       "      <th>is_repeated_guest</th>\n",
       "      <th>previous_cancellations</th>\n",
       "      <th>...</th>\n",
       "      <th>meal_Undefined</th>\n",
       "      <th>distribution_channel_Corporate</th>\n",
       "      <th>distribution_channel_Direct</th>\n",
       "      <th>distribution_channel_GDS</th>\n",
       "      <th>distribution_channel_TA/TO</th>\n",
       "      <th>distribution_channel_Undefined</th>\n",
       "      <th>customer_type_Contract</th>\n",
       "      <th>customer_type_Group</th>\n",
       "      <th>customer_type_Transient</th>\n",
       "      <th>customer_type_Transient-Party</th>\n",
       "    </tr>\n",
       "  </thead>\n",
       "  <tbody>\n",
       "    <tr>\n",
       "      <th>0</th>\n",
       "      <td>1</td>\n",
       "      <td>0</td>\n",
       "      <td>7</td>\n",
       "      <td>0</td>\n",
       "      <td>1</td>\n",
       "      <td>1</td>\n",
       "      <td>0</td>\n",
       "      <td>0</td>\n",
       "      <td>0</td>\n",
       "      <td>0</td>\n",
       "      <td>...</td>\n",
       "      <td>0.0</td>\n",
       "      <td>0.0</td>\n",
       "      <td>1.0</td>\n",
       "      <td>0.0</td>\n",
       "      <td>0.0</td>\n",
       "      <td>0.0</td>\n",
       "      <td>0.0</td>\n",
       "      <td>0.0</td>\n",
       "      <td>1.0</td>\n",
       "      <td>0.0</td>\n",
       "    </tr>\n",
       "    <tr>\n",
       "      <th>1</th>\n",
       "      <td>1</td>\n",
       "      <td>0</td>\n",
       "      <td>13</td>\n",
       "      <td>0</td>\n",
       "      <td>1</td>\n",
       "      <td>1</td>\n",
       "      <td>0</td>\n",
       "      <td>0</td>\n",
       "      <td>0</td>\n",
       "      <td>0</td>\n",
       "      <td>...</td>\n",
       "      <td>0.0</td>\n",
       "      <td>1.0</td>\n",
       "      <td>0.0</td>\n",
       "      <td>0.0</td>\n",
       "      <td>0.0</td>\n",
       "      <td>0.0</td>\n",
       "      <td>0.0</td>\n",
       "      <td>0.0</td>\n",
       "      <td>1.0</td>\n",
       "      <td>0.0</td>\n",
       "    </tr>\n",
       "    <tr>\n",
       "      <th>2</th>\n",
       "      <td>1</td>\n",
       "      <td>0</td>\n",
       "      <td>14</td>\n",
       "      <td>0</td>\n",
       "      <td>2</td>\n",
       "      <td>2</td>\n",
       "      <td>0</td>\n",
       "      <td>0</td>\n",
       "      <td>0</td>\n",
       "      <td>0</td>\n",
       "      <td>...</td>\n",
       "      <td>0.0</td>\n",
       "      <td>0.0</td>\n",
       "      <td>0.0</td>\n",
       "      <td>0.0</td>\n",
       "      <td>1.0</td>\n",
       "      <td>0.0</td>\n",
       "      <td>0.0</td>\n",
       "      <td>0.0</td>\n",
       "      <td>1.0</td>\n",
       "      <td>0.0</td>\n",
       "    </tr>\n",
       "    <tr>\n",
       "      <th>3</th>\n",
       "      <td>1</td>\n",
       "      <td>0</td>\n",
       "      <td>14</td>\n",
       "      <td>0</td>\n",
       "      <td>2</td>\n",
       "      <td>2</td>\n",
       "      <td>0</td>\n",
       "      <td>0</td>\n",
       "      <td>0</td>\n",
       "      <td>0</td>\n",
       "      <td>...</td>\n",
       "      <td>0.0</td>\n",
       "      <td>0.0</td>\n",
       "      <td>0.0</td>\n",
       "      <td>0.0</td>\n",
       "      <td>1.0</td>\n",
       "      <td>0.0</td>\n",
       "      <td>0.0</td>\n",
       "      <td>0.0</td>\n",
       "      <td>1.0</td>\n",
       "      <td>0.0</td>\n",
       "    </tr>\n",
       "    <tr>\n",
       "      <th>4</th>\n",
       "      <td>1</td>\n",
       "      <td>0</td>\n",
       "      <td>0</td>\n",
       "      <td>0</td>\n",
       "      <td>2</td>\n",
       "      <td>2</td>\n",
       "      <td>0</td>\n",
       "      <td>0</td>\n",
       "      <td>0</td>\n",
       "      <td>0</td>\n",
       "      <td>...</td>\n",
       "      <td>0.0</td>\n",
       "      <td>0.0</td>\n",
       "      <td>1.0</td>\n",
       "      <td>0.0</td>\n",
       "      <td>0.0</td>\n",
       "      <td>0.0</td>\n",
       "      <td>0.0</td>\n",
       "      <td>0.0</td>\n",
       "      <td>1.0</td>\n",
       "      <td>0.0</td>\n",
       "    </tr>\n",
       "    <tr>\n",
       "      <th>...</th>\n",
       "      <td>...</td>\n",
       "      <td>...</td>\n",
       "      <td>...</td>\n",
       "      <td>...</td>\n",
       "      <td>...</td>\n",
       "      <td>...</td>\n",
       "      <td>...</td>\n",
       "      <td>...</td>\n",
       "      <td>...</td>\n",
       "      <td>...</td>\n",
       "      <td>...</td>\n",
       "      <td>...</td>\n",
       "      <td>...</td>\n",
       "      <td>...</td>\n",
       "      <td>...</td>\n",
       "      <td>...</td>\n",
       "      <td>...</td>\n",
       "      <td>...</td>\n",
       "      <td>...</td>\n",
       "      <td>...</td>\n",
       "      <td>...</td>\n",
       "    </tr>\n",
       "    <tr>\n",
       "      <th>103417</th>\n",
       "      <td>0</td>\n",
       "      <td>0</td>\n",
       "      <td>188</td>\n",
       "      <td>2</td>\n",
       "      <td>3</td>\n",
       "      <td>2</td>\n",
       "      <td>0</td>\n",
       "      <td>0</td>\n",
       "      <td>0</td>\n",
       "      <td>0</td>\n",
       "      <td>...</td>\n",
       "      <td>0.0</td>\n",
       "      <td>0.0</td>\n",
       "      <td>1.0</td>\n",
       "      <td>0.0</td>\n",
       "      <td>0.0</td>\n",
       "      <td>0.0</td>\n",
       "      <td>0.0</td>\n",
       "      <td>0.0</td>\n",
       "      <td>1.0</td>\n",
       "      <td>0.0</td>\n",
       "    </tr>\n",
       "    <tr>\n",
       "      <th>103418</th>\n",
       "      <td>0</td>\n",
       "      <td>0</td>\n",
       "      <td>164</td>\n",
       "      <td>2</td>\n",
       "      <td>4</td>\n",
       "      <td>2</td>\n",
       "      <td>0</td>\n",
       "      <td>0</td>\n",
       "      <td>0</td>\n",
       "      <td>0</td>\n",
       "      <td>...</td>\n",
       "      <td>0.0</td>\n",
       "      <td>0.0</td>\n",
       "      <td>0.0</td>\n",
       "      <td>0.0</td>\n",
       "      <td>1.0</td>\n",
       "      <td>0.0</td>\n",
       "      <td>0.0</td>\n",
       "      <td>0.0</td>\n",
       "      <td>1.0</td>\n",
       "      <td>0.0</td>\n",
       "    </tr>\n",
       "    <tr>\n",
       "      <th>103419</th>\n",
       "      <td>0</td>\n",
       "      <td>0</td>\n",
       "      <td>21</td>\n",
       "      <td>2</td>\n",
       "      <td>5</td>\n",
       "      <td>2</td>\n",
       "      <td>0</td>\n",
       "      <td>0</td>\n",
       "      <td>0</td>\n",
       "      <td>0</td>\n",
       "      <td>...</td>\n",
       "      <td>0.0</td>\n",
       "      <td>0.0</td>\n",
       "      <td>0.0</td>\n",
       "      <td>0.0</td>\n",
       "      <td>1.0</td>\n",
       "      <td>0.0</td>\n",
       "      <td>0.0</td>\n",
       "      <td>0.0</td>\n",
       "      <td>1.0</td>\n",
       "      <td>0.0</td>\n",
       "    </tr>\n",
       "    <tr>\n",
       "      <th>103420</th>\n",
       "      <td>0</td>\n",
       "      <td>0</td>\n",
       "      <td>23</td>\n",
       "      <td>2</td>\n",
       "      <td>5</td>\n",
       "      <td>2</td>\n",
       "      <td>0</td>\n",
       "      <td>0</td>\n",
       "      <td>0</td>\n",
       "      <td>0</td>\n",
       "      <td>...</td>\n",
       "      <td>0.0</td>\n",
       "      <td>0.0</td>\n",
       "      <td>0.0</td>\n",
       "      <td>0.0</td>\n",
       "      <td>1.0</td>\n",
       "      <td>0.0</td>\n",
       "      <td>0.0</td>\n",
       "      <td>0.0</td>\n",
       "      <td>1.0</td>\n",
       "      <td>0.0</td>\n",
       "    </tr>\n",
       "    <tr>\n",
       "      <th>103421</th>\n",
       "      <td>0</td>\n",
       "      <td>0</td>\n",
       "      <td>109</td>\n",
       "      <td>2</td>\n",
       "      <td>5</td>\n",
       "      <td>2</td>\n",
       "      <td>0</td>\n",
       "      <td>0</td>\n",
       "      <td>0</td>\n",
       "      <td>0</td>\n",
       "      <td>...</td>\n",
       "      <td>0.0</td>\n",
       "      <td>0.0</td>\n",
       "      <td>0.0</td>\n",
       "      <td>0.0</td>\n",
       "      <td>1.0</td>\n",
       "      <td>0.0</td>\n",
       "      <td>0.0</td>\n",
       "      <td>0.0</td>\n",
       "      <td>1.0</td>\n",
       "      <td>0.0</td>\n",
       "    </tr>\n",
       "  </tbody>\n",
       "</table>\n",
       "<p>103422 rows × 32 columns</p>\n",
       "</div>"
      ],
      "text/plain": [
       "        hotel  is_canceled  lead_time  stays_in_weekend_nights  \\\n",
       "0           1            0          7                        0   \n",
       "1           1            0         13                        0   \n",
       "2           1            0         14                        0   \n",
       "3           1            0         14                        0   \n",
       "4           1            0          0                        0   \n",
       "...       ...          ...        ...                      ...   \n",
       "103417      0            0        188                        2   \n",
       "103418      0            0        164                        2   \n",
       "103419      0            0         21                        2   \n",
       "103420      0            0         23                        2   \n",
       "103421      0            0        109                        2   \n",
       "\n",
       "        stays_in_week_nights  adults  children  babies  is_repeated_guest  \\\n",
       "0                          1       1         0       0                  0   \n",
       "1                          1       1         0       0                  0   \n",
       "2                          2       2         0       0                  0   \n",
       "3                          2       2         0       0                  0   \n",
       "4                          2       2         0       0                  0   \n",
       "...                      ...     ...       ...     ...                ...   \n",
       "103417                     3       2         0       0                  0   \n",
       "103418                     4       2         0       0                  0   \n",
       "103419                     5       2         0       0                  0   \n",
       "103420                     5       2         0       0                  0   \n",
       "103421                     5       2         0       0                  0   \n",
       "\n",
       "        previous_cancellations  ...  meal_Undefined  \\\n",
       "0                            0  ...             0.0   \n",
       "1                            0  ...             0.0   \n",
       "2                            0  ...             0.0   \n",
       "3                            0  ...             0.0   \n",
       "4                            0  ...             0.0   \n",
       "...                        ...  ...             ...   \n",
       "103417                       0  ...             0.0   \n",
       "103418                       0  ...             0.0   \n",
       "103419                       0  ...             0.0   \n",
       "103420                       0  ...             0.0   \n",
       "103421                       0  ...             0.0   \n",
       "\n",
       "        distribution_channel_Corporate  distribution_channel_Direct  \\\n",
       "0                                  0.0                          1.0   \n",
       "1                                  1.0                          0.0   \n",
       "2                                  0.0                          0.0   \n",
       "3                                  0.0                          0.0   \n",
       "4                                  0.0                          1.0   \n",
       "...                                ...                          ...   \n",
       "103417                             0.0                          1.0   \n",
       "103418                             0.0                          0.0   \n",
       "103419                             0.0                          0.0   \n",
       "103420                             0.0                          0.0   \n",
       "103421                             0.0                          0.0   \n",
       "\n",
       "        distribution_channel_GDS  distribution_channel_TA/TO  \\\n",
       "0                            0.0                         0.0   \n",
       "1                            0.0                         0.0   \n",
       "2                            0.0                         1.0   \n",
       "3                            0.0                         1.0   \n",
       "4                            0.0                         0.0   \n",
       "...                          ...                         ...   \n",
       "103417                       0.0                         0.0   \n",
       "103418                       0.0                         1.0   \n",
       "103419                       0.0                         1.0   \n",
       "103420                       0.0                         1.0   \n",
       "103421                       0.0                         1.0   \n",
       "\n",
       "        distribution_channel_Undefined  customer_type_Contract  \\\n",
       "0                                  0.0                     0.0   \n",
       "1                                  0.0                     0.0   \n",
       "2                                  0.0                     0.0   \n",
       "3                                  0.0                     0.0   \n",
       "4                                  0.0                     0.0   \n",
       "...                                ...                     ...   \n",
       "103417                             0.0                     0.0   \n",
       "103418                             0.0                     0.0   \n",
       "103419                             0.0                     0.0   \n",
       "103420                             0.0                     0.0   \n",
       "103421                             0.0                     0.0   \n",
       "\n",
       "        customer_type_Group  customer_type_Transient  \\\n",
       "0                       0.0                      1.0   \n",
       "1                       0.0                      1.0   \n",
       "2                       0.0                      1.0   \n",
       "3                       0.0                      1.0   \n",
       "4                       0.0                      1.0   \n",
       "...                     ...                      ...   \n",
       "103417                  0.0                      1.0   \n",
       "103418                  0.0                      1.0   \n",
       "103419                  0.0                      1.0   \n",
       "103420                  0.0                      1.0   \n",
       "103421                  0.0                      1.0   \n",
       "\n",
       "        customer_type_Transient-Party  \n",
       "0                                 0.0  \n",
       "1                                 0.0  \n",
       "2                                 0.0  \n",
       "3                                 0.0  \n",
       "4                                 0.0  \n",
       "...                               ...  \n",
       "103417                            0.0  \n",
       "103418                            0.0  \n",
       "103419                            0.0  \n",
       "103420                            0.0  \n",
       "103421                            0.0  \n",
       "\n",
       "[103422 rows x 32 columns]"
      ]
     },
     "execution_count": 1089,
     "metadata": {},
     "output_type": "execute_result"
    }
   ],
   "source": [
    "# Categorical Data encoding using scikitlearn one hot encoding:\n",
    "\n",
    "# Apply OneHotEncoder to the 'customer_type' column\n",
    "ohe_coded = ohe.fit_transform(bookings_data[['customer_type']])\n",
    "\n",
    "# Convert the result into a DataFrame with proper column names\n",
    "one_hot_df = pd.DataFrame(ohe_coded,columns=ohe.get_feature_names_out(['customer_type']))\n",
    "\n",
    "# Drop the original 'customer_type' column\n",
    "bookings_data = bookings_data.drop('customer_type', axis=1)\n",
    "\n",
    "# Join the new one-hot encoded df back to the original\n",
    "bookings_data = bookings_data.join(one_hot_df)\n",
    "\n",
    "bookings_data"
   ]
  },
  {
   "cell_type": "markdown",
   "metadata": {},
   "source": [
    "## 3.3. Scaling"
   ]
  },
  {
   "cell_type": "markdown",
   "metadata": {},
   "source": [
    "### Standard Scaling"
   ]
  },
  {
   "cell_type": "code",
   "execution_count": 1090,
   "metadata": {
    "id": "Gps2vXHySuBX"
   },
   "outputs": [
    {
     "name": "stdout",
     "output_type": "stream",
     "text": [
      "Scaled Dataset Using Standard Scaler\n"
     ]
    },
    {
     "data": {
      "text/html": [
       "<div>\n",
       "<style scoped>\n",
       "    .dataframe tbody tr th:only-of-type {\n",
       "        vertical-align: middle;\n",
       "    }\n",
       "\n",
       "    .dataframe tbody tr th {\n",
       "        vertical-align: top;\n",
       "    }\n",
       "\n",
       "    .dataframe thead th {\n",
       "        text-align: right;\n",
       "    }\n",
       "</style>\n",
       "<table border=\"1\" class=\"dataframe\">\n",
       "  <thead>\n",
       "    <tr style=\"text-align: right;\">\n",
       "      <th></th>\n",
       "      <th>hotel</th>\n",
       "      <th>is_canceled</th>\n",
       "      <th>lead_time</th>\n",
       "      <th>stays_in_weekend_nights</th>\n",
       "      <th>stays_in_week_nights</th>\n",
       "      <th>adults</th>\n",
       "      <th>children</th>\n",
       "      <th>babies</th>\n",
       "      <th>is_repeated_guest</th>\n",
       "      <th>previous_cancellations</th>\n",
       "      <th>...</th>\n",
       "      <th>meal_Undefined</th>\n",
       "      <th>distribution_channel_Corporate</th>\n",
       "      <th>distribution_channel_Direct</th>\n",
       "      <th>distribution_channel_GDS</th>\n",
       "      <th>distribution_channel_TA/TO</th>\n",
       "      <th>distribution_channel_Undefined</th>\n",
       "      <th>customer_type_Contract</th>\n",
       "      <th>customer_type_Group</th>\n",
       "      <th>customer_type_Transient</th>\n",
       "      <th>customer_type_Transient-Party</th>\n",
       "    </tr>\n",
       "  </thead>\n",
       "  <tbody>\n",
       "    <tr>\n",
       "      <th>0</th>\n",
       "      <td>1.480287</td>\n",
       "      <td>-0.758663</td>\n",
       "      <td>-0.954599</td>\n",
       "      <td>-0.985063</td>\n",
       "      <td>-0.917655</td>\n",
       "      <td>-1.479772</td>\n",
       "      <td>-0.223194</td>\n",
       "      <td>-0.072267</td>\n",
       "      <td>-0.179205</td>\n",
       "      <td>-0.102956</td>\n",
       "      <td>...</td>\n",
       "      <td>-0.100296</td>\n",
       "      <td>-0.253201</td>\n",
       "      <td>2.713188</td>\n",
       "      <td>-0.041987</td>\n",
       "      <td>-2.122493</td>\n",
       "      <td>-0.006953</td>\n",
       "      <td>-0.176544</td>\n",
       "      <td>-0.069979</td>\n",
       "      <td>0.582122</td>\n",
       "      <td>-0.527989</td>\n",
       "    </tr>\n",
       "    <tr>\n",
       "      <th>1</th>\n",
       "      <td>1.480287</td>\n",
       "      <td>-0.758663</td>\n",
       "      <td>-0.888162</td>\n",
       "      <td>-0.985063</td>\n",
       "      <td>-0.917655</td>\n",
       "      <td>-1.479772</td>\n",
       "      <td>-0.223194</td>\n",
       "      <td>-0.072267</td>\n",
       "      <td>-0.179205</td>\n",
       "      <td>-0.102956</td>\n",
       "      <td>...</td>\n",
       "      <td>-0.100296</td>\n",
       "      <td>3.949428</td>\n",
       "      <td>-0.368570</td>\n",
       "      <td>-0.041987</td>\n",
       "      <td>-2.122493</td>\n",
       "      <td>-0.006953</td>\n",
       "      <td>-0.176544</td>\n",
       "      <td>-0.069979</td>\n",
       "      <td>0.582122</td>\n",
       "      <td>-0.527989</td>\n",
       "    </tr>\n",
       "    <tr>\n",
       "      <th>2</th>\n",
       "      <td>1.480287</td>\n",
       "      <td>-0.758663</td>\n",
       "      <td>-0.877090</td>\n",
       "      <td>-0.985063</td>\n",
       "      <td>-0.208843</td>\n",
       "      <td>0.279987</td>\n",
       "      <td>-0.223194</td>\n",
       "      <td>-0.072267</td>\n",
       "      <td>-0.179205</td>\n",
       "      <td>-0.102956</td>\n",
       "      <td>...</td>\n",
       "      <td>-0.100296</td>\n",
       "      <td>-0.253201</td>\n",
       "      <td>-0.368570</td>\n",
       "      <td>-0.041987</td>\n",
       "      <td>0.471144</td>\n",
       "      <td>-0.006953</td>\n",
       "      <td>-0.176544</td>\n",
       "      <td>-0.069979</td>\n",
       "      <td>0.582122</td>\n",
       "      <td>-0.527989</td>\n",
       "    </tr>\n",
       "    <tr>\n",
       "      <th>3</th>\n",
       "      <td>1.480287</td>\n",
       "      <td>-0.758663</td>\n",
       "      <td>-0.877090</td>\n",
       "      <td>-0.985063</td>\n",
       "      <td>-0.208843</td>\n",
       "      <td>0.279987</td>\n",
       "      <td>-0.223194</td>\n",
       "      <td>-0.072267</td>\n",
       "      <td>-0.179205</td>\n",
       "      <td>-0.102956</td>\n",
       "      <td>...</td>\n",
       "      <td>-0.100296</td>\n",
       "      <td>-0.253201</td>\n",
       "      <td>-0.368570</td>\n",
       "      <td>-0.041987</td>\n",
       "      <td>0.471144</td>\n",
       "      <td>-0.006953</td>\n",
       "      <td>-0.176544</td>\n",
       "      <td>-0.069979</td>\n",
       "      <td>0.582122</td>\n",
       "      <td>-0.527989</td>\n",
       "    </tr>\n",
       "    <tr>\n",
       "      <th>4</th>\n",
       "      <td>1.480287</td>\n",
       "      <td>-0.758663</td>\n",
       "      <td>-1.032108</td>\n",
       "      <td>-0.985063</td>\n",
       "      <td>-0.208843</td>\n",
       "      <td>0.279987</td>\n",
       "      <td>-0.223194</td>\n",
       "      <td>-0.072267</td>\n",
       "      <td>-0.179205</td>\n",
       "      <td>-0.102956</td>\n",
       "      <td>...</td>\n",
       "      <td>-0.100296</td>\n",
       "      <td>-0.253201</td>\n",
       "      <td>2.713188</td>\n",
       "      <td>-0.041987</td>\n",
       "      <td>-2.122493</td>\n",
       "      <td>-0.006953</td>\n",
       "      <td>-0.176544</td>\n",
       "      <td>-0.069979</td>\n",
       "      <td>0.582122</td>\n",
       "      <td>-0.527989</td>\n",
       "    </tr>\n",
       "    <tr>\n",
       "      <th>...</th>\n",
       "      <td>...</td>\n",
       "      <td>...</td>\n",
       "      <td>...</td>\n",
       "      <td>...</td>\n",
       "      <td>...</td>\n",
       "      <td>...</td>\n",
       "      <td>...</td>\n",
       "      <td>...</td>\n",
       "      <td>...</td>\n",
       "      <td>...</td>\n",
       "      <td>...</td>\n",
       "      <td>...</td>\n",
       "      <td>...</td>\n",
       "      <td>...</td>\n",
       "      <td>...</td>\n",
       "      <td>...</td>\n",
       "      <td>...</td>\n",
       "      <td>...</td>\n",
       "      <td>...</td>\n",
       "      <td>...</td>\n",
       "      <td>...</td>\n",
       "    </tr>\n",
       "    <tr>\n",
       "      <th>103417</th>\n",
       "      <td>-0.675545</td>\n",
       "      <td>-0.758663</td>\n",
       "      <td>1.049564</td>\n",
       "      <td>1.319226</td>\n",
       "      <td>0.499970</td>\n",
       "      <td>0.279987</td>\n",
       "      <td>-0.223194</td>\n",
       "      <td>-0.072267</td>\n",
       "      <td>-0.179205</td>\n",
       "      <td>-0.102956</td>\n",
       "      <td>...</td>\n",
       "      <td>-0.100296</td>\n",
       "      <td>-0.253201</td>\n",
       "      <td>2.713188</td>\n",
       "      <td>-0.041987</td>\n",
       "      <td>-2.122493</td>\n",
       "      <td>-0.006953</td>\n",
       "      <td>-0.176544</td>\n",
       "      <td>-0.069979</td>\n",
       "      <td>0.582122</td>\n",
       "      <td>-0.527989</td>\n",
       "    </tr>\n",
       "    <tr>\n",
       "      <th>103418</th>\n",
       "      <td>-0.675545</td>\n",
       "      <td>-0.758663</td>\n",
       "      <td>0.783819</td>\n",
       "      <td>1.319226</td>\n",
       "      <td>1.208782</td>\n",
       "      <td>0.279987</td>\n",
       "      <td>-0.223194</td>\n",
       "      <td>-0.072267</td>\n",
       "      <td>-0.179205</td>\n",
       "      <td>-0.102956</td>\n",
       "      <td>...</td>\n",
       "      <td>-0.100296</td>\n",
       "      <td>-0.253201</td>\n",
       "      <td>-0.368570</td>\n",
       "      <td>-0.041987</td>\n",
       "      <td>0.471144</td>\n",
       "      <td>-0.006953</td>\n",
       "      <td>-0.176544</td>\n",
       "      <td>-0.069979</td>\n",
       "      <td>0.582122</td>\n",
       "      <td>-0.527989</td>\n",
       "    </tr>\n",
       "    <tr>\n",
       "      <th>103419</th>\n",
       "      <td>-0.675545</td>\n",
       "      <td>-0.758663</td>\n",
       "      <td>-0.799581</td>\n",
       "      <td>1.319226</td>\n",
       "      <td>1.917594</td>\n",
       "      <td>0.279987</td>\n",
       "      <td>-0.223194</td>\n",
       "      <td>-0.072267</td>\n",
       "      <td>-0.179205</td>\n",
       "      <td>-0.102956</td>\n",
       "      <td>...</td>\n",
       "      <td>-0.100296</td>\n",
       "      <td>-0.253201</td>\n",
       "      <td>-0.368570</td>\n",
       "      <td>-0.041987</td>\n",
       "      <td>0.471144</td>\n",
       "      <td>-0.006953</td>\n",
       "      <td>-0.176544</td>\n",
       "      <td>-0.069979</td>\n",
       "      <td>0.582122</td>\n",
       "      <td>-0.527989</td>\n",
       "    </tr>\n",
       "    <tr>\n",
       "      <th>103420</th>\n",
       "      <td>-0.675545</td>\n",
       "      <td>-0.758663</td>\n",
       "      <td>-0.777435</td>\n",
       "      <td>1.319226</td>\n",
       "      <td>1.917594</td>\n",
       "      <td>0.279987</td>\n",
       "      <td>-0.223194</td>\n",
       "      <td>-0.072267</td>\n",
       "      <td>-0.179205</td>\n",
       "      <td>-0.102956</td>\n",
       "      <td>...</td>\n",
       "      <td>-0.100296</td>\n",
       "      <td>-0.253201</td>\n",
       "      <td>-0.368570</td>\n",
       "      <td>-0.041987</td>\n",
       "      <td>0.471144</td>\n",
       "      <td>-0.006953</td>\n",
       "      <td>-0.176544</td>\n",
       "      <td>-0.069979</td>\n",
       "      <td>0.582122</td>\n",
       "      <td>-0.527989</td>\n",
       "    </tr>\n",
       "    <tr>\n",
       "      <th>103421</th>\n",
       "      <td>-0.675545</td>\n",
       "      <td>-0.758663</td>\n",
       "      <td>0.174819</td>\n",
       "      <td>1.319226</td>\n",
       "      <td>1.917594</td>\n",
       "      <td>0.279987</td>\n",
       "      <td>-0.223194</td>\n",
       "      <td>-0.072267</td>\n",
       "      <td>-0.179205</td>\n",
       "      <td>-0.102956</td>\n",
       "      <td>...</td>\n",
       "      <td>-0.100296</td>\n",
       "      <td>-0.253201</td>\n",
       "      <td>-0.368570</td>\n",
       "      <td>-0.041987</td>\n",
       "      <td>0.471144</td>\n",
       "      <td>-0.006953</td>\n",
       "      <td>-0.176544</td>\n",
       "      <td>-0.069979</td>\n",
       "      <td>0.582122</td>\n",
       "      <td>-0.527989</td>\n",
       "    </tr>\n",
       "  </tbody>\n",
       "</table>\n",
       "<p>103422 rows × 32 columns</p>\n",
       "</div>"
      ],
      "text/plain": [
       "           hotel  is_canceled  lead_time  stays_in_weekend_nights  \\\n",
       "0       1.480287    -0.758663  -0.954599                -0.985063   \n",
       "1       1.480287    -0.758663  -0.888162                -0.985063   \n",
       "2       1.480287    -0.758663  -0.877090                -0.985063   \n",
       "3       1.480287    -0.758663  -0.877090                -0.985063   \n",
       "4       1.480287    -0.758663  -1.032108                -0.985063   \n",
       "...          ...          ...        ...                      ...   \n",
       "103417 -0.675545    -0.758663   1.049564                 1.319226   \n",
       "103418 -0.675545    -0.758663   0.783819                 1.319226   \n",
       "103419 -0.675545    -0.758663  -0.799581                 1.319226   \n",
       "103420 -0.675545    -0.758663  -0.777435                 1.319226   \n",
       "103421 -0.675545    -0.758663   0.174819                 1.319226   \n",
       "\n",
       "        stays_in_week_nights    adults  children    babies  is_repeated_guest  \\\n",
       "0                  -0.917655 -1.479772 -0.223194 -0.072267          -0.179205   \n",
       "1                  -0.917655 -1.479772 -0.223194 -0.072267          -0.179205   \n",
       "2                  -0.208843  0.279987 -0.223194 -0.072267          -0.179205   \n",
       "3                  -0.208843  0.279987 -0.223194 -0.072267          -0.179205   \n",
       "4                  -0.208843  0.279987 -0.223194 -0.072267          -0.179205   \n",
       "...                      ...       ...       ...       ...                ...   \n",
       "103417              0.499970  0.279987 -0.223194 -0.072267          -0.179205   \n",
       "103418              1.208782  0.279987 -0.223194 -0.072267          -0.179205   \n",
       "103419              1.917594  0.279987 -0.223194 -0.072267          -0.179205   \n",
       "103420              1.917594  0.279987 -0.223194 -0.072267          -0.179205   \n",
       "103421              1.917594  0.279987 -0.223194 -0.072267          -0.179205   \n",
       "\n",
       "        previous_cancellations  ...  meal_Undefined  \\\n",
       "0                    -0.102956  ...       -0.100296   \n",
       "1                    -0.102956  ...       -0.100296   \n",
       "2                    -0.102956  ...       -0.100296   \n",
       "3                    -0.102956  ...       -0.100296   \n",
       "4                    -0.102956  ...       -0.100296   \n",
       "...                        ...  ...             ...   \n",
       "103417               -0.102956  ...       -0.100296   \n",
       "103418               -0.102956  ...       -0.100296   \n",
       "103419               -0.102956  ...       -0.100296   \n",
       "103420               -0.102956  ...       -0.100296   \n",
       "103421               -0.102956  ...       -0.100296   \n",
       "\n",
       "        distribution_channel_Corporate  distribution_channel_Direct  \\\n",
       "0                            -0.253201                     2.713188   \n",
       "1                             3.949428                    -0.368570   \n",
       "2                            -0.253201                    -0.368570   \n",
       "3                            -0.253201                    -0.368570   \n",
       "4                            -0.253201                     2.713188   \n",
       "...                                ...                          ...   \n",
       "103417                       -0.253201                     2.713188   \n",
       "103418                       -0.253201                    -0.368570   \n",
       "103419                       -0.253201                    -0.368570   \n",
       "103420                       -0.253201                    -0.368570   \n",
       "103421                       -0.253201                    -0.368570   \n",
       "\n",
       "        distribution_channel_GDS  distribution_channel_TA/TO  \\\n",
       "0                      -0.041987                   -2.122493   \n",
       "1                      -0.041987                   -2.122493   \n",
       "2                      -0.041987                    0.471144   \n",
       "3                      -0.041987                    0.471144   \n",
       "4                      -0.041987                   -2.122493   \n",
       "...                          ...                         ...   \n",
       "103417                 -0.041987                   -2.122493   \n",
       "103418                 -0.041987                    0.471144   \n",
       "103419                 -0.041987                    0.471144   \n",
       "103420                 -0.041987                    0.471144   \n",
       "103421                 -0.041987                    0.471144   \n",
       "\n",
       "        distribution_channel_Undefined  customer_type_Contract  \\\n",
       "0                            -0.006953               -0.176544   \n",
       "1                            -0.006953               -0.176544   \n",
       "2                            -0.006953               -0.176544   \n",
       "3                            -0.006953               -0.176544   \n",
       "4                            -0.006953               -0.176544   \n",
       "...                                ...                     ...   \n",
       "103417                       -0.006953               -0.176544   \n",
       "103418                       -0.006953               -0.176544   \n",
       "103419                       -0.006953               -0.176544   \n",
       "103420                       -0.006953               -0.176544   \n",
       "103421                       -0.006953               -0.176544   \n",
       "\n",
       "        customer_type_Group  customer_type_Transient  \\\n",
       "0                 -0.069979                 0.582122   \n",
       "1                 -0.069979                 0.582122   \n",
       "2                 -0.069979                 0.582122   \n",
       "3                 -0.069979                 0.582122   \n",
       "4                 -0.069979                 0.582122   \n",
       "...                     ...                      ...   \n",
       "103417            -0.069979                 0.582122   \n",
       "103418            -0.069979                 0.582122   \n",
       "103419            -0.069979                 0.582122   \n",
       "103420            -0.069979                 0.582122   \n",
       "103421            -0.069979                 0.582122   \n",
       "\n",
       "        customer_type_Transient-Party  \n",
       "0                           -0.527989  \n",
       "1                           -0.527989  \n",
       "2                           -0.527989  \n",
       "3                           -0.527989  \n",
       "4                           -0.527989  \n",
       "...                               ...  \n",
       "103417                      -0.527989  \n",
       "103418                      -0.527989  \n",
       "103419                      -0.527989  \n",
       "103420                      -0.527989  \n",
       "103421                      -0.527989  \n",
       "\n",
       "[103422 rows x 32 columns]"
      ]
     },
     "execution_count": 1090,
     "metadata": {},
     "output_type": "execute_result"
    }
   ],
   "source": [
    "std_scaler = StandardScaler()\n",
    "\n",
    "bookings_data_standard = pd.DataFrame(std_scaler.fit_transform(bookings_data.values),columns=bookings_data.columns, index=bookings_data.index)\n",
    "\n",
    "print(\"Scaled Dataset Using Standard Scaler\")\n",
    "\n",
    "bookings_data_standard"
   ]
  },
  {
   "cell_type": "markdown",
   "metadata": {},
   "source": [
    "## 3.4. Feature selection"
   ]
  },
  {
   "cell_type": "code",
   "execution_count": 1091,
   "metadata": {
    "id": "CyBKkMrMQ088"
   },
   "outputs": [],
   "source": [
    "# The the variable to predict is 'is_canceled' \n",
    "\n",
    "x = bookings_data_standard.drop(columns='is_canceled')\n",
    "\n",
    "y = bookings_data_standard.is_canceled"
   ]
  },
  {
   "cell_type": "markdown",
   "metadata": {
    "id": "P29DufVRM33h"
   },
   "source": [
    "# 4. Classifier Training (20%)\n",
    "\n",
    "\n",
    "---\n",
    "\n",
    "\n",
    "Utilise the sklearn Python library to train a ML model (e.g.decision tree classifier). Your process should start with splitting your dataset into input features (X) and a target feature (y). Next, divide the data into 70% training and 30% testing subsets. Train your model on the training dataset and evaluate using test dataset with appropriate metrics. Aim to achieve higher accuracy e.g. more than 70% accuracy using your model."
   ]
  },
  {
   "cell_type": "markdown",
   "metadata": {},
   "source": [
    "## 4.1. Data Splitting (5%)"
   ]
  },
  {
   "cell_type": "code",
   "execution_count": 1092,
   "metadata": {
    "id": "Gps2vXHySuBX"
   },
   "outputs": [],
   "source": [
    "# <<< Your code here >>>"
   ]
  },
  {
   "cell_type": "markdown",
   "metadata": {},
   "source": [
    "## 4.2. Model Training (10%)"
   ]
  },
  {
   "cell_type": "code",
   "execution_count": 1093,
   "metadata": {
    "id": "Gps2vXHySuBX"
   },
   "outputs": [],
   "source": [
    "# <<< Your code here >>>"
   ]
  },
  {
   "cell_type": "markdown",
   "metadata": {},
   "source": [
    "## 4.3. Model Evaluation (5%)"
   ]
  },
  {
   "cell_type": "code",
   "execution_count": 1094,
   "metadata": {
    "id": "tJS1HdmGSuY_"
   },
   "outputs": [],
   "source": [
    "# <<< Your code here >>>"
   ]
  },
  {
   "cell_type": "markdown",
   "metadata": {
    "id": "rBa3rsiSM365"
   },
   "source": [
    "# 5. Feature Importance (10%)\n",
    "\n",
    "\n",
    "---\n",
    "\n",
    "Assess the importance of features within your decision tree model. Provide commentary on the reliability of your model's results based on the feature importance scores."
   ]
  },
  {
   "cell_type": "code",
   "execution_count": 1095,
   "metadata": {
    "id": "y0P8oWvPUBX7"
   },
   "outputs": [],
   "source": [
    "# <<< Your code here >>>"
   ]
  }
 ],
 "metadata": {
  "colab": {
   "provenance": []
  },
  "kernelspec": {
   "display_name": "base",
   "language": "python",
   "name": "python3"
  },
  "language_info": {
   "codemirror_mode": {
    "name": "ipython",
    "version": 3
   },
   "file_extension": ".py",
   "mimetype": "text/x-python",
   "name": "python",
   "nbconvert_exporter": "python",
   "pygments_lexer": "ipython3",
   "version": "3.12.4"
  }
 },
 "nbformat": 4,
 "nbformat_minor": 1
}
