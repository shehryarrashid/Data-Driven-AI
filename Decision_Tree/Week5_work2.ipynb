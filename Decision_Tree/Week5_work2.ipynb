{
 "cells": [
  {
   "cell_type": "code",
   "execution_count": 170,
   "metadata": {
    "executionInfo": {
     "elapsed": 15,
     "status": "ok",
     "timestamp": 1698064662268,
     "user": {
      "displayName": "Muhammad Ayub Ansari",
      "userId": "06202953599373905935"
     },
     "user_tz": -60
    },
    "id": "dI7MxoAHWVXr"
   },
   "outputs": [],
   "source": [
    "# Load libraries\n",
    "from sklearn.tree import DecisionTreeClassifier\n",
    "from sklearn.model_selection import train_test_split\n",
    "from sklearn.metrics import confusion_matrix, classification_report\n",
    "from sklearn import metrics\n",
    "from sklearn import preprocessing\n",
    "import pandas as pd"
   ]
  },
  {
   "cell_type": "markdown",
   "metadata": {
    "id": "H6-e0POBKGhO"
   },
   "source": [
    "# 1. Load Data"
   ]
  },
  {
   "cell_type": "code",
   "execution_count": 171,
   "metadata": {
    "colab": {
     "base_uri": "https://localhost:8080/",
     "height": 143
    },
    "executionInfo": {
     "elapsed": 14,
     "status": "ok",
     "timestamp": 1698064662268,
     "user": {
      "displayName": "Muhammad Ayub Ansari",
      "userId": "06202953599373905935"
     },
     "user_tz": -60
    },
    "id": "1Z2As9ouXwcm",
    "outputId": "38868016-f611-4351-a2aa-519e7dd0968b"
   },
   "outputs": [
    {
     "data": {
      "text/html": [
       "<div>\n",
       "<style scoped>\n",
       "    .dataframe tbody tr th:only-of-type {\n",
       "        vertical-align: middle;\n",
       "    }\n",
       "\n",
       "    .dataframe tbody tr th {\n",
       "        vertical-align: top;\n",
       "    }\n",
       "\n",
       "    .dataframe thead th {\n",
       "        text-align: right;\n",
       "    }\n",
       "</style>\n",
       "<table border=\"1\" class=\"dataframe\">\n",
       "  <thead>\n",
       "    <tr style=\"text-align: right;\">\n",
       "      <th></th>\n",
       "      <th>Transaction_date</th>\n",
       "      <th>Transaction_ID</th>\n",
       "      <th>Gender</th>\n",
       "      <th>Age</th>\n",
       "      <th>Marital_status</th>\n",
       "      <th>State_names</th>\n",
       "      <th>Segment</th>\n",
       "      <th>Employees_status</th>\n",
       "      <th>Payment_method</th>\n",
       "      <th>Referal</th>\n",
       "      <th>Amount_spent</th>\n",
       "    </tr>\n",
       "  </thead>\n",
       "  <tbody>\n",
       "    <tr>\n",
       "      <th>0</th>\n",
       "      <td>1/1/2019</td>\n",
       "      <td>151200</td>\n",
       "      <td>Female</td>\n",
       "      <td>19.0</td>\n",
       "      <td>Single</td>\n",
       "      <td>Kansas</td>\n",
       "      <td>Basic</td>\n",
       "      <td>Unemployment</td>\n",
       "      <td>Other</td>\n",
       "      <td>1.0</td>\n",
       "      <td>2051.36</td>\n",
       "    </tr>\n",
       "    <tr>\n",
       "      <th>1</th>\n",
       "      <td>1/1/2019</td>\n",
       "      <td>151201</td>\n",
       "      <td>Male</td>\n",
       "      <td>49.0</td>\n",
       "      <td>Single</td>\n",
       "      <td>Illinois</td>\n",
       "      <td>Basic</td>\n",
       "      <td>self-employed</td>\n",
       "      <td>Card</td>\n",
       "      <td>0.0</td>\n",
       "      <td>544.04</td>\n",
       "    </tr>\n",
       "    <tr>\n",
       "      <th>2</th>\n",
       "      <td>1/1/2019</td>\n",
       "      <td>151202</td>\n",
       "      <td>Male</td>\n",
       "      <td>63.0</td>\n",
       "      <td>Married</td>\n",
       "      <td>New Mexico</td>\n",
       "      <td>Basic</td>\n",
       "      <td>workers</td>\n",
       "      <td>PayPal</td>\n",
       "      <td>1.0</td>\n",
       "      <td>1572.60</td>\n",
       "    </tr>\n",
       "  </tbody>\n",
       "</table>\n",
       "</div>"
      ],
      "text/plain": [
       "  Transaction_date  Transaction_ID  Gender   Age Marital_status State_names  \\\n",
       "0         1/1/2019          151200  Female  19.0         Single      Kansas   \n",
       "1         1/1/2019          151201    Male  49.0         Single    Illinois   \n",
       "2         1/1/2019          151202    Male  63.0        Married  New Mexico   \n",
       "\n",
       "  Segment Employees_status Payment_method  Referal  Amount_spent  \n",
       "0   Basic     Unemployment          Other      1.0       2051.36  \n",
       "1   Basic    self-employed           Card      0.0        544.04  \n",
       "2   Basic          workers         PayPal      1.0       1572.60  "
      ]
     },
     "execution_count": 171,
     "metadata": {},
     "output_type": "execute_result"
    }
   ],
   "source": [
    "# Load data\n",
    "df = pd.read_csv('online_store_customer_data.csv')\n",
    "df.head(3)"
   ]
  },
  {
   "cell_type": "markdown",
   "metadata": {
    "id": "0iG5EsMELY3O"
   },
   "source": [
    "## 1.1 Data Pre-processing"
   ]
  },
  {
   "cell_type": "code",
   "execution_count": 172,
   "metadata": {
    "colab": {
     "base_uri": "https://localhost:8080/"
    },
    "executionInfo": {
     "elapsed": 12,
     "status": "ok",
     "timestamp": 1698064662268,
     "user": {
      "displayName": "Muhammad Ayub Ansari",
      "userId": "06202953599373905935"
     },
     "user_tz": -60
    },
    "id": "KG2QVttmIp4b",
    "outputId": "f7b501ff-710b-45f4-a741-302f43dbf2f2"
   },
   "outputs": [
    {
     "name": "stdout",
     "output_type": "stream",
     "text": [
      "Data Shape:  (2512, 11)\n",
      "Rows in Data:  2512\n",
      "Columns in Data:  11\n"
     ]
    }
   ],
   "source": [
    "# •\tFind out the number of rows and columns in your data frame by using function shape\n",
    "print(\"Data Shape: \", df.shape)\n",
    "print(\"Rows in Data: \", df.shape[0])\n",
    "print(\"Columns in Data: \", df.shape[1])"
   ]
  },
  {
   "cell_type": "markdown",
   "metadata": {
    "id": "4E_AYp7TLY3T"
   },
   "source": [
    "## 1.2. Missing Values"
   ]
  },
  {
   "cell_type": "code",
   "execution_count": 173,
   "metadata": {
    "colab": {
     "base_uri": "https://localhost:8080/"
    },
    "executionInfo": {
     "elapsed": 10,
     "status": "ok",
     "timestamp": 1698064662268,
     "user": {
      "displayName": "Muhammad Ayub Ansari",
      "userId": "06202953599373905935"
     },
     "user_tz": -60
    },
    "id": "KVckADrwKMFe",
    "outputId": "79b8fd6b-7110-4d3e-b1ae-49a69e9db2bf"
   },
   "outputs": [
    {
     "data": {
      "text/plain": [
       "Transaction_date      0\n",
       "Transaction_ID        0\n",
       "Gender               28\n",
       "Age                  42\n",
       "Marital_status        0\n",
       "State_names           0\n",
       "Segment               0\n",
       "Employees_status     26\n",
       "Payment_method        0\n",
       "Referal             155\n",
       "Amount_spent        242\n",
       "dtype: int64"
      ]
     },
     "execution_count": 173,
     "metadata": {},
     "output_type": "execute_result"
    }
   ],
   "source": [
    "df.isnull().sum()"
   ]
  },
  {
   "cell_type": "code",
   "execution_count": 174,
   "metadata": {
    "executionInfo": {
     "elapsed": 10,
     "status": "ok",
     "timestamp": 1698064662269,
     "user": {
      "displayName": "Muhammad Ayub Ansari",
      "userId": "06202953599373905935"
     },
     "user_tz": -60
    },
    "id": "ZbVoBBwxLY3V"
   },
   "outputs": [
    {
     "name": "stderr",
     "output_type": "stream",
     "text": [
      "/var/folders/yl/hc0wg3cd5577fyq8rq7spkx00000gn/T/ipykernel_65879/883900666.py:7: FutureWarning: A value is trying to be set on a copy of a DataFrame or Series through chained assignment using an inplace method.\n",
      "The behavior will change in pandas 3.0. This inplace method will never work because the intermediate object on which we are setting values always behaves as a copy.\n",
      "\n",
      "For example, when doing 'df[col].method(value, inplace=True)', try using 'df.method({col: value}, inplace=True)' or df[col] = df[col].method(value) instead, to perform the operation inplace on the original object.\n",
      "\n",
      "\n",
      "  df['Amount_spent'].fillna(mean_AS, inplace=True)\n",
      "/var/folders/yl/hc0wg3cd5577fyq8rq7spkx00000gn/T/ipykernel_65879/883900666.py:10: FutureWarning: A value is trying to be set on a copy of a DataFrame or Series through chained assignment using an inplace method.\n",
      "The behavior will change in pandas 3.0. This inplace method will never work because the intermediate object on which we are setting values always behaves as a copy.\n",
      "\n",
      "For example, when doing 'df[col].method(value, inplace=True)', try using 'df.method({col: value}, inplace=True)' or df[col] = df[col].method(value) instead, to perform the operation inplace on the original object.\n",
      "\n",
      "\n",
      "  df['Age'].fillna(mean_Age, inplace=True)\n",
      "/var/folders/yl/hc0wg3cd5577fyq8rq7spkx00000gn/T/ipykernel_65879/883900666.py:13: FutureWarning: A value is trying to be set on a copy of a DataFrame or Series through chained assignment using an inplace method.\n",
      "The behavior will change in pandas 3.0. This inplace method will never work because the intermediate object on which we are setting values always behaves as a copy.\n",
      "\n",
      "For example, when doing 'df[col].method(value, inplace=True)', try using 'df.method({col: value}, inplace=True)' or df[col] = df[col].method(value) instead, to perform the operation inplace on the original object.\n",
      "\n",
      "\n",
      "  df['Referal'].fillna(mean_R, inplace=True)\n",
      "/var/folders/yl/hc0wg3cd5577fyq8rq7spkx00000gn/T/ipykernel_65879/883900666.py:16: FutureWarning: A value is trying to be set on a copy of a DataFrame or Series through chained assignment using an inplace method.\n",
      "The behavior will change in pandas 3.0. This inplace method will never work because the intermediate object on which we are setting values always behaves as a copy.\n",
      "\n",
      "For example, when doing 'df[col].method(value, inplace=True)', try using 'df.method({col: value}, inplace=True)' or df[col] = df[col].method(value) instead, to perform the operation inplace on the original object.\n",
      "\n",
      "\n",
      "  df['Employees_status'].fillna(mode_emp, inplace=True)\n",
      "/var/folders/yl/hc0wg3cd5577fyq8rq7spkx00000gn/T/ipykernel_65879/883900666.py:19: FutureWarning: A value is trying to be set on a copy of a DataFrame or Series through chained assignment using an inplace method.\n",
      "The behavior will change in pandas 3.0. This inplace method will never work because the intermediate object on which we are setting values always behaves as a copy.\n",
      "\n",
      "For example, when doing 'df[col].method(value, inplace=True)', try using 'df.method({col: value}, inplace=True)' or df[col] = df[col].method(value) instead, to perform the operation inplace on the original object.\n",
      "\n",
      "\n",
      "  df['Gender'].fillna(mode_Gender, inplace=True)\n"
     ]
    }
   ],
   "source": [
    "# Drop column Transaction_date from main dataframe\n",
    "df.drop(columns = 'Transaction_date', inplace=True)\n",
    "# Remove rows from data frame where Employee_status values are missing.\n",
    "df.dropna(subset = [\"Employees_status\"], inplace=True)\n",
    "# Replace Amount_spent missing values with the mean value of amount_spent.\n",
    "mean_AS = df['Amount_spent'].mean()\n",
    "df['Amount_spent'].fillna(mean_AS, inplace=True)\n",
    "# Replace missing values in Age with the mean age value.\n",
    "mean_Age = df['Age'].mean()\n",
    "df['Age'].fillna(mean_Age, inplace=True)\n",
    "# Replace missing values in Referal with the mean Referal value.\n",
    "mean_R = df['Referal'].mean()\n",
    "df['Referal'].fillna(mean_R, inplace=True)\n",
    "# Replace missing values in “Employee_status” with the mode value of column “Employee_status”.\n",
    "mode_emp = df['Employees_status'].mode().iloc[0]\n",
    "df['Employees_status'].fillna(mode_emp, inplace=True)\n",
    "# Replace missing values in Gender with the mode value of column Gender.\n",
    "mode_Gender = df['Gender'].mode().iloc[0]\n",
    "df['Gender'].fillna(mode_Gender, inplace=True)"
   ]
  },
  {
   "cell_type": "code",
   "execution_count": 175,
   "metadata": {
    "colab": {
     "base_uri": "https://localhost:8080/"
    },
    "executionInfo": {
     "elapsed": 10,
     "status": "ok",
     "timestamp": 1698064662269,
     "user": {
      "displayName": "Muhammad Ayub Ansari",
      "userId": "06202953599373905935"
     },
     "user_tz": -60
    },
    "id": "JCWMsWkVMEqG",
    "outputId": "f551521f-14ac-42db-a98a-ece246430ff2"
   },
   "outputs": [
    {
     "data": {
      "text/plain": [
       "Transaction_ID      0\n",
       "Gender              0\n",
       "Age                 0\n",
       "Marital_status      0\n",
       "State_names         0\n",
       "Segment             0\n",
       "Employees_status    0\n",
       "Payment_method      0\n",
       "Referal             0\n",
       "Amount_spent        0\n",
       "dtype: int64"
      ]
     },
     "execution_count": 175,
     "metadata": {},
     "output_type": "execute_result"
    }
   ],
   "source": [
    "df.isnull().sum()"
   ]
  },
  {
   "cell_type": "markdown",
   "metadata": {
    "id": "n5saWzeTaYLv"
   },
   "source": [
    "## 1.3. Inconsistant Data"
   ]
  },
  {
   "cell_type": "code",
   "execution_count": 176,
   "metadata": {
    "colab": {
     "base_uri": "https://localhost:8080/"
    },
    "executionInfo": {
     "elapsed": 9,
     "status": "ok",
     "timestamp": 1698064662269,
     "user": {
      "displayName": "Muhammad Ayub Ansari",
      "userId": "06202953599373905935"
     },
     "user_tz": -60
    },
    "id": "q0qODelJYYlw",
    "outputId": "0f110074-1bdb-4257-b4b7-5431ff3bc9f8"
   },
   "outputs": [
    {
     "name": "stdout",
     "output_type": "stream",
     "text": [
      "Data shape before droping rows (2486, 10)\n",
      "Data shape after droping rows (2428, 10)\n"
     ]
    }
   ],
   "source": [
    "# Drop rows where Employees_status is unemployment and Payement_method is other\n",
    "print('Data shape before droping rows', df.shape)\n",
    "df = df.drop(df[(df['Employees_status']=='Unemployment') & (df['Payment_method']=='Other')].index)\n",
    "print('Data shape after droping rows', df.shape)"
   ]
  },
  {
   "cell_type": "markdown",
   "metadata": {
    "id": "8pTcTwdZcyM5"
   },
   "source": [
    "## 1.4. Encodings"
   ]
  },
  {
   "cell_type": "code",
   "execution_count": 177,
   "metadata": {
    "colab": {
     "base_uri": "https://localhost:8080/"
    },
    "executionInfo": {
     "elapsed": 7,
     "status": "ok",
     "timestamp": 1698064662269,
     "user": {
      "displayName": "Muhammad Ayub Ansari",
      "userId": "06202953599373905935"
     },
     "user_tz": -60
    },
    "id": "TsUol56ma3OS",
    "outputId": "424ea84f-d8a9-4270-c827-70986bf7799e"
   },
   "outputs": [
    {
     "name": "stdout",
     "output_type": "stream",
     "text": [
      "<class 'pandas.core.frame.DataFrame'>\n",
      "Index: 2428 entries, 1 to 2511\n",
      "Data columns (total 10 columns):\n",
      " #   Column            Non-Null Count  Dtype  \n",
      "---  ------            --------------  -----  \n",
      " 0   Transaction_ID    2428 non-null   int64  \n",
      " 1   Gender            2428 non-null   object \n",
      " 2   Age               2428 non-null   float64\n",
      " 3   Marital_status    2428 non-null   object \n",
      " 4   State_names       2428 non-null   object \n",
      " 5   Segment           2428 non-null   object \n",
      " 6   Employees_status  2428 non-null   object \n",
      " 7   Payment_method    2428 non-null   object \n",
      " 8   Referal           2428 non-null   float64\n",
      " 9   Amount_spent      2428 non-null   float64\n",
      "dtypes: float64(3), int64(1), object(6)\n",
      "memory usage: 208.7+ KB\n"
     ]
    }
   ],
   "source": [
    "df.info()"
   ]
  },
  {
   "cell_type": "code",
   "execution_count": 178,
   "metadata": {
    "executionInfo": {
     "elapsed": 338,
     "status": "ok",
     "timestamp": 1698064662601,
     "user": {
      "displayName": "Muhammad Ayub Ansari",
      "userId": "06202953599373905935"
     },
     "user_tz": -60
    },
    "id": "2N6duuvYc2dl"
   },
   "outputs": [
    {
     "name": "stderr",
     "output_type": "stream",
     "text": [
      "/var/folders/yl/hc0wg3cd5577fyq8rq7spkx00000gn/T/ipykernel_65879/610221246.py:6: FutureWarning: Downcasting behavior in `replace` is deprecated and will be removed in a future version. To retain the old behavior, explicitly call `result.infer_objects(copy=False)`. To opt-in to the future behavior, set `pd.set_option('future.no_silent_downcasting', True)`\n",
      "  df['Gender'] = df['Gender'].replace({'Female': 0, 'Male': 1})\n",
      "/var/folders/yl/hc0wg3cd5577fyq8rq7spkx00000gn/T/ipykernel_65879/610221246.py:8: FutureWarning: Downcasting behavior in `replace` is deprecated and will be removed in a future version. To retain the old behavior, explicitly call `result.infer_objects(copy=False)`. To opt-in to the future behavior, set `pd.set_option('future.no_silent_downcasting', True)`\n",
      "  df['Marital_status'] = df['Marital_status'].replace({'Single': 0, 'Married': 1})\n",
      "/var/folders/yl/hc0wg3cd5577fyq8rq7spkx00000gn/T/ipykernel_65879/610221246.py:9: FutureWarning: Downcasting behavior in `replace` is deprecated and will be removed in a future version. To retain the old behavior, explicitly call `result.infer_objects(copy=False)`. To opt-in to the future behavior, set `pd.set_option('future.no_silent_downcasting', True)`\n",
      "  df['Employees_status'] = df['Employees_status'].replace({'Employees': 0, 'workers': 1,'self-employed': 2, 'Unemployment': 3})\n",
      "/var/folders/yl/hc0wg3cd5577fyq8rq7spkx00000gn/T/ipykernel_65879/610221246.py:10: FutureWarning: Downcasting behavior in `replace` is deprecated and will be removed in a future version. To retain the old behavior, explicitly call `result.infer_objects(copy=False)`. To opt-in to the future behavior, set `pd.set_option('future.no_silent_downcasting', True)`\n",
      "  df['Payment_method'] = df['Payment_method'].replace({'PayPal': 0, 'Card': 1, 'Other':2})\n"
     ]
    }
   ],
   "source": [
    "# Convert categorical data into numerical data\n",
    "##### Nominal Categorical data\n",
    "# 1. Check the unique values in the column\n",
    "# 2. Replace the categories to appropriate numeric value\n",
    "# Convert nominal categorical data to numerical data using replace\n",
    "df['Gender'] = df['Gender'].replace({'Female': 0, 'Male': 1})\n",
    "# Convert nominal categorical data to numerical data using replace\n",
    "df['Marital_status'] = df['Marital_status'].replace({'Single': 0, 'Married': 1})\n",
    "df['Employees_status'] = df['Employees_status'].replace({'Employees': 0, 'workers': 1,'self-employed': 2, 'Unemployment': 3})\n",
    "df['Payment_method'] = df['Payment_method'].replace({'PayPal': 0, 'Card': 1, 'Other':2})\n",
    "# Convert categorical data to numerical data using cat.codes\n",
    "df['State_names'] = df['State_names'].astype('category')\n",
    "df['State_names'] = df['State_names'].cat.codes\n",
    "# Convery ordinal categorical feature to numeric using one hot encoding\n",
    "# Get one hot encoding of columns B\n",
    "one_hot = pd.get_dummies(df['Segment'])\n",
    "# Drop column B as it is now encoded\n",
    "df = df.drop('Segment',axis = 1)\n",
    "# Join the encoded df\n",
    "df = df.join(one_hot)"
   ]
  },
  {
   "cell_type": "code",
   "execution_count": 179,
   "metadata": {
    "colab": {
     "base_uri": "https://localhost:8080/"
    },
    "executionInfo": {
     "elapsed": 8,
     "status": "ok",
     "timestamp": 1698064662602,
     "user": {
      "displayName": "Muhammad Ayub Ansari",
      "userId": "06202953599373905935"
     },
     "user_tz": -60
    },
    "id": "7HYwkYfnhqvf",
    "outputId": "4cf8074c-604f-42a6-f434-0bae28080d5e"
   },
   "outputs": [
    {
     "name": "stdout",
     "output_type": "stream",
     "text": [
      "<class 'pandas.core.frame.DataFrame'>\n",
      "Index: 2428 entries, 1 to 2511\n",
      "Data columns (total 14 columns):\n",
      " #   Column            Non-Null Count  Dtype  \n",
      "---  ------            --------------  -----  \n",
      " 0   Transaction_ID    2428 non-null   int64  \n",
      " 1   Gender            2428 non-null   int64  \n",
      " 2   Age               2428 non-null   float64\n",
      " 3   Marital_status    2428 non-null   int64  \n",
      " 4   State_names       2428 non-null   int8   \n",
      " 5   Employees_status  2428 non-null   int64  \n",
      " 6   Payment_method    2428 non-null   int64  \n",
      " 7   Referal           2428 non-null   float64\n",
      " 8   Amount_spent      2428 non-null   float64\n",
      " 9   Basic             2428 non-null   bool   \n",
      " 10  Gold              2428 non-null   bool   \n",
      " 11  Missing           2428 non-null   bool   \n",
      " 12  Platinum          2428 non-null   bool   \n",
      " 13  Silver            2428 non-null   bool   \n",
      "dtypes: bool(5), float64(3), int64(5), int8(1)\n",
      "memory usage: 184.9 KB\n"
     ]
    }
   ],
   "source": [
    "df.info()"
   ]
  },
  {
   "cell_type": "markdown",
   "metadata": {
    "id": "O8otpJIWJLpn"
   },
   "source": [
    "# 2. Feature Selection\n"
   ]
  },
  {
   "cell_type": "code",
   "execution_count": 180,
   "metadata": {
    "executionInfo": {
     "elapsed": 7,
     "status": "ok",
     "timestamp": 1698064662602,
     "user": {
      "displayName": "Muhammad Ayub Ansari",
      "userId": "06202953599373905935"
     },
     "user_tz": -60
    },
    "id": "wTjd0oOdJI4R"
   },
   "outputs": [],
   "source": [
    "# data Split\n",
    "X = df.drop(columns=\"Marital_status\")\n",
    "y = df[\"Marital_status\"]"
   ]
  },
  {
   "cell_type": "markdown",
   "metadata": {},
   "source": [
    "### Data Scaling"
   ]
  },
  {
   "cell_type": "code",
   "execution_count": 181,
   "metadata": {},
   "outputs": [],
   "source": [
    "#Normalised Data\n",
    "normalized_X = preprocessing.normalize(X)\n",
    "# Standardised Data\n",
    "standardized_X = preprocessing.scale(X)"
   ]
  },
  {
   "cell_type": "markdown",
   "metadata": {},
   "source": [
    "### Transforming target feature"
   ]
  },
  {
   "cell_type": "code",
   "execution_count": 182,
   "metadata": {},
   "outputs": [
    {
     "name": "stdout",
     "output_type": "stream",
     "text": [
      "       0      1\n",
      "1   True  False\n",
      "2  False   True\n",
      "3   True  False\n",
      "4   True  False\n",
      "5   True  False\n"
     ]
    }
   ],
   "source": [
    "#encode categorical data into digits\n",
    "y = pd.get_dummies(y)\n",
    "print(y.head())"
   ]
  },
  {
   "cell_type": "markdown",
   "metadata": {
    "id": "oiKuxUzhKMKD"
   },
   "source": [
    "# 3. Splitting the data"
   ]
  },
  {
   "cell_type": "code",
   "execution_count": 183,
   "metadata": {
    "executionInfo": {
     "elapsed": 6,
     "status": "ok",
     "timestamp": 1698064662602,
     "user": {
      "displayName": "Muhammad Ayub Ansari",
      "userId": "06202953599373905935"
     },
     "user_tz": -60
    },
    "id": "GlwenT9RKOUG"
   },
   "outputs": [],
   "source": [
    "X_train, X_test, y_train, y_test = train_test_split(standardized_X,\n",
    "y,test_size=0.3, stratify=y, random_state=1)"
   ]
  },
  {
   "cell_type": "markdown",
   "metadata": {
    "id": "PhdPvNeKKPvQ"
   },
   "source": [
    "# 4. Building Decision Tree Model"
   ]
  },
  {
   "cell_type": "code",
   "execution_count": 184,
   "metadata": {
    "executionInfo": {
     "elapsed": 6,
     "status": "ok",
     "timestamp": 1698064662602,
     "user": {
      "displayName": "Muhammad Ayub Ansari",
      "userId": "06202953599373905935"
     },
     "user_tz": -60
    },
    "id": "Y1Mf8Ac3J1Zu"
   },
   "outputs": [],
   "source": [
    "model = DecisionTreeClassifier(criterion = 'entropy', random_state=1)\n",
    "model= model.fit(X_train, y_train)\n",
    "y_pred = model.predict(X_test)"
   ]
  },
  {
   "cell_type": "markdown",
   "metadata": {
    "id": "OUCHmd__Knck"
   },
   "source": [
    "# 5. Classification Report"
   ]
  },
  {
   "cell_type": "code",
   "execution_count": 185,
   "metadata": {
    "executionInfo": {
     "elapsed": 6,
     "status": "ok",
     "timestamp": 1698064662603,
     "user": {
      "displayName": "Muhammad Ayub Ansari",
      "userId": "06202953599373905935"
     },
     "user_tz": -60
    },
    "id": "Gyrhqm7KJwaL"
   },
   "outputs": [
    {
     "name": "stdout",
     "output_type": "stream",
     "text": [
      "Data Accuracy: 0.5432098765432098\n"
     ]
    }
   ],
   "source": [
    "data_accuracy = metrics.accuracy_score(y_test, y_pred)\n",
    "print(\"Data Accuracy:\",data_accuracy)"
   ]
  },
  {
   "cell_type": "markdown",
   "metadata": {
    "id": "KDMzn2QGQIb1"
   },
   "source": [
    "# 6. Feature Importance"
   ]
  },
  {
   "cell_type": "code",
   "execution_count": 17,
   "metadata": {
    "executionInfo": {
     "elapsed": 6,
     "status": "ok",
     "timestamp": 1698064662603,
     "user": {
      "displayName": "Muhammad Ayub Ansari",
      "userId": "06202953599373905935"
     },
     "user_tz": -60
    },
    "id": "cloOpeTqlMBz"
   },
   "outputs": [],
   "source": []
  }
 ],
 "metadata": {
  "colab": {
   "authorship_tag": "ABX9TyO+T9MHLCMQt919JTt4s3Kn",
   "mount_file_id": "1-Ft2DKhAbsJut6MXbAmWct5P56GEDxGO",
   "provenance": [
    {
     "file_id": "1dUZjY07uH6sJYTkSqeR929v0MLuLey4A",
     "timestamp": 1697397099963
    }
   ]
  },
  "kernelspec": {
   "display_name": "base",
   "language": "python",
   "name": "python3"
  },
  "language_info": {
   "codemirror_mode": {
    "name": "ipython",
    "version": 3
   },
   "file_extension": ".py",
   "mimetype": "text/x-python",
   "name": "python",
   "nbconvert_exporter": "python",
   "pygments_lexer": "ipython3",
   "version": "3.12.4"
  }
 },
 "nbformat": 4,
 "nbformat_minor": 1
}
