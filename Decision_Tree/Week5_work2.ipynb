{
 "cells": [
  {
   "cell_type": "code",
   "execution_count": 8,
   "metadata": {
    "executionInfo": {
     "elapsed": 15,
     "status": "ok",
     "timestamp": 1698064662268,
     "user": {
      "displayName": "Muhammad Ayub Ansari",
      "userId": "06202953599373905935"
     },
     "user_tz": -60
    },
    "id": "dI7MxoAHWVXr"
   },
   "outputs": [],
   "source": [
    "# Load libraries\n",
    "from sklearn.tree import DecisionTreeClassifier\n",
    "from sklearn.model_selection import train_test_split\n",
    "from sklearn.metrics import confusion_matrix, classification_report\n",
    "from sklearn import metrics\n",
    "from sklearn import preprocessing\n",
    "import pandas as pd"
   ]
  },
  {
   "cell_type": "markdown",
   "metadata": {
    "id": "H6-e0POBKGhO"
   },
   "source": [
    "# 1. Load Data"
   ]
  },
  {
   "cell_type": "code",
   "execution_count": 9,
   "metadata": {
    "colab": {
     "base_uri": "https://localhost:8080/",
     "height": 143
    },
    "executionInfo": {
     "elapsed": 14,
     "status": "ok",
     "timestamp": 1698064662268,
     "user": {
      "displayName": "Muhammad Ayub Ansari",
      "userId": "06202953599373905935"
     },
     "user_tz": -60
    },
    "id": "1Z2As9ouXwcm",
    "outputId": "38868016-f611-4351-a2aa-519e7dd0968b"
   },
   "outputs": [
    {
     "data": {
      "text/html": [
       "\n",
       "  <div id=\"df-c57119ac-dacb-4745-8692-0630000e3011\" class=\"colab-df-container\">\n",
       "    <div>\n",
       "<style scoped>\n",
       "    .dataframe tbody tr th:only-of-type {\n",
       "        vertical-align: middle;\n",
       "    }\n",
       "\n",
       "    .dataframe tbody tr th {\n",
       "        vertical-align: top;\n",
       "    }\n",
       "\n",
       "    .dataframe thead th {\n",
       "        text-align: right;\n",
       "    }\n",
       "</style>\n",
       "<table border=\"1\" class=\"dataframe\">\n",
       "  <thead>\n",
       "    <tr style=\"text-align: right;\">\n",
       "      <th></th>\n",
       "      <th>Transaction_date</th>\n",
       "      <th>Transaction_ID</th>\n",
       "      <th>Gender</th>\n",
       "      <th>Age</th>\n",
       "      <th>Marital_status</th>\n",
       "      <th>State_names</th>\n",
       "      <th>Segment</th>\n",
       "      <th>Employees_status</th>\n",
       "      <th>Payment_method</th>\n",
       "      <th>Referal</th>\n",
       "      <th>Amount_spent</th>\n",
       "    </tr>\n",
       "  </thead>\n",
       "  <tbody>\n",
       "    <tr>\n",
       "      <th>0</th>\n",
       "      <td>1/1/2019</td>\n",
       "      <td>151200</td>\n",
       "      <td>Female</td>\n",
       "      <td>19.0</td>\n",
       "      <td>Single</td>\n",
       "      <td>Kansas</td>\n",
       "      <td>Basic</td>\n",
       "      <td>Unemployment</td>\n",
       "      <td>Other</td>\n",
       "      <td>1.0</td>\n",
       "      <td>2051.36</td>\n",
       "    </tr>\n",
       "    <tr>\n",
       "      <th>1</th>\n",
       "      <td>1/1/2019</td>\n",
       "      <td>151201</td>\n",
       "      <td>Male</td>\n",
       "      <td>49.0</td>\n",
       "      <td>Single</td>\n",
       "      <td>Illinois</td>\n",
       "      <td>Basic</td>\n",
       "      <td>self-employed</td>\n",
       "      <td>Card</td>\n",
       "      <td>0.0</td>\n",
       "      <td>544.04</td>\n",
       "    </tr>\n",
       "    <tr>\n",
       "      <th>2</th>\n",
       "      <td>1/1/2019</td>\n",
       "      <td>151202</td>\n",
       "      <td>Male</td>\n",
       "      <td>63.0</td>\n",
       "      <td>Married</td>\n",
       "      <td>New Mexico</td>\n",
       "      <td>Basic</td>\n",
       "      <td>workers</td>\n",
       "      <td>PayPal</td>\n",
       "      <td>1.0</td>\n",
       "      <td>1572.60</td>\n",
       "    </tr>\n",
       "  </tbody>\n",
       "</table>\n",
       "</div>\n",
       "    <div class=\"colab-df-buttons\">\n",
       "\n",
       "  <div class=\"colab-df-container\">\n",
       "    <button class=\"colab-df-convert\" onclick=\"convertToInteractive('df-c57119ac-dacb-4745-8692-0630000e3011')\"\n",
       "            title=\"Convert this dataframe to an interactive table.\"\n",
       "            style=\"display:none;\">\n",
       "\n",
       "  <svg xmlns=\"http://www.w3.org/2000/svg\" height=\"24px\" viewBox=\"0 -960 960 960\">\n",
       "    <path d=\"M120-120v-720h720v720H120Zm60-500h600v-160H180v160Zm220 220h160v-160H400v160Zm0 220h160v-160H400v160ZM180-400h160v-160H180v160Zm440 0h160v-160H620v160ZM180-180h160v-160H180v160Zm440 0h160v-160H620v160Z\"/>\n",
       "  </svg>\n",
       "    </button>\n",
       "\n",
       "  <style>\n",
       "    .colab-df-container {\n",
       "      display:flex;\n",
       "      gap: 12px;\n",
       "    }\n",
       "\n",
       "    .colab-df-convert {\n",
       "      background-color: #E8F0FE;\n",
       "      border: none;\n",
       "      border-radius: 50%;\n",
       "      cursor: pointer;\n",
       "      display: none;\n",
       "      fill: #1967D2;\n",
       "      height: 32px;\n",
       "      padding: 0 0 0 0;\n",
       "      width: 32px;\n",
       "    }\n",
       "\n",
       "    .colab-df-convert:hover {\n",
       "      background-color: #E2EBFA;\n",
       "      box-shadow: 0px 1px 2px rgba(60, 64, 67, 0.3), 0px 1px 3px 1px rgba(60, 64, 67, 0.15);\n",
       "      fill: #174EA6;\n",
       "    }\n",
       "\n",
       "    .colab-df-buttons div {\n",
       "      margin-bottom: 4px;\n",
       "    }\n",
       "\n",
       "    [theme=dark] .colab-df-convert {\n",
       "      background-color: #3B4455;\n",
       "      fill: #D2E3FC;\n",
       "    }\n",
       "\n",
       "    [theme=dark] .colab-df-convert:hover {\n",
       "      background-color: #434B5C;\n",
       "      box-shadow: 0px 1px 3px 1px rgba(0, 0, 0, 0.15);\n",
       "      filter: drop-shadow(0px 1px 2px rgba(0, 0, 0, 0.3));\n",
       "      fill: #FFFFFF;\n",
       "    }\n",
       "  </style>\n",
       "\n",
       "    <script>\n",
       "      const buttonEl =\n",
       "        document.querySelector('#df-c57119ac-dacb-4745-8692-0630000e3011 button.colab-df-convert');\n",
       "      buttonEl.style.display =\n",
       "        google.colab.kernel.accessAllowed ? 'block' : 'none';\n",
       "\n",
       "      async function convertToInteractive(key) {\n",
       "        const element = document.querySelector('#df-c57119ac-dacb-4745-8692-0630000e3011');\n",
       "        const dataTable =\n",
       "          await google.colab.kernel.invokeFunction('convertToInteractive',\n",
       "                                                    [key], {});\n",
       "        if (!dataTable) return;\n",
       "\n",
       "        const docLinkHtml = 'Like what you see? Visit the ' +\n",
       "          '<a target=\"_blank\" href=https://colab.research.google.com/notebooks/data_table.ipynb>data table notebook</a>'\n",
       "          + ' to learn more about interactive tables.';\n",
       "        element.innerHTML = '';\n",
       "        dataTable['output_type'] = 'display_data';\n",
       "        await google.colab.output.renderOutput(dataTable, element);\n",
       "        const docLink = document.createElement('div');\n",
       "        docLink.innerHTML = docLinkHtml;\n",
       "        element.appendChild(docLink);\n",
       "      }\n",
       "    </script>\n",
       "  </div>\n",
       "\n",
       "\n",
       "<div id=\"df-e65fbdf5-af4f-4d05-a34e-7893aadf901b\">\n",
       "  <button class=\"colab-df-quickchart\" onclick=\"quickchart('df-e65fbdf5-af4f-4d05-a34e-7893aadf901b')\"\n",
       "            title=\"Suggest charts.\"\n",
       "            style=\"display:none;\">\n",
       "\n",
       "<svg xmlns=\"http://www.w3.org/2000/svg\" height=\"24px\"viewBox=\"0 0 24 24\"\n",
       "     width=\"24px\">\n",
       "    <g>\n",
       "        <path d=\"M19 3H5c-1.1 0-2 .9-2 2v14c0 1.1.9 2 2 2h14c1.1 0 2-.9 2-2V5c0-1.1-.9-2-2-2zM9 17H7v-7h2v7zm4 0h-2V7h2v10zm4 0h-2v-4h2v4z\"/>\n",
       "    </g>\n",
       "</svg>\n",
       "  </button>\n",
       "\n",
       "<style>\n",
       "  .colab-df-quickchart {\n",
       "      --bg-color: #E8F0FE;\n",
       "      --fill-color: #1967D2;\n",
       "      --hover-bg-color: #E2EBFA;\n",
       "      --hover-fill-color: #174EA6;\n",
       "      --disabled-fill-color: #AAA;\n",
       "      --disabled-bg-color: #DDD;\n",
       "  }\n",
       "\n",
       "  [theme=dark] .colab-df-quickchart {\n",
       "      --bg-color: #3B4455;\n",
       "      --fill-color: #D2E3FC;\n",
       "      --hover-bg-color: #434B5C;\n",
       "      --hover-fill-color: #FFFFFF;\n",
       "      --disabled-bg-color: #3B4455;\n",
       "      --disabled-fill-color: #666;\n",
       "  }\n",
       "\n",
       "  .colab-df-quickchart {\n",
       "    background-color: var(--bg-color);\n",
       "    border: none;\n",
       "    border-radius: 50%;\n",
       "    cursor: pointer;\n",
       "    display: none;\n",
       "    fill: var(--fill-color);\n",
       "    height: 32px;\n",
       "    padding: 0;\n",
       "    width: 32px;\n",
       "  }\n",
       "\n",
       "  .colab-df-quickchart:hover {\n",
       "    background-color: var(--hover-bg-color);\n",
       "    box-shadow: 0 1px 2px rgba(60, 64, 67, 0.3), 0 1px 3px 1px rgba(60, 64, 67, 0.15);\n",
       "    fill: var(--button-hover-fill-color);\n",
       "  }\n",
       "\n",
       "  .colab-df-quickchart-complete:disabled,\n",
       "  .colab-df-quickchart-complete:disabled:hover {\n",
       "    background-color: var(--disabled-bg-color);\n",
       "    fill: var(--disabled-fill-color);\n",
       "    box-shadow: none;\n",
       "  }\n",
       "\n",
       "  .colab-df-spinner {\n",
       "    border: 2px solid var(--fill-color);\n",
       "    border-color: transparent;\n",
       "    border-bottom-color: var(--fill-color);\n",
       "    animation:\n",
       "      spin 1s steps(1) infinite;\n",
       "  }\n",
       "\n",
       "  @keyframes spin {\n",
       "    0% {\n",
       "      border-color: transparent;\n",
       "      border-bottom-color: var(--fill-color);\n",
       "      border-left-color: var(--fill-color);\n",
       "    }\n",
       "    20% {\n",
       "      border-color: transparent;\n",
       "      border-left-color: var(--fill-color);\n",
       "      border-top-color: var(--fill-color);\n",
       "    }\n",
       "    30% {\n",
       "      border-color: transparent;\n",
       "      border-left-color: var(--fill-color);\n",
       "      border-top-color: var(--fill-color);\n",
       "      border-right-color: var(--fill-color);\n",
       "    }\n",
       "    40% {\n",
       "      border-color: transparent;\n",
       "      border-right-color: var(--fill-color);\n",
       "      border-top-color: var(--fill-color);\n",
       "    }\n",
       "    60% {\n",
       "      border-color: transparent;\n",
       "      border-right-color: var(--fill-color);\n",
       "    }\n",
       "    80% {\n",
       "      border-color: transparent;\n",
       "      border-right-color: var(--fill-color);\n",
       "      border-bottom-color: var(--fill-color);\n",
       "    }\n",
       "    90% {\n",
       "      border-color: transparent;\n",
       "      border-bottom-color: var(--fill-color);\n",
       "    }\n",
       "  }\n",
       "</style>\n",
       "\n",
       "  <script>\n",
       "    async function quickchart(key) {\n",
       "      const quickchartButtonEl =\n",
       "        document.querySelector('#' + key + ' button');\n",
       "      quickchartButtonEl.disabled = true;  // To prevent multiple clicks.\n",
       "      quickchartButtonEl.classList.add('colab-df-spinner');\n",
       "      try {\n",
       "        const charts = await google.colab.kernel.invokeFunction(\n",
       "            'suggestCharts', [key], {});\n",
       "      } catch (error) {\n",
       "        console.error('Error during call to suggestCharts:', error);\n",
       "      }\n",
       "      quickchartButtonEl.classList.remove('colab-df-spinner');\n",
       "      quickchartButtonEl.classList.add('colab-df-quickchart-complete');\n",
       "    }\n",
       "    (() => {\n",
       "      let quickchartButtonEl =\n",
       "        document.querySelector('#df-e65fbdf5-af4f-4d05-a34e-7893aadf901b button');\n",
       "      quickchartButtonEl.style.display =\n",
       "        google.colab.kernel.accessAllowed ? 'block' : 'none';\n",
       "    })();\n",
       "  </script>\n",
       "</div>\n",
       "    </div>\n",
       "  </div>\n"
      ],
      "text/plain": [
       "  Transaction_date  Transaction_ID  Gender   Age Marital_status State_names  \\\n",
       "0         1/1/2019          151200  Female  19.0         Single      Kansas   \n",
       "1         1/1/2019          151201    Male  49.0         Single    Illinois   \n",
       "2         1/1/2019          151202    Male  63.0        Married  New Mexico   \n",
       "\n",
       "  Segment Employees_status Payment_method  Referal  Amount_spent  \n",
       "0   Basic     Unemployment          Other      1.0       2051.36  \n",
       "1   Basic    self-employed           Card      0.0        544.04  \n",
       "2   Basic          workers         PayPal      1.0       1572.60  "
      ]
     },
     "execution_count": 9,
     "metadata": {},
     "output_type": "execute_result"
    }
   ],
   "source": [
    "# Load data\n",
    "df = pd.read_csv('online_store_customer_data.csv')\n",
    "df.head(3)"
   ]
  },
  {
   "cell_type": "markdown",
   "metadata": {
    "id": "0iG5EsMELY3O"
   },
   "source": [
    "## 1.1 Data Pre-processing"
   ]
  },
  {
   "cell_type": "code",
   "execution_count": 10,
   "metadata": {
    "colab": {
     "base_uri": "https://localhost:8080/"
    },
    "executionInfo": {
     "elapsed": 12,
     "status": "ok",
     "timestamp": 1698064662268,
     "user": {
      "displayName": "Muhammad Ayub Ansari",
      "userId": "06202953599373905935"
     },
     "user_tz": -60
    },
    "id": "KG2QVttmIp4b",
    "outputId": "f7b501ff-710b-45f4-a741-302f43dbf2f2"
   },
   "outputs": [
    {
     "name": "stdout",
     "output_type": "stream",
     "text": [
      "Data Shape:  (2512, 11)\n",
      "Rows in Data:  2512\n",
      "Columns in Data:  11\n"
     ]
    }
   ],
   "source": [
    "# •\tFind out the number of rows and columns in your data frame by using function shape\n",
    "print(\"Data Shape: \", df.shape)\n",
    "print(\"Rows in Data: \", df.shape[0])\n",
    "print(\"Columns in Data: \", df.shape[1])"
   ]
  },
  {
   "cell_type": "markdown",
   "metadata": {
    "id": "4E_AYp7TLY3T"
   },
   "source": [
    "## 1.2. Missing Values"
   ]
  },
  {
   "cell_type": "code",
   "execution_count": 11,
   "metadata": {
    "colab": {
     "base_uri": "https://localhost:8080/"
    },
    "executionInfo": {
     "elapsed": 10,
     "status": "ok",
     "timestamp": 1698064662268,
     "user": {
      "displayName": "Muhammad Ayub Ansari",
      "userId": "06202953599373905935"
     },
     "user_tz": -60
    },
    "id": "KVckADrwKMFe",
    "outputId": "79b8fd6b-7110-4d3e-b1ae-49a69e9db2bf"
   },
   "outputs": [
    {
     "data": {
      "text/plain": [
       "Transaction_date      0\n",
       "Transaction_ID        0\n",
       "Gender               28\n",
       "Age                  42\n",
       "Marital_status        0\n",
       "State_names           0\n",
       "Segment               0\n",
       "Employees_status     26\n",
       "Payment_method        0\n",
       "Referal             155\n",
       "Amount_spent        242\n",
       "dtype: int64"
      ]
     },
     "execution_count": 11,
     "metadata": {},
     "output_type": "execute_result"
    }
   ],
   "source": [
    "df.isnull().sum()"
   ]
  },
  {
   "cell_type": "code",
   "execution_count": 12,
   "metadata": {
    "executionInfo": {
     "elapsed": 10,
     "status": "ok",
     "timestamp": 1698064662269,
     "user": {
      "displayName": "Muhammad Ayub Ansari",
      "userId": "06202953599373905935"
     },
     "user_tz": -60
    },
    "id": "ZbVoBBwxLY3V"
   },
   "outputs": [],
   "source": [
    "# Drop column Transaction_date from main dataframe\n",
    "df.drop(columns = 'Transaction_date', inplace=True)\n",
    "# Remove rows from data frame where Employee_status values are missing.\n",
    "df.dropna(subset = [\"Employees_status\"], inplace=True)\n",
    "# Replace Amount_spent missing values with the mean value of amount_spent.\n",
    "mean_AS = df['Amount_spent'].mean()\n",
    "df['Amount_spent'].fillna(mean_AS, inplace=True)\n",
    "# Replace missing values in Age with the mean age value.\n",
    "mean_Age = df['Age'].mean()\n",
    "df['Age'].fillna(mean_Age, inplace=True)\n",
    "# Replace missing values in Referal with the mean Referal value.\n",
    "mean_R = df['Referal'].mean()\n",
    "df['Referal'].fillna(mean_R, inplace=True)\n",
    "# Replace missing values in “Employee_status” with the mode value of column “Employee_status”.\n",
    "mode_emp = df['Employees_status'].mode().iloc[0]\n",
    "df['Employees_status'].fillna(mode_emp, inplace=True)\n",
    "# Replace missing values in Gender with the mode value of column Gender.\n",
    "mode_Gender = df['Gender'].mode().iloc[0]\n",
    "df['Gender'].fillna(mode_Gender, inplace=True)"
   ]
  },
  {
   "cell_type": "code",
   "execution_count": 13,
   "metadata": {
    "colab": {
     "base_uri": "https://localhost:8080/"
    },
    "executionInfo": {
     "elapsed": 10,
     "status": "ok",
     "timestamp": 1698064662269,
     "user": {
      "displayName": "Muhammad Ayub Ansari",
      "userId": "06202953599373905935"
     },
     "user_tz": -60
    },
    "id": "JCWMsWkVMEqG",
    "outputId": "f551521f-14ac-42db-a98a-ece246430ff2"
   },
   "outputs": [
    {
     "data": {
      "text/plain": [
       "Transaction_ID      0\n",
       "Gender              0\n",
       "Age                 0\n",
       "Marital_status      0\n",
       "State_names         0\n",
       "Segment             0\n",
       "Employees_status    0\n",
       "Payment_method      0\n",
       "Referal             0\n",
       "Amount_spent        0\n",
       "dtype: int64"
      ]
     },
     "execution_count": 13,
     "metadata": {},
     "output_type": "execute_result"
    }
   ],
   "source": [
    "df.isnull().sum()"
   ]
  },
  {
   "cell_type": "markdown",
   "metadata": {
    "id": "n5saWzeTaYLv"
   },
   "source": [
    "## 1.3. Inconsistant Data"
   ]
  },
  {
   "cell_type": "code",
   "execution_count": 14,
   "metadata": {
    "colab": {
     "base_uri": "https://localhost:8080/"
    },
    "executionInfo": {
     "elapsed": 9,
     "status": "ok",
     "timestamp": 1698064662269,
     "user": {
      "displayName": "Muhammad Ayub Ansari",
      "userId": "06202953599373905935"
     },
     "user_tz": -60
    },
    "id": "q0qODelJYYlw",
    "outputId": "0f110074-1bdb-4257-b4b7-5431ff3bc9f8"
   },
   "outputs": [
    {
     "name": "stdout",
     "output_type": "stream",
     "text": [
      "Data shape before droping rows (2486, 10)\n",
      "Data shape after droping rows (2428, 10)\n"
     ]
    }
   ],
   "source": [
    "# Drop rows where Employees_status is unemployment and Payement_method is other\n",
    "print('Data shape before droping rows', df.shape)\n",
    "df = df.drop(df[(df['Employees_status']=='Unemployment') & (df['Payment_method']=='Other')].index)\n",
    "print('Data shape after droping rows', df.shape)"
   ]
  },
  {
   "cell_type": "markdown",
   "metadata": {
    "id": "8pTcTwdZcyM5"
   },
   "source": [
    "## 1.4. Encodings"
   ]
  },
  {
   "cell_type": "code",
   "execution_count": 15,
   "metadata": {
    "colab": {
     "base_uri": "https://localhost:8080/"
    },
    "executionInfo": {
     "elapsed": 7,
     "status": "ok",
     "timestamp": 1698064662269,
     "user": {
      "displayName": "Muhammad Ayub Ansari",
      "userId": "06202953599373905935"
     },
     "user_tz": -60
    },
    "id": "TsUol56ma3OS",
    "outputId": "424ea84f-d8a9-4270-c827-70986bf7799e"
   },
   "outputs": [
    {
     "name": "stdout",
     "output_type": "stream",
     "text": [
      "<class 'pandas.core.frame.DataFrame'>\n",
      "Int64Index: 2428 entries, 1 to 2511\n",
      "Data columns (total 10 columns):\n",
      " #   Column            Non-Null Count  Dtype  \n",
      "---  ------            --------------  -----  \n",
      " 0   Transaction_ID    2428 non-null   int64  \n",
      " 1   Gender            2428 non-null   object \n",
      " 2   Age               2428 non-null   float64\n",
      " 3   Marital_status    2428 non-null   object \n",
      " 4   State_names       2428 non-null   object \n",
      " 5   Segment           2428 non-null   object \n",
      " 6   Employees_status  2428 non-null   object \n",
      " 7   Payment_method    2428 non-null   object \n",
      " 8   Referal           2428 non-null   float64\n",
      " 9   Amount_spent      2428 non-null   float64\n",
      "dtypes: float64(3), int64(1), object(6)\n",
      "memory usage: 208.7+ KB\n"
     ]
    }
   ],
   "source": [
    "df.info()"
   ]
  },
  {
   "cell_type": "code",
   "execution_count": 16,
   "metadata": {
    "executionInfo": {
     "elapsed": 338,
     "status": "ok",
     "timestamp": 1698064662601,
     "user": {
      "displayName": "Muhammad Ayub Ansari",
      "userId": "06202953599373905935"
     },
     "user_tz": -60
    },
    "id": "2N6duuvYc2dl"
   },
   "outputs": [],
   "source": [
    "# Convert categorical data into numerical data\n",
    "##### Nominal Categorical data\n",
    "# 1. Check the unique values in the column\n",
    "# 2. Replace the categories to appropriate numeric value\n",
    "# Convert nominal categorical data to numerical data using replace\n",
    "df['Gender'] = df['Gender'].replace({'Female': 0, 'Male': 1})\n",
    "# Convert nominal categorical data to numerical data using replace\n",
    "df['Marital_status'] = df['Marital_status'].replace({'Single': 0, 'Married': 1})\n",
    "df['Employees_status'] = df['Employees_status'].replace({'Employees': 0, 'workers': 1,'self-employed': 2, 'Unemployment': 3})\n",
    "df['Payment_method'] = df['Payment_method'].replace({'PayPal': 0, 'Card': 1, 'Other':2})\n",
    "# Convert categorical data to numerical data using cat.codes\n",
    "df['State_names'] = df['State_names'].astype('category')\n",
    "df['State_names'] = df['State_names'].cat.codes\n",
    "# Convery ordinal categorical feature to numeric using one hot encoding\n",
    "# Get one hot encoding of columns B\n",
    "one_hot = pd.get_dummies(df['Segment'])\n",
    "# Drop column B as it is now encoded\n",
    "df = df.drop('Segment',axis = 1)\n",
    "# Join the encoded df\n",
    "df = df.join(one_hot)"
   ]
  },
  {
   "cell_type": "code",
   "execution_count": 17,
   "metadata": {
    "colab": {
     "base_uri": "https://localhost:8080/"
    },
    "executionInfo": {
     "elapsed": 8,
     "status": "ok",
     "timestamp": 1698064662602,
     "user": {
      "displayName": "Muhammad Ayub Ansari",
      "userId": "06202953599373905935"
     },
     "user_tz": -60
    },
    "id": "7HYwkYfnhqvf",
    "outputId": "4cf8074c-604f-42a6-f434-0bae28080d5e"
   },
   "outputs": [
    {
     "name": "stdout",
     "output_type": "stream",
     "text": [
      "<class 'pandas.core.frame.DataFrame'>\n",
      "Int64Index: 2428 entries, 1 to 2511\n",
      "Data columns (total 14 columns):\n",
      " #   Column            Non-Null Count  Dtype  \n",
      "---  ------            --------------  -----  \n",
      " 0   Transaction_ID    2428 non-null   int64  \n",
      " 1   Gender            2428 non-null   int64  \n",
      " 2   Age               2428 non-null   float64\n",
      " 3   Marital_status    2428 non-null   int64  \n",
      " 4   State_names       2428 non-null   int8   \n",
      " 5   Employees_status  2428 non-null   int64  \n",
      " 6   Payment_method    2428 non-null   int64  \n",
      " 7   Referal           2428 non-null   float64\n",
      " 8   Amount_spent      2428 non-null   float64\n",
      " 9   Basic             2428 non-null   uint8  \n",
      " 10  Gold              2428 non-null   uint8  \n",
      " 11  Missing           2428 non-null   uint8  \n",
      " 12  Platinum          2428 non-null   uint8  \n",
      " 13  Silver            2428 non-null   uint8  \n",
      "dtypes: float64(3), int64(5), int8(1), uint8(5)\n",
      "memory usage: 249.5 KB\n"
     ]
    }
   ],
   "source": [
    "df.info()"
   ]
  },
  {
   "cell_type": "markdown",
   "metadata": {
    "id": "O8otpJIWJLpn"
   },
   "source": [
    "# 2. Feature Selection\n"
   ]
  },
  {
   "cell_type": "code",
   "execution_count": 17,
   "metadata": {
    "executionInfo": {
     "elapsed": 7,
     "status": "ok",
     "timestamp": 1698064662602,
     "user": {
      "displayName": "Muhammad Ayub Ansari",
      "userId": "06202953599373905935"
     },
     "user_tz": -60
    },
    "id": "wTjd0oOdJI4R"
   },
   "outputs": [],
   "source": []
  },
  {
   "cell_type": "code",
   "execution_count": 17,
   "metadata": {
    "executionInfo": {
     "elapsed": 7,
     "status": "ok",
     "timestamp": 1698064662602,
     "user": {
      "displayName": "Muhammad Ayub Ansari",
      "userId": "06202953599373905935"
     },
     "user_tz": -60
    },
    "id": "AsVRXl-NM7qg"
   },
   "outputs": [],
   "source": []
  },
  {
   "cell_type": "markdown",
   "metadata": {
    "id": "oiKuxUzhKMKD"
   },
   "source": [
    "# 3. Splitting the data"
   ]
  },
  {
   "cell_type": "code",
   "execution_count": 17,
   "metadata": {
    "executionInfo": {
     "elapsed": 6,
     "status": "ok",
     "timestamp": 1698064662602,
     "user": {
      "displayName": "Muhammad Ayub Ansari",
      "userId": "06202953599373905935"
     },
     "user_tz": -60
    },
    "id": "GlwenT9RKOUG"
   },
   "outputs": [],
   "source": []
  },
  {
   "cell_type": "markdown",
   "metadata": {
    "id": "PhdPvNeKKPvQ"
   },
   "source": [
    "# 4. Building Decision Tree Model"
   ]
  },
  {
   "cell_type": "code",
   "execution_count": 17,
   "metadata": {
    "executionInfo": {
     "elapsed": 6,
     "status": "ok",
     "timestamp": 1698064662602,
     "user": {
      "displayName": "Muhammad Ayub Ansari",
      "userId": "06202953599373905935"
     },
     "user_tz": -60
    },
    "id": "Y1Mf8Ac3J1Zu"
   },
   "outputs": [],
   "source": []
  },
  {
   "cell_type": "markdown",
   "metadata": {
    "id": "OUCHmd__Knck"
   },
   "source": [
    "# 5. Classification Report"
   ]
  },
  {
   "cell_type": "code",
   "execution_count": 17,
   "metadata": {
    "executionInfo": {
     "elapsed": 6,
     "status": "ok",
     "timestamp": 1698064662603,
     "user": {
      "displayName": "Muhammad Ayub Ansari",
      "userId": "06202953599373905935"
     },
     "user_tz": -60
    },
    "id": "Gyrhqm7KJwaL"
   },
   "outputs": [],
   "source": []
  },
  {
   "cell_type": "markdown",
   "metadata": {
    "id": "KDMzn2QGQIb1"
   },
   "source": [
    "# 6. Feature Importance"
   ]
  },
  {
   "cell_type": "code",
   "execution_count": 17,
   "metadata": {
    "executionInfo": {
     "elapsed": 6,
     "status": "ok",
     "timestamp": 1698064662603,
     "user": {
      "displayName": "Muhammad Ayub Ansari",
      "userId": "06202953599373905935"
     },
     "user_tz": -60
    },
    "id": "cloOpeTqlMBz"
   },
   "outputs": [],
   "source": []
  },
  {
   "cell_type": "code",
   "execution_count": 17,
   "metadata": {
    "executionInfo": {
     "elapsed": 6,
     "status": "ok",
     "timestamp": 1698064662603,
     "user": {
      "displayName": "Muhammad Ayub Ansari",
      "userId": "06202953599373905935"
     },
     "user_tz": -60
    },
    "id": "j60QeWfU0XiI"
   },
   "outputs": [],
   "source": []
  },
  {
   "cell_type": "code",
   "execution_count": 17,
   "metadata": {
    "executionInfo": {
     "elapsed": 5,
     "status": "ok",
     "timestamp": 1698064662603,
     "user": {
      "displayName": "Muhammad Ayub Ansari",
      "userId": "06202953599373905935"
     },
     "user_tz": -60
    },
    "id": "F8i5gFPZ0XkC"
   },
   "outputs": [],
   "source": []
  }
 ],
 "metadata": {
  "colab": {
   "authorship_tag": "ABX9TyO+T9MHLCMQt919JTt4s3Kn",
   "mount_file_id": "1-Ft2DKhAbsJut6MXbAmWct5P56GEDxGO",
   "provenance": [
    {
     "file_id": "1dUZjY07uH6sJYTkSqeR929v0MLuLey4A",
     "timestamp": 1697397099963
    }
   ]
  },
  "kernelspec": {
   "display_name": "Python 3 (ipykernel)",
   "language": "python",
   "name": "python3"
  },
  "language_info": {
   "codemirror_mode": {
    "name": "ipython",
    "version": 3
   },
   "file_extension": ".py",
   "mimetype": "text/x-python",
   "name": "python",
   "nbconvert_exporter": "python",
   "pygments_lexer": "ipython3",
   "version": "3.11.5"
  }
 },
 "nbformat": 4,
 "nbformat_minor": 1
}
