{
 "cells": [
  {
   "cell_type": "code",
   "execution_count": null,
   "id": "1a0d43a4",
   "metadata": {},
   "outputs": [],
   "source": [
    "from sklearn.model_selection import train_test_split\n",
    "from sklearn import metrics\n",
    "from sklearn.tree import DecisionTreeClassifier"
   ]
  },
  {
   "cell_type": "code",
   "execution_count": null,
   "id": "6f57f3cf",
   "metadata": {},
   "outputs": [],
   "source": [
    "from sklearn.feature_selection import SequentialFeatureSelector\n",
    "from sklearn.linear_model import LogisticRegression\n",
    "from sklearn.datasets import load_breast_cancer"
   ]
  },
  {
   "cell_type": "code",
   "execution_count": null,
   "id": "d63900e0",
   "metadata": {},
   "outputs": [],
   "source": [
    "# Load dataset\n",
    "df = load_breast_cancer()\n",
    "X = df.data\n",
    "y = df.target"
   ]
  },
  {
   "cell_type": "code",
   "execution_count": null,
   "id": "34cda0d9",
   "metadata": {},
   "outputs": [],
   "source": [
    "X.shape"
   ]
  },
  {
   "cell_type": "markdown",
   "id": "83cd9b6f",
   "metadata": {},
   "source": [
    "## Model performance with all 30 features"
   ]
  },
  {
   "cell_type": "code",
   "execution_count": null,
   "id": "0541c0a4",
   "metadata": {},
   "outputs": [],
   "source": [
    "#Dataset split into training and test data\n",
    "X_train, X_test, y_train, y_test = train_test_split(X, y, test_size=0.3,stratify=y, random_state=1)"
   ]
  },
  {
   "cell_type": "code",
   "execution_count": null,
   "id": "f87945cd",
   "metadata": {},
   "outputs": [],
   "source": [
    "# decision tree construction\n",
    "model = DecisionTreeClassifier(criterion = 'entropy', random_state=1)\n",
    "model= model.fit(X_train, y_train)"
   ]
  },
  {
   "cell_type": "markdown",
   "id": "dbb6d193",
   "metadata": {},
   "source": [
    "## Model Evaluation"
   ]
  },
  {
   "cell_type": "code",
   "execution_count": null,
   "id": "4fa8a03d",
   "metadata": {},
   "outputs": [],
   "source": [
    "#prediction\n",
    "y_pred = model.predict(X_test)\n",
    "#accuracy\n",
    "data_accuracy = metrics.accuracy_score(y_test, y_pred)\n",
    "print(\"Data Accuracy:\",data_accuracy)"
   ]
  },
  {
   "cell_type": "code",
   "execution_count": null,
   "id": "93f466af",
   "metadata": {
    "scrolled": false
   },
   "outputs": [],
   "source": [
    "print(metrics.classification_report(y_test, y_pred,digits=2,output_dict=False))"
   ]
  },
  {
   "cell_type": "code",
   "execution_count": null,
   "id": "48487416",
   "metadata": {},
   "outputs": [],
   "source": []
  },
  {
   "cell_type": "markdown",
   "id": "143eb1a3",
   "metadata": {},
   "source": [
    "# Wrapper Method_Forward selection"
   ]
  },
  {
   "cell_type": "code",
   "execution_count": null,
   "id": "74ae452f",
   "metadata": {},
   "outputs": [],
   "source": [
    "# Perform forward feature selection\n",
    "forward_selector = SequentialFeatureSelector(model, n_features_to_select=10, direction='forward')\n",
    "forward_selector.fit(X, y)\n",
    "\n",
    "# Get the selected features\n",
    "selected_features_forward = forward_selector.get_support(indices=True)\n",
    "print(\"Selected features (forward selection):\", selected_features_forward)"
   ]
  },
  {
   "cell_type": "markdown",
   "id": "7a26768a",
   "metadata": {},
   "source": [
    "## Model performance with the subset"
   ]
  },
  {
   "cell_type": "code",
   "execution_count": null,
   "id": "5e298441",
   "metadata": {},
   "outputs": [],
   "source": [
    "X_train, X_test, y_train, y_test = train_test_split(X[:,selected_features_forward], y, test_size=0.3,stratify=y, random_state=1)"
   ]
  },
  {
   "cell_type": "code",
   "execution_count": null,
   "id": "a7fb6896",
   "metadata": {},
   "outputs": [],
   "source": [
    "model= model.fit(X_train, y_train)\n",
    "#prediction\n",
    "y_pred = model.predict(X_test)\n",
    "#accuracy\n",
    "data_accuracy = metrics.accuracy_score(y_test, y_pred)\n",
    "print(\"Data Accuracy:\",data_accuracy)"
   ]
  },
  {
   "cell_type": "code",
   "execution_count": null,
   "id": "596252d5",
   "metadata": {
    "scrolled": false
   },
   "outputs": [],
   "source": [
    "print(metrics.classification_report(y_test, y_pred,digits=2,output_dict=False))"
   ]
  },
  {
   "cell_type": "markdown",
   "id": "aad35b24",
   "metadata": {},
   "source": [
    "# Wrapper Method_Backward selection"
   ]
  },
  {
   "cell_type": "code",
   "execution_count": null,
   "id": "c2e9b712",
   "metadata": {},
   "outputs": [],
   "source": [
    "# Perform backward feature selection\n",
    "backward_selector = SequentialFeatureSelector(model, n_features_to_select=10, direction='backward')\n",
    "backward_selector.fit(X, y)\n",
    "\n",
    "# Get the selected features\n",
    "selected_features_backward = backward_selector.get_support(indices=True)\n",
    "print(\"Selected features (backward selection):\", selected_features_backward)"
   ]
  },
  {
   "cell_type": "markdown",
   "id": "4d15d398",
   "metadata": {},
   "source": [
    "## Model performance with the subset"
   ]
  },
  {
   "cell_type": "code",
   "execution_count": null,
   "id": "b608c855",
   "metadata": {},
   "outputs": [],
   "source": [
    "X_train, X_test, y_train, y_test = train_test_split(X[:,selected_features_backward], y, test_size=0.3,stratify=y, random_state=1)"
   ]
  },
  {
   "cell_type": "code",
   "execution_count": null,
   "id": "caf44798",
   "metadata": {},
   "outputs": [],
   "source": [
    "model= model.fit(X_train, y_train)\n",
    "#prediction\n",
    "y_pred = model.predict(X_test)\n",
    "#accuracy\n",
    "data_accuracy = metrics.accuracy_score(y_test, y_pred)\n",
    "print(\"Data Accuracy:\",data_accuracy)"
   ]
  },
  {
   "cell_type": "code",
   "execution_count": null,
   "id": "4215d961",
   "metadata": {
    "scrolled": false
   },
   "outputs": [],
   "source": [
    "print(metrics.classification_report(y_test, y_pred,digits=2,output_dict=False))"
   ]
  },
  {
   "cell_type": "markdown",
   "id": "20a41f00",
   "metadata": {},
   "source": [
    "# Filter Methods_Feature selection"
   ]
  },
  {
   "cell_type": "code",
   "execution_count": null,
   "id": "1cff0d8b",
   "metadata": {},
   "outputs": [],
   "source": [
    "from sklearn.feature_selection import VarianceThreshold\n",
    "\n",
    "# Applying Variance Threshold\n",
    "selector = VarianceThreshold(threshold=0.2)\n",
    "X_variance_filtered = selector.fit_transform(X)\n",
    "\n",
    "print(\"Selected features (variance threshold):\", selector.get_support(indices=True))\n",
    "X_variance_filtered.shape"
   ]
  },
  {
   "cell_type": "markdown",
   "id": "f769506c",
   "metadata": {},
   "source": [
    "## Model performance with the subset"
   ]
  },
  {
   "cell_type": "code",
   "execution_count": null,
   "id": "1b6f071c",
   "metadata": {},
   "outputs": [],
   "source": [
    "X_train, X_test, y_train, y_test = train_test_split(X_variance_filtered, y, test_size=0.3,stratify=y, random_state=1)"
   ]
  },
  {
   "cell_type": "code",
   "execution_count": null,
   "id": "0b1546d5",
   "metadata": {},
   "outputs": [],
   "source": [
    "model= model.fit(X_train, y_train)\n",
    "#prediction\n",
    "y_pred = model.predict(X_test)\n",
    "#accuracy\n",
    "data_accuracy = metrics.accuracy_score(y_test, y_pred)\n",
    "print(\"Data Accuracy:\",data_accuracy)"
   ]
  },
  {
   "cell_type": "code",
   "execution_count": null,
   "id": "28a10067",
   "metadata": {
    "scrolled": true
   },
   "outputs": [],
   "source": [
    "print(metrics.classification_report(y_test, y_pred,digits=2,output_dict=False))"
   ]
  },
  {
   "cell_type": "code",
   "execution_count": null,
   "id": "416deb56",
   "metadata": {},
   "outputs": [],
   "source": []
  },
  {
   "cell_type": "code",
   "execution_count": null,
   "id": "988e409f",
   "metadata": {},
   "outputs": [],
   "source": [
    "from sklearn.feature_selection import SelectKBest, chi2\n",
    "from sklearn.preprocessing import MinMaxScaler\n",
    "\n",
    "# Normalise the data to the range [0, 1] for chi-squared test\n",
    "scaler = MinMaxScaler()\n",
    "X_scaled = scaler.fit_transform(X)\n",
    "\n",
    "# Applying Chi-Squared test\n",
    "chi2_selector = SelectKBest(chi2, k=10)\n",
    "X_chi2_filtered = chi2_selector.fit_transform(X_scaled, y)\n",
    "\n",
    "print(\"Selected features (chi-squared test):\", chi2_selector.get_support(indices=True))"
   ]
  },
  {
   "cell_type": "markdown",
   "id": "4437127a",
   "metadata": {},
   "source": [
    "## Model performance with the subset"
   ]
  },
  {
   "cell_type": "code",
   "execution_count": null,
   "id": "94931cb0",
   "metadata": {},
   "outputs": [],
   "source": [
    "X_train, X_test, y_train, y_test = train_test_split(X_chi2_filtered, y, test_size=0.3,stratify=y, random_state=1)"
   ]
  },
  {
   "cell_type": "code",
   "execution_count": null,
   "id": "a7adbf16",
   "metadata": {},
   "outputs": [],
   "source": [
    "model= model.fit(X_train, y_train)\n",
    "#prediction\n",
    "y_pred = model.predict(X_test)\n",
    "#accuracy\n",
    "data_accuracy = metrics.accuracy_score(y_test, y_pred)\n",
    "print(\"Data Accuracy:\",data_accuracy)"
   ]
  },
  {
   "cell_type": "code",
   "execution_count": null,
   "id": "3f6993c0",
   "metadata": {
    "scrolled": true
   },
   "outputs": [],
   "source": [
    "print(metrics.classification_report(y_test, y_pred,digits=2,output_dict=False))"
   ]
  },
  {
   "cell_type": "markdown",
   "id": "097e74d0",
   "metadata": {},
   "source": [
    "# Comment on: 1. Does feature subset selection improve the decisiontree model performance? "
   ]
  },
  {
   "cell_type": "code",
   "execution_count": null,
   "id": "9ec23380",
   "metadata": {},
   "outputs": [],
   "source": []
  },
  {
   "cell_type": "markdown",
   "id": "a0b0c391",
   "metadata": {},
   "source": [
    "#  2. If so, which feature selection method suits this dataset?"
   ]
  },
  {
   "cell_type": "code",
   "execution_count": null,
   "id": "329a5c7d",
   "metadata": {},
   "outputs": [],
   "source": []
  }
 ],
 "metadata": {
  "kernelspec": {
   "display_name": "Python 3 (ipykernel)",
   "language": "python",
   "name": "python3"
  },
  "language_info": {
   "codemirror_mode": {
    "name": "ipython",
    "version": 3
   },
   "file_extension": ".py",
   "mimetype": "text/x-python",
   "name": "python",
   "nbconvert_exporter": "python",
   "pygments_lexer": "ipython3",
   "version": "3.11.5"
  }
 },
 "nbformat": 4,
 "nbformat_minor": 5
}
