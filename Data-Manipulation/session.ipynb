{
 "cells": [
  {
   "cell_type": "markdown",
   "metadata": {},
   "source": [
    "Session Start"
   ]
  },
  {
   "cell_type": "markdown",
   "metadata": {},
   "source": [
    "Import Pandas Library into the system"
   ]
  },
  {
   "cell_type": "code",
   "execution_count": 15,
   "metadata": {},
   "outputs": [],
   "source": [
    "import pandas as pd"
   ]
  },
  {
   "cell_type": "code",
   "execution_count": 16,
   "metadata": {},
   "outputs": [],
   "source": [
    "# we can set numbers for how many rows and columns will be displayed\n",
    "pd.set_option('display.min_rows', 10) #default will be 10 \n",
    "pd.set_option('display.max_columns', 20)"
   ]
  },
  {
   "cell_type": "markdown",
   "metadata": {},
   "source": [
    "Creating a DataFrame"
   ]
  },
  {
   "cell_type": "code",
   "execution_count": 17,
   "metadata": {},
   "outputs": [],
   "source": [
    "my_dataframe = {\n",
    "\n",
    "    'brands' : ['Nike', 'Adidas', 'Puma', 'Hugo Boss', 'Skechers'],\n",
    "    'rating' : [9, 7, 3, 10, 8],\n",
    "    'worth' : [True, True, False, True, False]\n",
    "\n",
    "}"
   ]
  },
  {
   "cell_type": "code",
   "execution_count": 5,
   "metadata": {},
   "outputs": [
    {
     "name": "stdout",
     "output_type": "stream",
     "text": [
      "      brands  rating  worth\n",
      "0       Nike       9   True\n",
      "1     Adidas       7   True\n",
      "2       Puma       3  False\n",
      "3  Hugo Boss      10   True\n",
      "4   Skechers       8  False\n"
     ]
    }
   ],
   "source": [
    "dataframe = pd.DataFrame(my_dataframe)\n",
    "\n",
    "print(dataframe)"
   ]
  },
  {
   "cell_type": "code",
   "execution_count": 6,
   "metadata": {},
   "outputs": [
    {
     "name": "stdout",
     "output_type": "stream",
     "text": [
      "   brands  rating  worth\n",
      "0    Nike       9   True\n",
      "1  Adidas       7   True\n"
     ]
    }
   ],
   "source": [
    "print(dataframe.loc[[0,1]])"
   ]
  },
  {
   "cell_type": "markdown",
   "metadata": {},
   "source": [
    "Working with columns"
   ]
  },
  {
   "cell_type": "code",
   "execution_count": 18,
   "metadata": {},
   "outputs": [
    {
     "name": "stdout",
     "output_type": "stream",
     "text": [
      "Index(['brands', 'rating', 'Buy'], dtype='object')\n",
      "brands\n"
     ]
    }
   ],
   "source": [
    "print(dataframe.columns) # display all columns\n",
    "print(dataframe.columns[0]) # Display n cloumn\n",
    "dataframe.rename(columns={'worth' : 'Buy'},inplace=True) # Rename a columns\n"
   ]
  },
  {
   "cell_type": "markdown",
   "metadata": {},
   "source": [
    "Deleting or selecting rows by values in a column"
   ]
  },
  {
   "cell_type": "code",
   "execution_count": 25,
   "metadata": {},
   "outputs": [
    {
     "name": "stdout",
     "output_type": "stream",
     "text": [
      "  Transaction_date  Transaction_ID  Gender   Age Marital_status  State_names  \\\n",
      "0         1/1/2019          151200  Female  19.0         Single       Kansas   \n",
      "1         1/1/2019          151201    Male  49.0         Single     Illinois   \n",
      "3         1/1/2019          151203     NaN  18.0         Single     Virginia   \n",
      "4         1/1/2019          151204    Male  27.0         Single  Connecticut   \n",
      "5         1/3/2019          151205    Male  71.0         Single       Hawaii   \n",
      "\n",
      "    Segment Employees_status Payment_method  Referal  Amount_spent  \n",
      "0     Basic     Unemployment          Other      1.0       2051.36  \n",
      "1     Basic    self-employed           Card      0.0        544.04  \n",
      "3  Platinum          workers           Card      1.0       1199.79  \n",
      "4     Basic    self-employed           Card      0.0           NaN  \n",
      "5     Basic        Employees         PayPal      1.0       2922.66  \n"
     ]
    }
   ],
   "source": [
    "df = pd.read_csv('./online_store_customer_data.csv')\n",
    "temporary_dataframe = df[df['Marital_status'] == 'Single']\n",
    "print(temporary_dataframe.head())\n",
    "\n"
   ]
  }
 ],
 "metadata": {
  "kernelspec": {
   "display_name": "base",
   "language": "python",
   "name": "python3"
  },
  "language_info": {
   "codemirror_mode": {
    "name": "ipython",
    "version": 3
   },
   "file_extension": ".py",
   "mimetype": "text/x-python",
   "name": "python",
   "nbconvert_exporter": "python",
   "pygments_lexer": "ipython3",
   "version": "3.12.4"
  }
 },
 "nbformat": 4,
 "nbformat_minor": 2
}
