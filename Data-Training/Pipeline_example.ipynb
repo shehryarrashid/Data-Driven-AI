{
 "cells": [
  {
   "cell_type": "code",
   "execution_count": null,
   "id": "b9998117",
   "metadata": {},
   "outputs": [],
   "source": [
    "from sklearn.preprocessing import StandardScaler\n",
    "from sklearn.linear_model import LogisticRegression\n",
    "from sklearn.pipeline import Pipeline\n",
    "from sklearn.model_selection import train_test_split\n",
    "from sklearn.datasets import load_iris"
   ]
  },
  {
   "cell_type": "code",
   "execution_count": null,
   "id": "d906c086",
   "metadata": {},
   "outputs": [],
   "source": [
    "# Load dataset\n",
    "data = load_iris()\n",
    "X, y = data.data, data.target"
   ]
  },
  {
   "cell_type": "code",
   "execution_count": null,
   "id": "8e7c74cf",
   "metadata": {},
   "outputs": [],
   "source": [
    "# Split data into training and testing\n",
    "X_train, X_test, y_train, y_test = train_test_split(X, y, test_size=0.2, random_state=42)"
   ]
  },
  {
   "cell_type": "code",
   "execution_count": null,
   "id": "c51a6d62",
   "metadata": {},
   "outputs": [],
   "source": [
    "# Define pipeline with a scaler and classifier\n",
    "pipe = Pipeline([\n",
    "    ('scaler', StandardScaler()),  # Step 1: Scales data\n",
    "    ('classifier', LogisticRegression())  # Step 2: Logistic Regression model\n",
    "    ])"
   ]
  },
  {
   "cell_type": "code",
   "execution_count": null,
   "id": "d52ccba8",
   "metadata": {},
   "outputs": [],
   "source": [
    "# Fit the pipeline on training data\n",
    "pipe.fit(X_train, y_train)"
   ]
  },
  {
   "cell_type": "code",
   "execution_count": null,
   "id": "c7f95a1b",
   "metadata": {},
   "outputs": [],
   "source": [
    "# Score the pipeline on test data\n",
    "score = pipe.score(X_test, y_test)\n",
    "print(f\"Model Accuracy: {score}\")"
   ]
  },
  {
   "cell_type": "code",
   "execution_count": null,
   "id": "75095bac",
   "metadata": {},
   "outputs": [],
   "source": []
  }
 ],
 "metadata": {
  "kernelspec": {
   "display_name": "Python 3 (ipykernel)",
   "language": "python",
   "name": "python3"
  },
  "language_info": {
   "codemirror_mode": {
    "name": "ipython",
    "version": 3
   },
   "file_extension": ".py",
   "mimetype": "text/x-python",
   "name": "python",
   "nbconvert_exporter": "python",
   "pygments_lexer": "ipython3",
   "version": "3.11.5"
  }
 },
 "nbformat": 4,
 "nbformat_minor": 5
}
